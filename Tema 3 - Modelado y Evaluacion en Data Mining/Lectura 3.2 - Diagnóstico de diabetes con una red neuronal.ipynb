{
 "cells": [
  {
   "cell_type": "markdown",
   "metadata": {},
   "source": [
    "Autor:  \n",
    "Manuel Eugenio Morocho Cayamcela, PhD"
   ]
  },
  {
   "cell_type": "markdown",
   "metadata": {},
   "source": [
    "# **Lectura 3.2:** \n",
    "## Predicción de diabetes utilizando una red neuronal"
   ]
  },
  {
   "cell_type": "markdown",
   "metadata": {},
   "source": [
    "En este caso práctico, vas a construir una red neuronal simple para tener una idea de qué tan rápido es lograr esto en Keras.\n",
    "\n",
    "Construirás una red neuronal que toma ocho características como entrada, una primera capa oculta con 12 neuronas y activación RELU, una segunda capa oculta con 8 neuronas y activación RELU, y finalmente una neurona de salida con activación sigmoid."
   ]
  },
  {
   "cell_type": "markdown",
   "metadata": {},
   "source": [
    "### Preparamos la base de datos y la dividimos en sub-conjuntos de entrenamiento y prueba"
   ]
  },
  {
   "cell_type": "code",
   "execution_count": null,
   "metadata": {},
   "outputs": [],
   "source": [
    "#Instalamos las librerías necesarias para el funcionamiento del script\n",
    "\n",
    "!pip install scikit-learn\n",
    "!python3 -m pip install tensorflow\n",
    "import tensorflow as tf\n",
    "import pandas as pd\n",
    "print(tf.__version__)"
   ]
  },
  {
   "cell_type": "markdown",
   "metadata": {},
   "source": [
    "#### Importamos el dataset"
   ]
  },
  {
   "cell_type": "code",
   "execution_count": 3,
   "metadata": {},
   "outputs": [
    {
     "data": {
      "text/html": [
       "<div>\n",
       "<style scoped>\n",
       "    .dataframe tbody tr th:only-of-type {\n",
       "        vertical-align: middle;\n",
       "    }\n",
       "\n",
       "    .dataframe tbody tr th {\n",
       "        vertical-align: top;\n",
       "    }\n",
       "\n",
       "    .dataframe thead th {\n",
       "        text-align: right;\n",
       "    }\n",
       "</style>\n",
       "<table border=\"1\" class=\"dataframe\">\n",
       "  <thead>\n",
       "    <tr style=\"text-align: right;\">\n",
       "      <th></th>\n",
       "      <th>pregnancies</th>\n",
       "      <th>glucose</th>\n",
       "      <th>diastolic</th>\n",
       "      <th>triceps</th>\n",
       "      <th>insulin</th>\n",
       "      <th>bmi</th>\n",
       "      <th>dpf</th>\n",
       "      <th>age</th>\n",
       "      <th>diabetes</th>\n",
       "    </tr>\n",
       "  </thead>\n",
       "  <tbody>\n",
       "    <tr>\n",
       "      <th>0</th>\n",
       "      <td>6</td>\n",
       "      <td>148</td>\n",
       "      <td>72</td>\n",
       "      <td>35</td>\n",
       "      <td>0</td>\n",
       "      <td>33.6</td>\n",
       "      <td>0.627</td>\n",
       "      <td>50</td>\n",
       "      <td>1</td>\n",
       "    </tr>\n",
       "    <tr>\n",
       "      <th>1</th>\n",
       "      <td>1</td>\n",
       "      <td>85</td>\n",
       "      <td>66</td>\n",
       "      <td>29</td>\n",
       "      <td>0</td>\n",
       "      <td>26.6</td>\n",
       "      <td>0.351</td>\n",
       "      <td>31</td>\n",
       "      <td>0</td>\n",
       "    </tr>\n",
       "    <tr>\n",
       "      <th>2</th>\n",
       "      <td>8</td>\n",
       "      <td>183</td>\n",
       "      <td>64</td>\n",
       "      <td>0</td>\n",
       "      <td>0</td>\n",
       "      <td>23.3</td>\n",
       "      <td>0.672</td>\n",
       "      <td>32</td>\n",
       "      <td>1</td>\n",
       "    </tr>\n",
       "    <tr>\n",
       "      <th>3</th>\n",
       "      <td>1</td>\n",
       "      <td>89</td>\n",
       "      <td>66</td>\n",
       "      <td>23</td>\n",
       "      <td>94</td>\n",
       "      <td>28.1</td>\n",
       "      <td>0.167</td>\n",
       "      <td>21</td>\n",
       "      <td>0</td>\n",
       "    </tr>\n",
       "    <tr>\n",
       "      <th>4</th>\n",
       "      <td>0</td>\n",
       "      <td>137</td>\n",
       "      <td>40</td>\n",
       "      <td>35</td>\n",
       "      <td>168</td>\n",
       "      <td>43.1</td>\n",
       "      <td>2.288</td>\n",
       "      <td>33</td>\n",
       "      <td>1</td>\n",
       "    </tr>\n",
       "  </tbody>\n",
       "</table>\n",
       "</div>"
      ],
      "text/plain": [
       "   pregnancies  glucose  diastolic  triceps  insulin   bmi    dpf  age  \\\n",
       "0            6      148         72       35        0  33.6  0.627   50   \n",
       "1            1       85         66       29        0  26.6  0.351   31   \n",
       "2            8      183         64        0        0  23.3  0.672   32   \n",
       "3            1       89         66       23       94  28.1  0.167   21   \n",
       "4            0      137         40       35      168  43.1  2.288   33   \n",
       "\n",
       "   diabetes  \n",
       "0         1  \n",
       "1         0  \n",
       "2         1  \n",
       "3         0  \n",
       "4         1  "
      ]
     },
     "execution_count": 3,
     "metadata": {},
     "output_type": "execute_result"
    }
   ],
   "source": [
    "#Importamos la base de datos\n",
    "\n",
    "diabetes_df = pd.read_csv('/Users/eugenio/Library/CloudStorage/OneDrive-Personal/UIDE/2024 Maestría Ciencia de Datos y Máquinas de Aprendizaje mención IA/Contenidos/Notebooks_DataMining/Bases de Datos/diabetes.csv')\n",
    "diabetes_df.head()"
   ]
  },
  {
   "cell_type": "markdown",
   "metadata": {},
   "source": [
    "#### Separamos las variables independientes (características, predictores, 'X') de las variables dependientes (etiquetas, objetivo, y)"
   ]
  },
  {
   "cell_type": "markdown",
   "metadata": {},
   "source": [
    "Preparamos el conjunto de datos para el modelado con una red neuronal, eliminamos la columna 'diabetes' es el objetivo o la variable que se está tratando de predecir.\n",
    "\n",
    "- `diabetes_df.drop('diabetes', axis=1)`: está eliminando la columna 'diabetes' del DataFrame `diabetes_df`. La función `drop` de pandas se utiliza para eliminar filas o columnas. En este caso, estás eliminando una columna, por lo que `axis=1`. Si quisieras eliminar una fila, usarías `axis=0`. El resultado de esta operación es un nuevo DataFrame que no incluye la columna 'diabetes'. Este nuevo DataFrame se lo guarda en la variable `X_diabetes` para usarse como las características (X) en la red neuronal."
   ]
  },
  {
   "cell_type": "code",
   "execution_count": 8,
   "metadata": {},
   "outputs": [
    {
     "data": {
      "text/html": [
       "<div>\n",
       "<style scoped>\n",
       "    .dataframe tbody tr th:only-of-type {\n",
       "        vertical-align: middle;\n",
       "    }\n",
       "\n",
       "    .dataframe tbody tr th {\n",
       "        vertical-align: top;\n",
       "    }\n",
       "\n",
       "    .dataframe thead th {\n",
       "        text-align: right;\n",
       "    }\n",
       "</style>\n",
       "<table border=\"1\" class=\"dataframe\">\n",
       "  <thead>\n",
       "    <tr style=\"text-align: right;\">\n",
       "      <th></th>\n",
       "      <th>pregnancies</th>\n",
       "      <th>glucose</th>\n",
       "      <th>diastolic</th>\n",
       "      <th>triceps</th>\n",
       "      <th>insulin</th>\n",
       "      <th>bmi</th>\n",
       "      <th>dpf</th>\n",
       "      <th>age</th>\n",
       "    </tr>\n",
       "  </thead>\n",
       "  <tbody>\n",
       "    <tr>\n",
       "      <th>0</th>\n",
       "      <td>6</td>\n",
       "      <td>148</td>\n",
       "      <td>72</td>\n",
       "      <td>35</td>\n",
       "      <td>0</td>\n",
       "      <td>33.6</td>\n",
       "      <td>0.627</td>\n",
       "      <td>50</td>\n",
       "    </tr>\n",
       "    <tr>\n",
       "      <th>1</th>\n",
       "      <td>1</td>\n",
       "      <td>85</td>\n",
       "      <td>66</td>\n",
       "      <td>29</td>\n",
       "      <td>0</td>\n",
       "      <td>26.6</td>\n",
       "      <td>0.351</td>\n",
       "      <td>31</td>\n",
       "    </tr>\n",
       "    <tr>\n",
       "      <th>2</th>\n",
       "      <td>8</td>\n",
       "      <td>183</td>\n",
       "      <td>64</td>\n",
       "      <td>0</td>\n",
       "      <td>0</td>\n",
       "      <td>23.3</td>\n",
       "      <td>0.672</td>\n",
       "      <td>32</td>\n",
       "    </tr>\n",
       "    <tr>\n",
       "      <th>3</th>\n",
       "      <td>1</td>\n",
       "      <td>89</td>\n",
       "      <td>66</td>\n",
       "      <td>23</td>\n",
       "      <td>94</td>\n",
       "      <td>28.1</td>\n",
       "      <td>0.167</td>\n",
       "      <td>21</td>\n",
       "    </tr>\n",
       "    <tr>\n",
       "      <th>4</th>\n",
       "      <td>0</td>\n",
       "      <td>137</td>\n",
       "      <td>40</td>\n",
       "      <td>35</td>\n",
       "      <td>168</td>\n",
       "      <td>43.1</td>\n",
       "      <td>2.288</td>\n",
       "      <td>33</td>\n",
       "    </tr>\n",
       "  </tbody>\n",
       "</table>\n",
       "</div>"
      ],
      "text/plain": [
       "   pregnancies  glucose  diastolic  triceps  insulin   bmi    dpf  age\n",
       "0            6      148         72       35        0  33.6  0.627   50\n",
       "1            1       85         66       29        0  26.6  0.351   31\n",
       "2            8      183         64        0        0  23.3  0.672   32\n",
       "3            1       89         66       23       94  28.1  0.167   21\n",
       "4            0      137         40       35      168  43.1  2.288   33"
      ]
     },
     "execution_count": 8,
     "metadata": {},
     "output_type": "execute_result"
    }
   ],
   "source": [
    "# Seleccionamos las columnas predictoras\n",
    "\n",
    "X_diabetes = diabetes_df.drop('diabetes', axis=1)\n",
    "X_diabetes.head()"
   ]
  },
  {
   "cell_type": "markdown",
   "metadata": {},
   "source": [
    "Seleccionamos la columna 'diabetes' del DataFrame `diabetes_df` y la asignamos a la variable `y_diabetes`.\n",
    "\n",
    "- `diabetes_df['diabetes']`: está seleccionando la columna 'diabetes' del DataFrame `diabetes_df`. En pandas, puedes seleccionar una sola columna de un DataFrame utilizando la sintaxis `df['column_name']`.\n",
    "\n",
    "- Asignamos la columna 'diabetes' a la variable `y_diabetes`. Esta variable se utilizará como la variable objetivo (y) en la red neuronal."
   ]
  },
  {
   "cell_type": "code",
   "execution_count": 4,
   "metadata": {},
   "outputs": [
    {
     "data": {
      "text/plain": [
       "0    1\n",
       "1    0\n",
       "2    1\n",
       "3    0\n",
       "4    1\n",
       "Name: diabetes, dtype: int64"
      ]
     },
     "execution_count": 4,
     "metadata": {},
     "output_type": "execute_result"
    }
   ],
   "source": [
    "# Seleccionamos la columna diabetes como variable objetivo\n",
    "\n",
    "y_diabetes = diabetes_df['diabetes']\n",
    "y_diabetes.head()"
   ]
  },
  {
   "cell_type": "markdown",
   "metadata": {},
   "source": [
    "#### Separamos la base de datos en conjuntos de entrenamiento y de prueba"
   ]
  },
  {
   "cell_type": "markdown",
   "metadata": {},
   "source": [
    "Utilizamos la función `train_test_split` de la biblioteca sklearn en Python para dividir el conjunto de datos en conjuntos de entrenamiento y prueba.\n",
    "\n",
    "- `from sklearn.model_selection import train_test_split`: Esta línea está importando la función `train_test_split` de la biblioteca sklearn. Esta función se utiliza para dividir conjuntos de datos en conjuntos de entrenamiento y prueba.\n",
    "\n",
    "- `X_train, X_test, y_train, y_test = train_test_split(X_diabetes, y_diabetes, test_size=0.3)`: Esta línea está utilizando la función `train_test_split` para dividir `X_diabetes` y `y_diabetes` en conjuntos de entrenamiento y prueba. El argumento `test_size=0.3` indica que el 30% del conjunto de datos se utilizará como conjunto de prueba, y el 70% restante se utilizará como conjunto de entrenamiento."
   ]
  },
  {
   "cell_type": "code",
   "execution_count": 9,
   "metadata": {},
   "outputs": [],
   "source": [
    "# Importamos la función train_test_split de la librería sklearn\n",
    "\n",
    "from sklearn.model_selection import train_test_split\n",
    "\n",
    "# Dividimos la base de datos en entrenamiento y prueba\n",
    "\n",
    "X_train, X_test, y_train, y_test = train_test_split(X_diabetes, y_diabetes, test_size=0.3)"
   ]
  },
  {
   "cell_type": "markdown",
   "metadata": {},
   "source": [
    "### Modelado, compilado, y entrenamiento de una red neuronal\n",
    "\n",
    "#### Modelamos una red neuronal simple"
   ]
  },
  {
   "cell_type": "markdown",
   "metadata": {},
   "source": [
    "Importando dos módulos de la biblioteca TensorFlow, específicamente de su API de alto nivel llamada Keras. Estos módulos son comúnmente utilizados para construir redes neuronales.\n",
    "\n",
    "Aquí está lo que hace cada parte:\n",
    "\n",
    "- `from tensorflow.keras.models import Sequential`: Esta línea está importando el módulo `Sequential` de Keras. `Sequential` es una clase que permite crear modelos de redes neuronales donde las capas se añaden una tras otra en secuencia.\n",
    "\n",
    "- `from tensorflow.keras.layers import Dense`: Esta línea está importando el módulo `Dense` de Keras. `Dense` es una clase que permite crear capas de neuronas completamente conectadas, que son el tipo de capa más común en las redes neuronales."
   ]
  },
  {
   "cell_type": "code",
   "execution_count": 10,
   "metadata": {},
   "outputs": [],
   "source": [
    "# Importamos los módulos necesarios para la creación del modelo\n",
    "\n",
    "from tensorflow.keras.models import Sequential\n",
    "from tensorflow.keras.layers import Dense"
   ]
  },
  {
   "cell_type": "markdown",
   "metadata": {},
   "source": [
    "Utilizamos la biblioteca TensorFlow para construir una red neuronal secuencial utilizando la API de Keras. Construiremos una red neuronal con una capa de entrada de 8 neuronas, una capa oculta de 12 neuronas, otra capa oculta de 8 neuronas, y una capa de salida de 1 neurona.\n",
    "\n",
    "Aquí está lo que hace cada parte:\n",
    "\n",
    "- `model = Sequential()`: Esta línea está creando un nuevo modelo secuencial. Un modelo secuencial es apropiado para una pila simple de capas donde cada capa tiene exactamente un tensor de entrada y un tensor de salida.\n",
    "\n",
    "- `model.add(Dense(12, input_dim=8, activation='relu'))`: Esta línea está añadiendo una capa densa (completamente conectada) al modelo con 12 neuronas, y está utilizando la función de activación ReLU. `input_dim=8` especifica que el número de entradas a esta capa (es decir, el número de neuronas en la capa anterior) es 8. El numero de neuronas de la capa de entrada debe coincidir con el número de variables independientes, que en el caso de el dataset de diabetes es 8.\n",
    "\n",
    "- `model.add(Dense(8, activation='relu'))`: Esta línea está añadiendo otra capa densa al modelo con 8 neuronas, y también está utilizando la función de activación ReLU.\n",
    "\n",
    "- `model.add(Dense(1, activation='sigmoid'))`: Esta línea está añadiendo una capa densa final al modelo con 1 neurona, y está utilizando la función de activación sigmoide. La función de activación sigmoide es comúnmente utilizada en la capa de salida de un modelo de clasificación binaria."
   ]
  },
  {
   "cell_type": "code",
   "execution_count": 33,
   "metadata": {},
   "outputs": [
    {
     "name": "stderr",
     "output_type": "stream",
     "text": [
      "/Users/eugenio/Library/CloudStorage/OneDrive-Personal/UIDE/2024 Maestría Ciencia de Datos y Máquinas de Aprendizaje mención IA/Contenidos/Notebooks_DataMining/.venv/lib/python3.11/site-packages/keras/src/layers/core/dense.py:86: UserWarning: Do not pass an `input_shape`/`input_dim` argument to a layer. When using Sequential models, prefer using an `Input(shape)` object as the first layer in the model instead.\n",
      "  super().__init__(activity_regularizer=activity_regularizer, **kwargs)\n"
     ]
    }
   ],
   "source": [
    "# Creamos un modelo secuencial \n",
    "model = Sequential()\n",
    "\n",
    "# Añadimos una capa densa con 12 neuronas y función de activación relu\n",
    "model.add(Dense(12, input_dim=8, activation='relu'))\n",
    "\n",
    "# Añadimos una capa densa con 8 neuronas y función de activación relu\n",
    "model.add(Dense(8, activation='relu'))\n",
    "\n",
    "# Añadimos una capa densa con 1 neurona y función de activación sigmoid\n",
    "model.add(Dense(1, activation='sigmoid'))"
   ]
  },
  {
   "cell_type": "markdown",
   "metadata": {},
   "source": [
    "#### Compilamos la red neuronal"
   ]
  },
  {
   "cell_type": "markdown",
   "metadata": {},
   "source": [
    "Utilizaremos la función `compile` de Keras para configurar el proceso de aprendizaje de la red neuronal. Configuramos el modelo para que se entrene utilizando el optimizador Adam, la función de pérdida de entropía cruzada binaria, y para que se evalúe utilizando la precisión.\n",
    "\n",
    "- `optimizer = 'adam'`: Esta línea está estableciendo el optimizador del modelo a 'adam'. Adam es un método de optimización que se utiliza comúnmente en redes neuronales. Ajusta la tasa de aprendizaje adaptativamente para cada parámetro.\n",
    "\n",
    "- `loss = 'binary_crossentropy'`: Esta línea está estableciendo la función de pérdida del modelo a 'binary_crossentropy'. La entropía cruzada binaria es una función de pérdida que se utiliza en problemas de clasificación binaria. Mide la \"distancia\" entre las predicciones y los verdaderos resultados.\n",
    "\n",
    "- `metrics=['accuracy']`: Esta línea está estableciendo la métrica que se utilizará para evaluar el rendimiento del modelo a 'accuracy'. La precisión es la proporción de predicciones correctas sobre el total de predicciones."
   ]
  },
  {
   "cell_type": "code",
   "execution_count": 34,
   "metadata": {},
   "outputs": [],
   "source": [
    "# Compilamos el modelo con el optimizador adam, la función de pérdida binary_crossentropy y la métrica accuracy\n",
    "\n",
    "model.compile(optimizer = 'adam', loss = 'binary_crossentropy', metrics=['accuracy'])"
   ]
  },
  {
   "cell_type": "markdown",
   "metadata": {},
   "source": [
    "#### Resumen del modelo de red neuronal"
   ]
  },
  {
   "cell_type": "markdown",
   "metadata": {},
   "source": [
    "El método `model.summary()` en Keras proporciona una representación textual del modelo. Muestra las capas de la red neuronal, la forma de salida de cada capa y el número de parámetros (pesos y sesgos) en cada capa. También muestra el total de parámetros en el modelo.\n",
    "\n",
    "En este ejemplo, puedes ver que el modelo tiene tres capas. La primera capa tiene 12 neuronas y 108 parámetros, la segunda capa tiene 8 neuronas y 104 parámetros, y la tercera capa tiene 1 neurona y 9 parámetros. El total de parámetros en el modelo es 221."
   ]
  },
  {
   "cell_type": "code",
   "execution_count": 19,
   "metadata": {},
   "outputs": [
    {
     "data": {
      "text/html": [
       "<pre style=\"white-space:pre;overflow-x:auto;line-height:normal;font-family:Menlo,'DejaVu Sans Mono',consolas,'Courier New',monospace\"><span style=\"font-weight: bold\">Model: \"sequential_3\"</span>\n",
       "</pre>\n"
      ],
      "text/plain": [
       "\u001b[1mModel: \"sequential_3\"\u001b[0m\n"
      ]
     },
     "metadata": {},
     "output_type": "display_data"
    },
    {
     "data": {
      "text/html": [
       "<pre style=\"white-space:pre;overflow-x:auto;line-height:normal;font-family:Menlo,'DejaVu Sans Mono',consolas,'Courier New',monospace\">┏━━━━━━━━━━━━━━━━━━━━━━━━━━━━━━━━━┳━━━━━━━━━━━━━━━━━━━━━━━━┳━━━━━━━━━━━━━━━┓\n",
       "┃<span style=\"font-weight: bold\"> Layer (type)                    </span>┃<span style=\"font-weight: bold\"> Output Shape           </span>┃<span style=\"font-weight: bold\">       Param # </span>┃\n",
       "┡━━━━━━━━━━━━━━━━━━━━━━━━━━━━━━━━━╇━━━━━━━━━━━━━━━━━━━━━━━━╇━━━━━━━━━━━━━━━┩\n",
       "│ dense_9 (<span style=\"color: #0087ff; text-decoration-color: #0087ff\">Dense</span>)                 │ (<span style=\"color: #00d7ff; text-decoration-color: #00d7ff\">None</span>, <span style=\"color: #00af00; text-decoration-color: #00af00\">12</span>)             │           <span style=\"color: #00af00; text-decoration-color: #00af00\">108</span> │\n",
       "├─────────────────────────────────┼────────────────────────┼───────────────┤\n",
       "│ dense_10 (<span style=\"color: #0087ff; text-decoration-color: #0087ff\">Dense</span>)                │ (<span style=\"color: #00d7ff; text-decoration-color: #00d7ff\">None</span>, <span style=\"color: #00af00; text-decoration-color: #00af00\">8</span>)              │           <span style=\"color: #00af00; text-decoration-color: #00af00\">104</span> │\n",
       "├─────────────────────────────────┼────────────────────────┼───────────────┤\n",
       "│ dense_11 (<span style=\"color: #0087ff; text-decoration-color: #0087ff\">Dense</span>)                │ (<span style=\"color: #00d7ff; text-decoration-color: #00d7ff\">None</span>, <span style=\"color: #00af00; text-decoration-color: #00af00\">1</span>)              │             <span style=\"color: #00af00; text-decoration-color: #00af00\">9</span> │\n",
       "└─────────────────────────────────┴────────────────────────┴───────────────┘\n",
       "</pre>\n"
      ],
      "text/plain": [
       "┏━━━━━━━━━━━━━━━━━━━━━━━━━━━━━━━━━┳━━━━━━━━━━━━━━━━━━━━━━━━┳━━━━━━━━━━━━━━━┓\n",
       "┃\u001b[1m \u001b[0m\u001b[1mLayer (type)                   \u001b[0m\u001b[1m \u001b[0m┃\u001b[1m \u001b[0m\u001b[1mOutput Shape          \u001b[0m\u001b[1m \u001b[0m┃\u001b[1m \u001b[0m\u001b[1m      Param #\u001b[0m\u001b[1m \u001b[0m┃\n",
       "┡━━━━━━━━━━━━━━━━━━━━━━━━━━━━━━━━━╇━━━━━━━━━━━━━━━━━━━━━━━━╇━━━━━━━━━━━━━━━┩\n",
       "│ dense_9 (\u001b[38;5;33mDense\u001b[0m)                 │ (\u001b[38;5;45mNone\u001b[0m, \u001b[38;5;34m12\u001b[0m)             │           \u001b[38;5;34m108\u001b[0m │\n",
       "├─────────────────────────────────┼────────────────────────┼───────────────┤\n",
       "│ dense_10 (\u001b[38;5;33mDense\u001b[0m)                │ (\u001b[38;5;45mNone\u001b[0m, \u001b[38;5;34m8\u001b[0m)              │           \u001b[38;5;34m104\u001b[0m │\n",
       "├─────────────────────────────────┼────────────────────────┼───────────────┤\n",
       "│ dense_11 (\u001b[38;5;33mDense\u001b[0m)                │ (\u001b[38;5;45mNone\u001b[0m, \u001b[38;5;34m1\u001b[0m)              │             \u001b[38;5;34m9\u001b[0m │\n",
       "└─────────────────────────────────┴────────────────────────┴───────────────┘\n"
      ]
     },
     "metadata": {},
     "output_type": "display_data"
    },
    {
     "data": {
      "text/html": [
       "<pre style=\"white-space:pre;overflow-x:auto;line-height:normal;font-family:Menlo,'DejaVu Sans Mono',consolas,'Courier New',monospace\"><span style=\"font-weight: bold\"> Total params: </span><span style=\"color: #00af00; text-decoration-color: #00af00\">221</span> (884.00 B)\n",
       "</pre>\n"
      ],
      "text/plain": [
       "\u001b[1m Total params: \u001b[0m\u001b[38;5;34m221\u001b[0m (884.00 B)\n"
      ]
     },
     "metadata": {},
     "output_type": "display_data"
    },
    {
     "data": {
      "text/html": [
       "<pre style=\"white-space:pre;overflow-x:auto;line-height:normal;font-family:Menlo,'DejaVu Sans Mono',consolas,'Courier New',monospace\"><span style=\"font-weight: bold\"> Trainable params: </span><span style=\"color: #00af00; text-decoration-color: #00af00\">221</span> (884.00 B)\n",
       "</pre>\n"
      ],
      "text/plain": [
       "\u001b[1m Trainable params: \u001b[0m\u001b[38;5;34m221\u001b[0m (884.00 B)\n"
      ]
     },
     "metadata": {},
     "output_type": "display_data"
    },
    {
     "data": {
      "text/html": [
       "<pre style=\"white-space:pre;overflow-x:auto;line-height:normal;font-family:Menlo,'DejaVu Sans Mono',consolas,'Courier New',monospace\"><span style=\"font-weight: bold\"> Non-trainable params: </span><span style=\"color: #00af00; text-decoration-color: #00af00\">0</span> (0.00 B)\n",
       "</pre>\n"
      ],
      "text/plain": [
       "\u001b[1m Non-trainable params: \u001b[0m\u001b[38;5;34m0\u001b[0m (0.00 B)\n"
      ]
     },
     "metadata": {},
     "output_type": "display_data"
    }
   ],
   "source": [
    "# Visualizamos un resumen del modelo creado \n",
    "\n",
    "model.summary()"
   ]
  },
  {
   "cell_type": "markdown",
   "metadata": {},
   "source": [
    "#### Entrenamos la red neuronal"
   ]
  },
  {
   "cell_type": "markdown",
   "metadata": {},
   "source": [
    "Training the model is as easy as calling the `.fit()` method, passing on the features, labels and a number of epochs to train for."
   ]
  },
  {
   "cell_type": "code",
   "execution_count": null,
   "metadata": {},
   "outputs": [],
   "source": [
    "# Entrenamos el modelo con los datos de entrenamiento, especificando el número de épocas y el tamaño del batch\n",
    "\n",
    "model.fit(X_train, y_train, epochs = 150, batch_size = 32)"
   ]
  },
  {
   "cell_type": "markdown",
   "metadata": {},
   "source": [
    "### Evaluación del modelo"
   ]
  },
  {
   "cell_type": "markdown",
   "metadata": {},
   "source": [
    "#### Evaluación de la precisión del moelo\n",
    "\n",
    "Evaluamos el rendimiento de un modelo de red neuronal en Keras tanto en los datos de entrenamiento como en los datos de prueba e imprimos la precisión de la clasificación en ambos conjuntos de datos.\n",
    "\n",
    "- `scores = model.evaluate(X_train, y_train, verbose=False)`: Esta línea está evaluando el modelo en los datos de entrenamiento. `model.evaluate` devuelve la pérdida del modelo y las métricas en los datos proporcionados. \n",
    "\n",
    "    En este caso, `scores[0]` sería la pérdida y `scores[1]` sería la precisión, ya que se especificó `metrics=['accuracy']` durante la compilación del modelo.\n",
    "\n",
    "- `print(\"Precisión en la fase de entrenamiento: %.2f%%\" % (scores[1]*100))`: Esta línea está imprimiendo la precisión del modelo en los datos de entrenamiento representado en una cadena de formato. El `%` indica un punto de inserción para un valor. El `.2f` especifica un número de punto flotante con dos decimales. El `%%` se utiliza para imprimir un solo signo de porcentaje.\n",
    "\n",
    "- `scores = model.evaluate(X_test, y_test, verbose=False)`: Esta línea está evaluando el modelo en los datos de prueba.\n",
    "\n",
    "- `print(\"Precisión en la fase de prueba: %.2f%%\" % (scores[1]*100))`: Esta línea está imprimiendo la precisión del modelo en los datos de prueba."
   ]
  },
  {
   "cell_type": "code",
   "execution_count": 60,
   "metadata": {},
   "outputs": [
    {
     "name": "stdout",
     "output_type": "stream",
     "text": [
      "Precisión en la fase de entrenamiento: 78.21%\n",
      "Precisión en la fase de prueba: 71.43%\n"
     ]
    }
   ],
   "source": [
    "# Evaluación del modelo con los datos de entrenamiento\n",
    "\n",
    "scores = model.evaluate(X_train, y_train, verbose=False)\n",
    "print(\"Precisión en la fase de entrenamiento: %.2f%%\" % (scores[1]*100))\n",
    "\n",
    "# Evaluación del modelo con los datos de prueba\n",
    "\n",
    "scores = model.evaluate(X_test, y_test, verbose=False)\n",
    "print(\"Precisión en la fase de prueba: %.2f%%\" % (scores[1]*100))"
   ]
  },
  {
   "cell_type": "markdown",
   "metadata": {},
   "source": [
    "#### Usamos el modelo para hacer predicciones"
   ]
  },
  {
   "cell_type": "markdown",
   "metadata": {},
   "source": [
    "Seleccionamos una fila específica de un DataFrame de pandas para realizar una predicción.\n",
    " \n",
    "- `iloc[9]` selecciona la décima fila del DataFrame `X_test` (la indexación en Python comienza en 0), y la asigna a la variable `persona_de_prueba`."
   ]
  },
  {
   "cell_type": "code",
   "execution_count": 66,
   "metadata": {},
   "outputs": [
    {
     "data": {
      "text/plain": [
       "pregnancies      1.000\n",
       "glucose        121.000\n",
       "diastolic       78.000\n",
       "triceps         39.000\n",
       "insulin         74.000\n",
       "bmi             39.000\n",
       "dpf              0.261\n",
       "age             28.000\n",
       "Name: 751, dtype: float64"
      ]
     },
     "execution_count": 66,
     "metadata": {},
     "output_type": "execute_result"
    }
   ],
   "source": [
    "# Seleccionamos una persona de la base de datos de prueba para realizar una predicción\n",
    "\n",
    "persona_de_prueba = X_test.iloc[9]\n",
    "persona_de_prueba"
   ]
  },
  {
   "cell_type": "markdown",
   "metadata": {},
   "source": [
    "Utilizamos el modelo de la red neuronal entrenada para hacer una predicción basada en los datos de una \"persona de prueba\".\n",
    "\n",
    "- `persona_de_prueba.values` convierte la fila del DataFrame de pandas en un array de numpy. `reshape(1,8)` cambia la forma del array a un array bidimensional con 1 fila y 8 columnas. Esto se hace porque el método `predict` de Keras espera un array bidimensional (es decir, un array de arrays), donde cada sub-array es un conjunto de características para hacer una predicción.\n",
    "\n",
    "- `prediccion = model.predict(...)`: Esta línea utiliza el método `predict` del modelo para hacer una predicción basada en las características de la \"persona de prueba\". La predicción se asigna a la variable `prediccion`."
   ]
  },
  {
   "cell_type": "code",
   "execution_count": 72,
   "metadata": {},
   "outputs": [
    {
     "name": "stdout",
     "output_type": "stream",
     "text": [
      "\u001b[1m1/1\u001b[0m \u001b[32m━━━━━━━━━━━━━━━━━━━━\u001b[0m\u001b[37m\u001b[0m \u001b[1m0s\u001b[0m 41ms/step\n"
     ]
    },
    {
     "data": {
      "text/plain": [
       "array([[0.09895436]], dtype=float32)"
      ]
     },
     "execution_count": 72,
     "metadata": {},
     "output_type": "execute_result"
    }
   ],
   "source": [
    "# Hacemos una predicción con el modelo entrenado\n",
    "\n",
    "prediccion = model.predict(persona_de_prueba.values.reshape(1,8))\n",
    "prediccion"
   ]
  },
  {
   "cell_type": "markdown",
   "metadata": {},
   "source": [
    "Comparamos la predicción de un modelo de aprendizaje automático con los datos reales para una \"persona de prueba\". Aquí está lo que hace cada parte:\n",
    "\n",
    "- `if prediccion >= 0.5:`: Aquí, `prediccion` es la salida de un modelo de aprendizaje automático. Si la salida es mayor o igual a 0.5, se interpreta como una predicción de que la persona tiene diabetes.\n",
    "\n",
    "- `print('Según la predicción de la red neuronal: La persona tiene diabetes')`: Esta línea se ejecuta si la condición del `if` es verdadera, es decir, si la predicción es mayor o igual a 0.5.\n",
    "\n",
    "- `else:`: Esta parte del código se ejecuta si la condición del `if` es falsa, es decir, si la predicción es menor a 0.5.\n",
    "\n",
    "- `print('Según la predicción de la red neuronal: La persona no tiene diabetes')`: Esta línea se ejecuta si la condición del `if` es falsa.\n",
    "\n",
    "- `if y_test.iloc[9] == 1:`: Aquí, `y_test` es un DataFrame de pandas que contiene los datos reales. `y_test.iloc[9]` selecciona la décima fila del DataFrame. Si el valor en esta fila es 1, se interpreta como que la persona tiene diabetes.\n",
    "\n",
    "- `print('Según la base de datos de prueba: La persona tiene diabetes')`: Esta línea se ejecuta si la condición del `if` es verdadera, es decir, si el valor en la décima fila de `y_test` es 1.\n",
    "\n",
    "- `else:`: Esta parte del código se ejecuta si la condición del `if` es falsa, es decir, si el valor en la décima fila de `y_test` no es 1.\n",
    "\n",
    "- `print('Según la base de datos de prueba: La persona no tiene diabetes')`: Esta línea se ejecuta si la condición del `if` es falsa."
   ]
  },
  {
   "cell_type": "code",
   "execution_count": 74,
   "metadata": {},
   "outputs": [
    {
     "name": "stdout",
     "output_type": "stream",
     "text": [
      "Según la predicción de la red neuronal: La persona no tiene diabetes\n",
      "Según la base de datos de prueba: La persona no tiene diabetes\n"
     ]
    }
   ],
   "source": [
    "# Comprobamos si la persona tiene diabetes o no según la predicción\n",
    "\n",
    "if prediccion >= 0.5:\n",
    "    print('Según la predicción de la red neuronal: La persona tiene diabetes')\n",
    "else:\n",
    "    print('Según la predicción de la red neuronal: La persona no tiene diabetes')\n",
    "    \n",
    "# Comprobamos si la persona tiene diabetes o no según la base de datos\n",
    "\n",
    "if y_test.iloc[9] == 1:\n",
    "    print('Según la base de datos de prueba: La persona tiene diabetes')\n",
    "else:\n",
    "    print('Según la base de datos de prueba: La persona no tiene diabetes')\n"
   ]
  },
  {
   "cell_type": "markdown",
   "metadata": {},
   "source": [
    "#### Guardamos el modelo para usarlo en producción"
   ]
  },
  {
   "cell_type": "code",
   "execution_count": 76,
   "metadata": {},
   "outputs": [],
   "source": [
    "# Guardamos el modelo en un archivo\n",
    "\n",
    "model.save('modelo_diabetes.keras')"
   ]
  },
  {
   "cell_type": "code",
   "execution_count": 78,
   "metadata": {},
   "outputs": [],
   "source": [
    "# Cargamos el modelo desde el archivo\n",
    "\n",
    "from tensorflow.keras.models import load_model\n",
    "\n",
    "modelo_cargado = load_model('modelo_diabetes.keras')"
   ]
  },
  {
   "cell_type": "code",
   "execution_count": 80,
   "metadata": {},
   "outputs": [
    {
     "name": "stdout",
     "output_type": "stream",
     "text": [
      "\u001b[1m1/1\u001b[0m \u001b[32m━━━━━━━━━━━━━━━━━━━━\u001b[0m\u001b[37m\u001b[0m \u001b[1m0s\u001b[0m 30ms/step\n",
      "Según la predicción del modelo cargado: La persona no tiene diabetes\n"
     ]
    }
   ],
   "source": [
    "# Hacemos una predicción con el modelo cargado\n",
    "\n",
    "prediccion_modelo_cargado = modelo_cargado.predict(persona_de_prueba.values.reshape(1,8))\n",
    "\n",
    "# Comprobamos si la persona tiene diabetes o no según la predicción del modelo cargado\n",
    "\n",
    "if prediccion_modelo_cargado >= 0.5:\n",
    "    print('Según la predicción del modelo cargado: La persona tiene diabetes')\n",
    "else:\n",
    "    print('Según la predicción del modelo cargado: La persona no tiene diabetes')"
   ]
  }
 ],
 "metadata": {
  "kernelspec": {
   "display_name": ".venv",
   "language": "python",
   "name": "python3"
  },
  "language_info": {
   "codemirror_mode": {
    "name": "ipython",
    "version": 3
   },
   "file_extension": ".py",
   "mimetype": "text/x-python",
   "name": "python",
   "nbconvert_exporter": "python",
   "pygments_lexer": "ipython3",
   "version": "3.11.3"
  }
 },
 "nbformat": 4,
 "nbformat_minor": 2
}
