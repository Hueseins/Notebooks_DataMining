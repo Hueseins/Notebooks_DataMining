{
  "cells": [
    {
      "cell_type": "markdown",
      "metadata": {
        "id": "view-in-github",
        "colab_type": "text"
      },
      "source": [
        "<a href=\"https://colab.research.google.com/github/Hueseins/Notebooks_DataMining/blob/main/Tema%202%20-%20Preprocesamiento%20de%20Datos%20en%20Data%20Mining/Lectura%202.2%20-%20Preprocesamiento%20de%20datos%20-%20copy%20para%20an%C3%A1lisis%20de%20cr%C3%A9dito.ipynb\" target=\"_parent\"><img src=\"https://colab.research.google.com/assets/colab-badge.svg\" alt=\"Open In Colab\"/></a>"
      ]
    },
    {
      "cell_type": "markdown",
      "metadata": {
        "id": "CU3zdZ_12r9c"
      },
      "source": [
        "![image.png](attachment:image.png)"
      ]
    },
    {
      "cell_type": "markdown",
      "metadata": {
        "id": "kPmLGpy12r9e"
      },
      "source": [
        "Autor:  \n",
        "Manuel Eugenio Morocho Cayamcela, PhD\n",
        "\n",
        "# **Lectura 2.2:**\n",
        "## Procesamiento y Transformación de Datos para Análisis de Crédito"
      ]
    },
    {
      "cell_type": "markdown",
      "metadata": {
        "id": "XRHgz1602r9e"
      },
      "source": [
        "### **Introducción:**"
      ]
    },
    {
      "cell_type": "markdown",
      "metadata": {
        "id": "peCVA4ed2r9e"
      },
      "source": [
        "![image.png](attachment:image.png)"
      ]
    },
    {
      "cell_type": "markdown",
      "metadata": {
        "id": "-yQAg_0y2r9e"
      },
      "source": [
        "Esta lectura cubrirá el preprocesamiento y transformación de datos para el análisis de crédito. Utilizaremos un conjunto de datos de solicitudes de crédito con las siguientes columnas:\n",
        "\n",
        "1. ID: Identificador único para cada registro.\n",
        "2. Customer_ID: Identificador único para cada cliente.\n",
        "3. Month: Mes en el que se registró la información.\n",
        "4. Name: Nombre del cliente.\n",
        "5. Age: Edad del cliente.\n",
        "6. SSN: Número de Seguro Social del cliente.\n",
        "7. Occupation: Ocupación del cliente.\n",
        "8. Annual_Income: Ingreso anual del cliente.\n",
        "9. Monthly_Inhand_Salary: Salario mensual disponible del cliente.\n",
        "10. Num_Bank_Accounts: Número de cuentas bancarias del cliente.\n",
        "11. Num_Credit_Card: Número de tarjetas de crédito del cliente.\n",
        "12. Interest_Rate: Tasa de interés aplicada al cliente.\n",
        "13. Num_of_Loan: Número de préstamos del cliente.\n",
        "14. Type_of_Loan: Tipo de préstamo(s) del cliente.\n",
        "15. Delay_from_due_date: Retraso desde la fecha de vencimiento del pago.\n",
        "16. Num_of_Delayed_Payment: Número de pagos retrasados del cliente.\n",
        "17. Changed_Credit_Limit: Límite de crédito modificado del cliente.\n",
        "18. Num_Credit_Inquiries: Número de consultas de crédito realizadas por el cliente.\n",
        "19. Credit_Mix: Mezcla de crédito del cliente.\n",
        "20. Outstanding_Debt: Deuda pendiente del cliente.\n",
        "21. Credit_Utilization_Ratio: Relación de utilización de crédito del cliente.\n",
        "22. Credit_History_Age: Antigüedad del historial de crédito del cliente.\n",
        "23. Payment_of_Min_Amount: Pago del monto mínimo realizado por el cliente.\n",
        "24. Total_EMI_per_month: Total de cuotas mensuales del cliente.\n",
        "25. Amount_invested_monthly: Cantidad invertida mensualmente por el cliente.\n",
        "26. Payment_Behaviour: Comportamiento de pago del cliente.\n",
        "27. Monthly_Balance: Saldo mensual del cliente.\n",
        "28. Credit_Score: Puntuación de crédito del cliente."
      ]
    },
    {
      "cell_type": "markdown",
      "metadata": {
        "id": "3PPw0nS42r9f"
      },
      "source": [
        "### **Contenido:**"
      ]
    },
    {
      "cell_type": "markdown",
      "metadata": {
        "id": "0NCrXstb2r9f"
      },
      "source": [
        "#### Importamos las librerías necesarias"
      ]
    },
    {
      "cell_type": "code",
      "execution_count": null,
      "metadata": {
        "id": "Mktft1BF2r9f"
      },
      "outputs": [],
      "source": [
        "import pandas as pd\n",
        "import numpy as np"
      ]
    },
    {
      "cell_type": "markdown",
      "metadata": {
        "id": "ix9srG7v2r9g"
      },
      "source": [
        "#### Cargamos de Datos"
      ]
    },
    {
      "cell_type": "code",
      "execution_count": null,
      "metadata": {
        "id": "Zts8qT0_2r9g",
        "outputId": "eb4bb7c5-4e6f-4635-ab51-c474a1e9d815"
      },
      "outputs": [
        {
          "name": "stderr",
          "output_type": "stream",
          "text": [
            "/var/folders/8j/f0xtldm91_1c2bpdr69fxgzw0000gn/T/ipykernel_32150/802005381.py:2: DtypeWarning: Columns (26) have mixed types. Specify dtype option on import or set low_memory=False.\n",
            "  data = pd.read_csv('/Users/eugenio/Library/CloudStorage/OneDrive-Personal/UIDE/2024 Maestría Ciencia de Datos y Máquinas de Aprendizaje mención IA/Contenidos/Notebooks_DataMining/Bases de Datos/credit_score.csv')\n"
          ]
        },
        {
          "data": {
            "text/html": [
              "<div>\n",
              "<style scoped>\n",
              "    .dataframe tbody tr th:only-of-type {\n",
              "        vertical-align: middle;\n",
              "    }\n",
              "\n",
              "    .dataframe tbody tr th {\n",
              "        vertical-align: top;\n",
              "    }\n",
              "\n",
              "    .dataframe thead th {\n",
              "        text-align: right;\n",
              "    }\n",
              "</style>\n",
              "<table border=\"1\" class=\"dataframe\">\n",
              "  <thead>\n",
              "    <tr style=\"text-align: right;\">\n",
              "      <th></th>\n",
              "      <th>ID</th>\n",
              "      <th>Customer_ID</th>\n",
              "      <th>Month</th>\n",
              "      <th>Name</th>\n",
              "      <th>Age</th>\n",
              "      <th>SSN</th>\n",
              "      <th>Occupation</th>\n",
              "      <th>Annual_Income</th>\n",
              "      <th>Monthly_Inhand_Salary</th>\n",
              "      <th>Num_Bank_Accounts</th>\n",
              "      <th>...</th>\n",
              "      <th>Credit_Mix</th>\n",
              "      <th>Outstanding_Debt</th>\n",
              "      <th>Credit_Utilization_Ratio</th>\n",
              "      <th>Credit_History_Age</th>\n",
              "      <th>Payment_of_Min_Amount</th>\n",
              "      <th>Total_EMI_per_month</th>\n",
              "      <th>Amount_invested_monthly</th>\n",
              "      <th>Payment_Behaviour</th>\n",
              "      <th>Monthly_Balance</th>\n",
              "      <th>Credit_Score</th>\n",
              "    </tr>\n",
              "  </thead>\n",
              "  <tbody>\n",
              "    <tr>\n",
              "      <th>0</th>\n",
              "      <td>0x1602</td>\n",
              "      <td>CUS_0xd40</td>\n",
              "      <td>January</td>\n",
              "      <td>Aaron Maashoh</td>\n",
              "      <td>23</td>\n",
              "      <td>821-00-0265</td>\n",
              "      <td>Scientist</td>\n",
              "      <td>19114.12</td>\n",
              "      <td>1824.843333</td>\n",
              "      <td>3</td>\n",
              "      <td>...</td>\n",
              "      <td>_</td>\n",
              "      <td>809.98</td>\n",
              "      <td>26.822620</td>\n",
              "      <td>22 Years and 1 Months</td>\n",
              "      <td>No</td>\n",
              "      <td>49.574949</td>\n",
              "      <td>80.41529543900253</td>\n",
              "      <td>High_spent_Small_value_payments</td>\n",
              "      <td>312.49408867943663</td>\n",
              "      <td>Good</td>\n",
              "    </tr>\n",
              "    <tr>\n",
              "      <th>1</th>\n",
              "      <td>0x1603</td>\n",
              "      <td>CUS_0xd40</td>\n",
              "      <td>February</td>\n",
              "      <td>Aaron Maashoh</td>\n",
              "      <td>23</td>\n",
              "      <td>821-00-0265</td>\n",
              "      <td>Scientist</td>\n",
              "      <td>19114.12</td>\n",
              "      <td>NaN</td>\n",
              "      <td>3</td>\n",
              "      <td>...</td>\n",
              "      <td>Good</td>\n",
              "      <td>809.98</td>\n",
              "      <td>31.944960</td>\n",
              "      <td>NaN</td>\n",
              "      <td>No</td>\n",
              "      <td>49.574949</td>\n",
              "      <td>118.28022162236736</td>\n",
              "      <td>Low_spent_Large_value_payments</td>\n",
              "      <td>284.62916249607184</td>\n",
              "      <td>Good</td>\n",
              "    </tr>\n",
              "    <tr>\n",
              "      <th>2</th>\n",
              "      <td>0x1604</td>\n",
              "      <td>CUS_0xd40</td>\n",
              "      <td>March</td>\n",
              "      <td>Aaron Maashoh</td>\n",
              "      <td>-500</td>\n",
              "      <td>821-00-0265</td>\n",
              "      <td>Scientist</td>\n",
              "      <td>19114.12</td>\n",
              "      <td>NaN</td>\n",
              "      <td>3</td>\n",
              "      <td>...</td>\n",
              "      <td>Good</td>\n",
              "      <td>809.98</td>\n",
              "      <td>28.609352</td>\n",
              "      <td>22 Years and 3 Months</td>\n",
              "      <td>No</td>\n",
              "      <td>49.574949</td>\n",
              "      <td>81.699521264648</td>\n",
              "      <td>Low_spent_Medium_value_payments</td>\n",
              "      <td>331.2098628537912</td>\n",
              "      <td>Good</td>\n",
              "    </tr>\n",
              "    <tr>\n",
              "      <th>3</th>\n",
              "      <td>0x1605</td>\n",
              "      <td>CUS_0xd40</td>\n",
              "      <td>April</td>\n",
              "      <td>Aaron Maashoh</td>\n",
              "      <td>23</td>\n",
              "      <td>821-00-0265</td>\n",
              "      <td>Scientist</td>\n",
              "      <td>19114.12</td>\n",
              "      <td>NaN</td>\n",
              "      <td>3</td>\n",
              "      <td>...</td>\n",
              "      <td>Good</td>\n",
              "      <td>809.98</td>\n",
              "      <td>31.377862</td>\n",
              "      <td>22 Years and 4 Months</td>\n",
              "      <td>No</td>\n",
              "      <td>49.574949</td>\n",
              "      <td>199.4580743910713</td>\n",
              "      <td>Low_spent_Small_value_payments</td>\n",
              "      <td>223.45130972736786</td>\n",
              "      <td>Good</td>\n",
              "    </tr>\n",
              "    <tr>\n",
              "      <th>4</th>\n",
              "      <td>0x1606</td>\n",
              "      <td>CUS_0xd40</td>\n",
              "      <td>May</td>\n",
              "      <td>Aaron Maashoh</td>\n",
              "      <td>23</td>\n",
              "      <td>821-00-0265</td>\n",
              "      <td>Scientist</td>\n",
              "      <td>19114.12</td>\n",
              "      <td>1824.843333</td>\n",
              "      <td>3</td>\n",
              "      <td>...</td>\n",
              "      <td>Good</td>\n",
              "      <td>809.98</td>\n",
              "      <td>24.797347</td>\n",
              "      <td>22 Years and 5 Months</td>\n",
              "      <td>No</td>\n",
              "      <td>49.574949</td>\n",
              "      <td>41.420153086217326</td>\n",
              "      <td>High_spent_Medium_value_payments</td>\n",
              "      <td>341.48923103222177</td>\n",
              "      <td>Good</td>\n",
              "    </tr>\n",
              "    <tr>\n",
              "      <th>5</th>\n",
              "      <td>0x1607</td>\n",
              "      <td>CUS_0xd40</td>\n",
              "      <td>June</td>\n",
              "      <td>Aaron Maashoh</td>\n",
              "      <td>23</td>\n",
              "      <td>821-00-0265</td>\n",
              "      <td>Scientist</td>\n",
              "      <td>19114.12</td>\n",
              "      <td>NaN</td>\n",
              "      <td>3</td>\n",
              "      <td>...</td>\n",
              "      <td>Good</td>\n",
              "      <td>809.98</td>\n",
              "      <td>27.262259</td>\n",
              "      <td>22 Years and 6 Months</td>\n",
              "      <td>No</td>\n",
              "      <td>49.574949</td>\n",
              "      <td>62.430172331195294</td>\n",
              "      <td>!@9#%8</td>\n",
              "      <td>340.4792117872438</td>\n",
              "      <td>Good</td>\n",
              "    </tr>\n",
              "    <tr>\n",
              "      <th>6</th>\n",
              "      <td>0x1608</td>\n",
              "      <td>CUS_0xd40</td>\n",
              "      <td>July</td>\n",
              "      <td>Aaron Maashoh</td>\n",
              "      <td>23</td>\n",
              "      <td>821-00-0265</td>\n",
              "      <td>Scientist</td>\n",
              "      <td>19114.12</td>\n",
              "      <td>1824.843333</td>\n",
              "      <td>3</td>\n",
              "      <td>...</td>\n",
              "      <td>Good</td>\n",
              "      <td>809.98</td>\n",
              "      <td>22.537593</td>\n",
              "      <td>22 Years and 7 Months</td>\n",
              "      <td>No</td>\n",
              "      <td>49.574949</td>\n",
              "      <td>178.3440674122349</td>\n",
              "      <td>Low_spent_Small_value_payments</td>\n",
              "      <td>244.5653167062043</td>\n",
              "      <td>Good</td>\n",
              "    </tr>\n",
              "    <tr>\n",
              "      <th>7</th>\n",
              "      <td>0x1609</td>\n",
              "      <td>CUS_0xd40</td>\n",
              "      <td>August</td>\n",
              "      <td>NaN</td>\n",
              "      <td>23</td>\n",
              "      <td>#F%$D@*&amp;8</td>\n",
              "      <td>Scientist</td>\n",
              "      <td>19114.12</td>\n",
              "      <td>1824.843333</td>\n",
              "      <td>3</td>\n",
              "      <td>...</td>\n",
              "      <td>Good</td>\n",
              "      <td>809.98</td>\n",
              "      <td>23.933795</td>\n",
              "      <td>NaN</td>\n",
              "      <td>No</td>\n",
              "      <td>49.574949</td>\n",
              "      <td>24.785216509052056</td>\n",
              "      <td>High_spent_Medium_value_payments</td>\n",
              "      <td>358.12416760938714</td>\n",
              "      <td>Standard</td>\n",
              "    </tr>\n",
              "    <tr>\n",
              "      <th>8</th>\n",
              "      <td>0x160e</td>\n",
              "      <td>CUS_0x21b1</td>\n",
              "      <td>January</td>\n",
              "      <td>Rick Rothackerj</td>\n",
              "      <td>28_</td>\n",
              "      <td>004-07-5839</td>\n",
              "      <td>_______</td>\n",
              "      <td>34847.84</td>\n",
              "      <td>3037.986667</td>\n",
              "      <td>2</td>\n",
              "      <td>...</td>\n",
              "      <td>Good</td>\n",
              "      <td>605.03</td>\n",
              "      <td>24.464031</td>\n",
              "      <td>26 Years and 7 Months</td>\n",
              "      <td>No</td>\n",
              "      <td>18.816215</td>\n",
              "      <td>104.291825168246</td>\n",
              "      <td>Low_spent_Small_value_payments</td>\n",
              "      <td>470.69062692529184</td>\n",
              "      <td>Standard</td>\n",
              "    </tr>\n",
              "    <tr>\n",
              "      <th>9</th>\n",
              "      <td>0x160f</td>\n",
              "      <td>CUS_0x21b1</td>\n",
              "      <td>February</td>\n",
              "      <td>Rick Rothackerj</td>\n",
              "      <td>28</td>\n",
              "      <td>004-07-5839</td>\n",
              "      <td>Teacher</td>\n",
              "      <td>34847.84</td>\n",
              "      <td>3037.986667</td>\n",
              "      <td>2</td>\n",
              "      <td>...</td>\n",
              "      <td>Good</td>\n",
              "      <td>605.03</td>\n",
              "      <td>38.550848</td>\n",
              "      <td>26 Years and 8 Months</td>\n",
              "      <td>No</td>\n",
              "      <td>18.816215</td>\n",
              "      <td>40.39123782853101</td>\n",
              "      <td>High_spent_Large_value_payments</td>\n",
              "      <td>484.5912142650067</td>\n",
              "      <td>Good</td>\n",
              "    </tr>\n",
              "  </tbody>\n",
              "</table>\n",
              "<p>10 rows × 28 columns</p>\n",
              "</div>"
            ],
            "text/plain": [
              "       ID Customer_ID     Month             Name   Age          SSN  \\\n",
              "0  0x1602   CUS_0xd40   January    Aaron Maashoh    23  821-00-0265   \n",
              "1  0x1603   CUS_0xd40  February    Aaron Maashoh    23  821-00-0265   \n",
              "2  0x1604   CUS_0xd40     March    Aaron Maashoh  -500  821-00-0265   \n",
              "3  0x1605   CUS_0xd40     April    Aaron Maashoh    23  821-00-0265   \n",
              "4  0x1606   CUS_0xd40       May    Aaron Maashoh    23  821-00-0265   \n",
              "5  0x1607   CUS_0xd40      June    Aaron Maashoh    23  821-00-0265   \n",
              "6  0x1608   CUS_0xd40      July    Aaron Maashoh    23  821-00-0265   \n",
              "7  0x1609   CUS_0xd40    August              NaN    23    #F%$D@*&8   \n",
              "8  0x160e  CUS_0x21b1   January  Rick Rothackerj   28_  004-07-5839   \n",
              "9  0x160f  CUS_0x21b1  February  Rick Rothackerj    28  004-07-5839   \n",
              "\n",
              "  Occupation Annual_Income  Monthly_Inhand_Salary  Num_Bank_Accounts  ...  \\\n",
              "0  Scientist      19114.12            1824.843333                  3  ...   \n",
              "1  Scientist      19114.12                    NaN                  3  ...   \n",
              "2  Scientist      19114.12                    NaN                  3  ...   \n",
              "3  Scientist      19114.12                    NaN                  3  ...   \n",
              "4  Scientist      19114.12            1824.843333                  3  ...   \n",
              "5  Scientist      19114.12                    NaN                  3  ...   \n",
              "6  Scientist      19114.12            1824.843333                  3  ...   \n",
              "7  Scientist      19114.12            1824.843333                  3  ...   \n",
              "8    _______      34847.84            3037.986667                  2  ...   \n",
              "9    Teacher      34847.84            3037.986667                  2  ...   \n",
              "\n",
              "   Credit_Mix  Outstanding_Debt Credit_Utilization_Ratio  \\\n",
              "0           _            809.98                26.822620   \n",
              "1        Good            809.98                31.944960   \n",
              "2        Good            809.98                28.609352   \n",
              "3        Good            809.98                31.377862   \n",
              "4        Good            809.98                24.797347   \n",
              "5        Good            809.98                27.262259   \n",
              "6        Good            809.98                22.537593   \n",
              "7        Good            809.98                23.933795   \n",
              "8        Good            605.03                24.464031   \n",
              "9        Good            605.03                38.550848   \n",
              "\n",
              "      Credit_History_Age  Payment_of_Min_Amount Total_EMI_per_month  \\\n",
              "0  22 Years and 1 Months                     No           49.574949   \n",
              "1                    NaN                     No           49.574949   \n",
              "2  22 Years and 3 Months                     No           49.574949   \n",
              "3  22 Years and 4 Months                     No           49.574949   \n",
              "4  22 Years and 5 Months                     No           49.574949   \n",
              "5  22 Years and 6 Months                     No           49.574949   \n",
              "6  22 Years and 7 Months                     No           49.574949   \n",
              "7                    NaN                     No           49.574949   \n",
              "8  26 Years and 7 Months                     No           18.816215   \n",
              "9  26 Years and 8 Months                     No           18.816215   \n",
              "\n",
              "  Amount_invested_monthly                 Payment_Behaviour  \\\n",
              "0       80.41529543900253   High_spent_Small_value_payments   \n",
              "1      118.28022162236736    Low_spent_Large_value_payments   \n",
              "2         81.699521264648   Low_spent_Medium_value_payments   \n",
              "3       199.4580743910713    Low_spent_Small_value_payments   \n",
              "4      41.420153086217326  High_spent_Medium_value_payments   \n",
              "5      62.430172331195294                            !@9#%8   \n",
              "6       178.3440674122349    Low_spent_Small_value_payments   \n",
              "7      24.785216509052056  High_spent_Medium_value_payments   \n",
              "8        104.291825168246    Low_spent_Small_value_payments   \n",
              "9       40.39123782853101   High_spent_Large_value_payments   \n",
              "\n",
              "      Monthly_Balance Credit_Score  \n",
              "0  312.49408867943663         Good  \n",
              "1  284.62916249607184         Good  \n",
              "2   331.2098628537912         Good  \n",
              "3  223.45130972736786         Good  \n",
              "4  341.48923103222177         Good  \n",
              "5   340.4792117872438         Good  \n",
              "6   244.5653167062043         Good  \n",
              "7  358.12416760938714     Standard  \n",
              "8  470.69062692529184     Standard  \n",
              "9   484.5912142650067         Good  \n",
              "\n",
              "[10 rows x 28 columns]"
            ]
          },
          "execution_count": 2,
          "metadata": {},
          "output_type": "execute_result"
        }
      ],
      "source": [
        "# Cargamos y mostramos los primeros registros de la base de datos credit_score.csv\n",
        "data = pd.read_csv('/Users/eugenio/Library/CloudStorage/OneDrive-Personal/UIDE/2024 Maestría Ciencia de Datos y Máquinas de Aprendizaje mención IA/Contenidos/Notebooks_DataMining/Bases de Datos/credit_score.csv')\n",
        "data.head(10)"
      ]
    },
    {
      "cell_type": "markdown",
      "metadata": {
        "id": "bTMkeORV2r9g"
      },
      "source": [
        "#### Exploración de Tipos de Datos"
      ]
    },
    {
      "cell_type": "markdown",
      "metadata": {
        "id": "jYoJBekQ2r9g"
      },
      "source": [
        "\n",
        "Para entender qué tipo de datos tenemos, podemos usar el método `info()`."
      ]
    },
    {
      "cell_type": "code",
      "execution_count": null,
      "metadata": {
        "id": "JMgAvnje2r9h",
        "outputId": "5db8e53f-2f83-4b92-81ad-a965c698f008"
      },
      "outputs": [
        {
          "name": "stdout",
          "output_type": "stream",
          "text": [
            "<class 'pandas.core.frame.DataFrame'>\n",
            "RangeIndex: 100000 entries, 0 to 99999\n",
            "Data columns (total 28 columns):\n",
            " #   Column                    Non-Null Count   Dtype  \n",
            "---  ------                    --------------   -----  \n",
            " 0   ID                        100000 non-null  object \n",
            " 1   Customer_ID               100000 non-null  object \n",
            " 2   Month                     100000 non-null  object \n",
            " 3   Name                      90015 non-null   object \n",
            " 4   Age                       100000 non-null  object \n",
            " 5   SSN                       100000 non-null  object \n",
            " 6   Occupation                100000 non-null  object \n",
            " 7   Annual_Income             100000 non-null  object \n",
            " 8   Monthly_Inhand_Salary     84998 non-null   float64\n",
            " 9   Num_Bank_Accounts         100000 non-null  int64  \n",
            " 10  Num_Credit_Card           100000 non-null  int64  \n",
            " 11  Interest_Rate             100000 non-null  int64  \n",
            " 12  Num_of_Loan               100000 non-null  object \n",
            " 13  Type_of_Loan              88592 non-null   object \n",
            " 14  Delay_from_due_date       100000 non-null  int64  \n",
            " 15  Num_of_Delayed_Payment    92998 non-null   object \n",
            " 16  Changed_Credit_Limit      100000 non-null  object \n",
            " 17  Num_Credit_Inquiries      98035 non-null   float64\n",
            " 18  Credit_Mix                100000 non-null  object \n",
            " 19  Outstanding_Debt          100000 non-null  object \n",
            " 20  Credit_Utilization_Ratio  100000 non-null  float64\n",
            " 21  Credit_History_Age        90970 non-null   object \n",
            " 22  Payment_of_Min_Amount     100000 non-null  object \n",
            " 23  Total_EMI_per_month       100000 non-null  float64\n",
            " 24  Amount_invested_monthly   95521 non-null   object \n",
            " 25  Payment_Behaviour         100000 non-null  object \n",
            " 26  Monthly_Balance           98800 non-null   object \n",
            " 27  Credit_Score              100000 non-null  object \n",
            "dtypes: float64(4), int64(4), object(20)\n",
            "memory usage: 21.4+ MB\n"
          ]
        }
      ],
      "source": [
        "# Mostramos la información de la base de datos\n",
        "data.info()"
      ]
    },
    {
      "cell_type": "markdown",
      "metadata": {
        "id": "5PDiP52D2r9h"
      },
      "source": [
        "**Observaciones:**\n",
        "1. Hay valores faltantes presentes en el conjunto de datos.\n",
        "2. El conjunto de datos tiene valores `object`, `int64` y `float64`."
      ]
    },
    {
      "cell_type": "code",
      "execution_count": null,
      "metadata": {
        "id": "r4UdDVy32r9h",
        "outputId": "2f176c19-d7a8-4338-d208-06707a128b22"
      },
      "outputs": [
        {
          "data": {
            "text/html": [
              "<div>\n",
              "<style scoped>\n",
              "    .dataframe tbody tr th:only-of-type {\n",
              "        vertical-align: middle;\n",
              "    }\n",
              "\n",
              "    .dataframe tbody tr th {\n",
              "        vertical-align: top;\n",
              "    }\n",
              "\n",
              "    .dataframe thead th {\n",
              "        text-align: right;\n",
              "    }\n",
              "</style>\n",
              "<table border=\"1\" class=\"dataframe\">\n",
              "  <thead>\n",
              "    <tr style=\"text-align: right;\">\n",
              "      <th></th>\n",
              "      <th>count</th>\n",
              "      <th>unique</th>\n",
              "      <th>top</th>\n",
              "      <th>freq</th>\n",
              "    </tr>\n",
              "  </thead>\n",
              "  <tbody>\n",
              "    <tr>\n",
              "      <th>ID</th>\n",
              "      <td>100000</td>\n",
              "      <td>100000</td>\n",
              "      <td>0x1602</td>\n",
              "      <td>1</td>\n",
              "    </tr>\n",
              "    <tr>\n",
              "      <th>Customer_ID</th>\n",
              "      <td>100000</td>\n",
              "      <td>12500</td>\n",
              "      <td>CUS_0xd40</td>\n",
              "      <td>8</td>\n",
              "    </tr>\n",
              "    <tr>\n",
              "      <th>Month</th>\n",
              "      <td>100000</td>\n",
              "      <td>8</td>\n",
              "      <td>January</td>\n",
              "      <td>12500</td>\n",
              "    </tr>\n",
              "    <tr>\n",
              "      <th>Name</th>\n",
              "      <td>90015</td>\n",
              "      <td>10139</td>\n",
              "      <td>Langep</td>\n",
              "      <td>44</td>\n",
              "    </tr>\n",
              "    <tr>\n",
              "      <th>Age</th>\n",
              "      <td>100000</td>\n",
              "      <td>1788</td>\n",
              "      <td>38</td>\n",
              "      <td>2833</td>\n",
              "    </tr>\n",
              "    <tr>\n",
              "      <th>SSN</th>\n",
              "      <td>100000</td>\n",
              "      <td>12501</td>\n",
              "      <td>#F%$D@*&amp;8</td>\n",
              "      <td>5572</td>\n",
              "    </tr>\n",
              "    <tr>\n",
              "      <th>Occupation</th>\n",
              "      <td>100000</td>\n",
              "      <td>16</td>\n",
              "      <td>_______</td>\n",
              "      <td>7062</td>\n",
              "    </tr>\n",
              "    <tr>\n",
              "      <th>Annual_Income</th>\n",
              "      <td>100000</td>\n",
              "      <td>18940</td>\n",
              "      <td>36585.12</td>\n",
              "      <td>16</td>\n",
              "    </tr>\n",
              "    <tr>\n",
              "      <th>Num_of_Loan</th>\n",
              "      <td>100000</td>\n",
              "      <td>434</td>\n",
              "      <td>3</td>\n",
              "      <td>14386</td>\n",
              "    </tr>\n",
              "    <tr>\n",
              "      <th>Type_of_Loan</th>\n",
              "      <td>88592</td>\n",
              "      <td>6260</td>\n",
              "      <td>Not Specified</td>\n",
              "      <td>1408</td>\n",
              "    </tr>\n",
              "    <tr>\n",
              "      <th>Num_of_Delayed_Payment</th>\n",
              "      <td>92998</td>\n",
              "      <td>749</td>\n",
              "      <td>19</td>\n",
              "      <td>5327</td>\n",
              "    </tr>\n",
              "    <tr>\n",
              "      <th>Changed_Credit_Limit</th>\n",
              "      <td>100000</td>\n",
              "      <td>4384</td>\n",
              "      <td>_</td>\n",
              "      <td>2091</td>\n",
              "    </tr>\n",
              "    <tr>\n",
              "      <th>Credit_Mix</th>\n",
              "      <td>100000</td>\n",
              "      <td>4</td>\n",
              "      <td>Standard</td>\n",
              "      <td>36479</td>\n",
              "    </tr>\n",
              "    <tr>\n",
              "      <th>Outstanding_Debt</th>\n",
              "      <td>100000</td>\n",
              "      <td>13178</td>\n",
              "      <td>1360.45</td>\n",
              "      <td>24</td>\n",
              "    </tr>\n",
              "    <tr>\n",
              "      <th>Credit_History_Age</th>\n",
              "      <td>90970</td>\n",
              "      <td>404</td>\n",
              "      <td>15 Years and 11 Months</td>\n",
              "      <td>446</td>\n",
              "    </tr>\n",
              "    <tr>\n",
              "      <th>Payment_of_Min_Amount</th>\n",
              "      <td>100000</td>\n",
              "      <td>3</td>\n",
              "      <td>Yes</td>\n",
              "      <td>52326</td>\n",
              "    </tr>\n",
              "    <tr>\n",
              "      <th>Amount_invested_monthly</th>\n",
              "      <td>95521</td>\n",
              "      <td>91049</td>\n",
              "      <td>__10000__</td>\n",
              "      <td>4305</td>\n",
              "    </tr>\n",
              "    <tr>\n",
              "      <th>Payment_Behaviour</th>\n",
              "      <td>100000</td>\n",
              "      <td>7</td>\n",
              "      <td>Low_spent_Small_value_payments</td>\n",
              "      <td>25513</td>\n",
              "    </tr>\n",
              "    <tr>\n",
              "      <th>Monthly_Balance</th>\n",
              "      <td>98800</td>\n",
              "      <td>98792</td>\n",
              "      <td>__-333333333333333333333333333__</td>\n",
              "      <td>9</td>\n",
              "    </tr>\n",
              "    <tr>\n",
              "      <th>Credit_Score</th>\n",
              "      <td>100000</td>\n",
              "      <td>3</td>\n",
              "      <td>Standard</td>\n",
              "      <td>53174</td>\n",
              "    </tr>\n",
              "  </tbody>\n",
              "</table>\n",
              "</div>"
            ],
            "text/plain": [
              "                          count  unique                               top  \\\n",
              "ID                       100000  100000                            0x1602   \n",
              "Customer_ID              100000   12500                         CUS_0xd40   \n",
              "Month                    100000       8                           January   \n",
              "Name                      90015   10139                            Langep   \n",
              "Age                      100000    1788                                38   \n",
              "SSN                      100000   12501                         #F%$D@*&8   \n",
              "Occupation               100000      16                           _______   \n",
              "Annual_Income            100000   18940                          36585.12   \n",
              "Num_of_Loan              100000     434                                 3   \n",
              "Type_of_Loan              88592    6260                     Not Specified   \n",
              "Num_of_Delayed_Payment    92998     749                                19   \n",
              "Changed_Credit_Limit     100000    4384                                 _   \n",
              "Credit_Mix               100000       4                          Standard   \n",
              "Outstanding_Debt         100000   13178                           1360.45   \n",
              "Credit_History_Age        90970     404            15 Years and 11 Months   \n",
              "Payment_of_Min_Amount    100000       3                               Yes   \n",
              "Amount_invested_monthly   95521   91049                         __10000__   \n",
              "Payment_Behaviour        100000       7    Low_spent_Small_value_payments   \n",
              "Monthly_Balance           98800   98792  __-333333333333333333333333333__   \n",
              "Credit_Score             100000       3                          Standard   \n",
              "\n",
              "                          freq  \n",
              "ID                           1  \n",
              "Customer_ID                  8  \n",
              "Month                    12500  \n",
              "Name                        44  \n",
              "Age                       2833  \n",
              "SSN                       5572  \n",
              "Occupation                7062  \n",
              "Annual_Income               16  \n",
              "Num_of_Loan              14386  \n",
              "Type_of_Loan              1408  \n",
              "Num_of_Delayed_Payment    5327  \n",
              "Changed_Credit_Limit      2091  \n",
              "Credit_Mix               36479  \n",
              "Outstanding_Debt            24  \n",
              "Credit_History_Age         446  \n",
              "Payment_of_Min_Amount    52326  \n",
              "Amount_invested_monthly   4305  \n",
              "Payment_Behaviour        25513  \n",
              "Monthly_Balance              9  \n",
              "Credit_Score             53174  "
            ]
          },
          "execution_count": 6,
          "metadata": {},
          "output_type": "execute_result"
        }
      ],
      "source": [
        "# Mostramos la cantidad de registros y columnas de la base de datos\n",
        "data.describe(exclude=np.number).T"
      ]
    },
    {
      "cell_type": "markdown",
      "metadata": {
        "id": "mleXoHRj2r9h"
      },
      "source": [
        "**Observaciones:**\n",
        "\n",
        "1. `Customer_ID` tiene 12500 valores únicos. Esto significa que tenemos datos de 12500 clientes.\n",
        "2. `Month` solo tiene 8 valores únicos. Debemos analizar más a fondo qué meses están presentes.\n",
        "3. `Age` tiene 1788 valores únicos. Esto parece extraño ya que el rango general de edad es de 0-100.\n",
        "4. `SSN` tiene 12501 valores únicos, mientras que `Customer_ID` solo tiene 12500 valores únicos. Existe la posibilidad de que se haya ingresado un valor incorrecto de SSN para uno de los clientes, ya que la misma persona no puede tener múltiples SSN."
      ]
    },
    {
      "cell_type": "markdown",
      "metadata": {
        "id": "RSJXYvuW2r9h"
      },
      "source": [
        "#### Identificación de Valores Faltantes"
      ]
    },
    {
      "cell_type": "code",
      "execution_count": null,
      "metadata": {
        "id": "qrPi2LXb2r9h",
        "outputId": "9b3ff4b2-0b6a-4f34-dbd5-c7b6be9c2f7a"
      },
      "outputs": [
        {
          "data": {
            "text/plain": [
              "ID                              0\n",
              "Customer_ID                     0\n",
              "Month                           0\n",
              "Name                         9985\n",
              "Age                             0\n",
              "SSN                             0\n",
              "Occupation                      0\n",
              "Annual_Income                   0\n",
              "Monthly_Inhand_Salary       15002\n",
              "Num_Bank_Accounts               0\n",
              "Num_Credit_Card                 0\n",
              "Interest_Rate                   0\n",
              "Num_of_Loan                     0\n",
              "Type_of_Loan                11408\n",
              "Delay_from_due_date             0\n",
              "Num_of_Delayed_Payment       7002\n",
              "Changed_Credit_Limit            0\n",
              "Num_Credit_Inquiries         1965\n",
              "Credit_Mix                      0\n",
              "Outstanding_Debt                0\n",
              "Credit_Utilization_Ratio        0\n",
              "Credit_History_Age           9030\n",
              "Payment_of_Min_Amount           0\n",
              "Total_EMI_per_month             0\n",
              "Amount_invested_monthly      4479\n",
              "Payment_Behaviour               0\n",
              "Monthly_Balance              1200\n",
              "Credit_Score                    0\n",
              "dtype: int64"
            ]
          },
          "execution_count": 7,
          "metadata": {},
          "output_type": "execute_result"
        }
      ],
      "source": [
        "# Identificar valores faltantes\n",
        "missing_values = data.isnull().sum()\n",
        "missing_values"
      ]
    },
    {
      "cell_type": "code",
      "execution_count": null,
      "metadata": {
        "id": "ATLD8Zjs2r9h",
        "outputId": "987069a1-ec2c-48d5-c669-c8bfc64cb957"
      },
      "outputs": [
        {
          "data": {
            "text/plain": [
              "ID                           0.000\n",
              "Customer_ID                  0.000\n",
              "Month                        0.000\n",
              "Name                         9.985\n",
              "Age                          0.000\n",
              "SSN                          0.000\n",
              "Occupation                   0.000\n",
              "Annual_Income                0.000\n",
              "Monthly_Inhand_Salary       15.002\n",
              "Num_Bank_Accounts            0.000\n",
              "Num_Credit_Card              0.000\n",
              "Interest_Rate                0.000\n",
              "Num_of_Loan                  0.000\n",
              "Type_of_Loan                11.408\n",
              "Delay_from_due_date          0.000\n",
              "Num_of_Delayed_Payment       7.002\n",
              "Changed_Credit_Limit         0.000\n",
              "Num_Credit_Inquiries         1.965\n",
              "Credit_Mix                   0.000\n",
              "Outstanding_Debt             0.000\n",
              "Credit_Utilization_Ratio     0.000\n",
              "Credit_History_Age           9.030\n",
              "Payment_of_Min_Amount        0.000\n",
              "Total_EMI_per_month          0.000\n",
              "Amount_invested_monthly      4.479\n",
              "Payment_Behaviour            0.000\n",
              "Monthly_Balance              1.200\n",
              "Credit_Score                 0.000\n",
              "dtype: float64"
            ]
          },
          "execution_count": 8,
          "metadata": {},
          "output_type": "execute_result"
        }
      ],
      "source": [
        "# Mostramos el porcentaje de valores faltantes\n",
        "data.isnull().mean()*100"
      ]
    },
    {
      "cell_type": "markdown",
      "metadata": {
        "id": "spUhbCzV2r9i"
      },
      "source": [
        "#### Eliminación de columnas que no aportan información útil"
      ]
    },
    {
      "cell_type": "markdown",
      "metadata": {
        "id": "4YnhyiFi2r9i"
      },
      "source": [
        "La decisión de qué columnas eliminar depende en gran medida del contexto y del objetivo del análisis. Sin embargo, aquí hay algunas pautas generales que podemos considerar:\n",
        "\n",
        "**Irrelevancia para el modelado**: Las columnas que contienen un valor único para cada fila (como un ID) generalmente no aportan información útil para un modelo de data mining y pueden ser eliminadas.\n",
        "\n",
        "Vamos a usar la función `drop` de pandas para eliminar las columnas con valores únicos.\n",
        "`data.drop(...)`: Esta es la función de pandas que se utiliza para eliminar columnas o filas de un DataFrame.\n",
        "\n",
        "Por ejemplo, la columna `'Name'` contiene los nombres de los individuos que han solicitado créditos. En general, los nombres de las personas no proporcionan información útil para un modelo de aprendizaje automático, ya que son únicos para cada individuo y no tienen una relación directa con otras variables.\n",
        "\n",
        "Además, codificar columnas con valores únicos, podría resultar en un gran número de características únicas, lo que podría hacer el modelo sea más complejo y difícil de entrenar.\n",
        "\n",
        "Por lo tanto, en la mayoría de los casos, es seguro eliminar la columna 'Name' del conjunto de datos. Sin embargo, hay excepciones. Por ejemplo, si los nombres tienen algún tipo de información codificada (como un prefijo que indica el género o el estatus social), podemos extraer esa información antes de eliminar la columna. Pero en la mayoría de los casos, especialmente si estás tratando con nombres reales de personas, es mejor eliminar la columna."
      ]
    },
    {
      "cell_type": "markdown",
      "metadata": {
        "id": "jv3A-6Lu2r9i"
      },
      "source": [
        "Las columnas `ID`, `SSN` y `Customer_ID` se eliminan generalmente por las siguientes razones:\n",
        "\n",
        "**Irrelevancia para el modelado**: Estas columnas suelen ser identificadores únicos para cada registro o cliente. No contienen información útil para el modelado predictivo, ya que no tienen ninguna relación con las otras variables.\n",
        "\n",
        "**Evitar el sobreajuste**: Si se incluyen en el modelo, pueden causar sobreajuste. El modelo podría aprender a hacer predicciones basándose en el ID del cliente, lo cual no es útil ni generalizable.\n",
        "\n",
        "**Privacidad de los datos**: En algunos casos, los identificadores de los clientes se eliminan para proteger la privacidad de los clientes, especialmente cuando los datos se comparten o se publican."
      ]
    },
    {
      "cell_type": "code",
      "execution_count": null,
      "metadata": {
        "id": "VvcZrgpM2r9i",
        "outputId": "8364cc78-6483-4792-b677-0c3969aaa2a6"
      },
      "outputs": [
        {
          "data": {
            "text/html": [
              "<div>\n",
              "<style scoped>\n",
              "    .dataframe tbody tr th:only-of-type {\n",
              "        vertical-align: middle;\n",
              "    }\n",
              "\n",
              "    .dataframe tbody tr th {\n",
              "        vertical-align: top;\n",
              "    }\n",
              "\n",
              "    .dataframe thead th {\n",
              "        text-align: right;\n",
              "    }\n",
              "</style>\n",
              "<table border=\"1\" class=\"dataframe\">\n",
              "  <thead>\n",
              "    <tr style=\"text-align: right;\">\n",
              "      <th></th>\n",
              "      <th>Age</th>\n",
              "      <th>Occupation</th>\n",
              "      <th>Annual_Income</th>\n",
              "      <th>Monthly_Inhand_Salary</th>\n",
              "      <th>Num_Bank_Accounts</th>\n",
              "      <th>Num_Credit_Card</th>\n",
              "      <th>Interest_Rate</th>\n",
              "      <th>Num_of_Loan</th>\n",
              "      <th>Type_of_Loan</th>\n",
              "      <th>Delay_from_due_date</th>\n",
              "      <th>...</th>\n",
              "      <th>Credit_Mix</th>\n",
              "      <th>Outstanding_Debt</th>\n",
              "      <th>Credit_Utilization_Ratio</th>\n",
              "      <th>Credit_History_Age</th>\n",
              "      <th>Payment_of_Min_Amount</th>\n",
              "      <th>Total_EMI_per_month</th>\n",
              "      <th>Amount_invested_monthly</th>\n",
              "      <th>Payment_Behaviour</th>\n",
              "      <th>Monthly_Balance</th>\n",
              "      <th>Credit_Score</th>\n",
              "    </tr>\n",
              "  </thead>\n",
              "  <tbody>\n",
              "    <tr>\n",
              "      <th>0</th>\n",
              "      <td>23</td>\n",
              "      <td>Scientist</td>\n",
              "      <td>19114.12</td>\n",
              "      <td>1824.843333</td>\n",
              "      <td>3</td>\n",
              "      <td>4</td>\n",
              "      <td>3</td>\n",
              "      <td>4</td>\n",
              "      <td>Auto Loan, Credit-Builder Loan, Personal Loan,...</td>\n",
              "      <td>3</td>\n",
              "      <td>...</td>\n",
              "      <td>_</td>\n",
              "      <td>809.98</td>\n",
              "      <td>26.822620</td>\n",
              "      <td>22 Years and 1 Months</td>\n",
              "      <td>No</td>\n",
              "      <td>49.574949</td>\n",
              "      <td>80.41529543900253</td>\n",
              "      <td>High_spent_Small_value_payments</td>\n",
              "      <td>312.49408867943663</td>\n",
              "      <td>Good</td>\n",
              "    </tr>\n",
              "    <tr>\n",
              "      <th>1</th>\n",
              "      <td>23</td>\n",
              "      <td>Scientist</td>\n",
              "      <td>19114.12</td>\n",
              "      <td>NaN</td>\n",
              "      <td>3</td>\n",
              "      <td>4</td>\n",
              "      <td>3</td>\n",
              "      <td>4</td>\n",
              "      <td>Auto Loan, Credit-Builder Loan, Personal Loan,...</td>\n",
              "      <td>-1</td>\n",
              "      <td>...</td>\n",
              "      <td>Good</td>\n",
              "      <td>809.98</td>\n",
              "      <td>31.944960</td>\n",
              "      <td>NaN</td>\n",
              "      <td>No</td>\n",
              "      <td>49.574949</td>\n",
              "      <td>118.28022162236736</td>\n",
              "      <td>Low_spent_Large_value_payments</td>\n",
              "      <td>284.62916249607184</td>\n",
              "      <td>Good</td>\n",
              "    </tr>\n",
              "    <tr>\n",
              "      <th>2</th>\n",
              "      <td>-500</td>\n",
              "      <td>Scientist</td>\n",
              "      <td>19114.12</td>\n",
              "      <td>NaN</td>\n",
              "      <td>3</td>\n",
              "      <td>4</td>\n",
              "      <td>3</td>\n",
              "      <td>4</td>\n",
              "      <td>Auto Loan, Credit-Builder Loan, Personal Loan,...</td>\n",
              "      <td>3</td>\n",
              "      <td>...</td>\n",
              "      <td>Good</td>\n",
              "      <td>809.98</td>\n",
              "      <td>28.609352</td>\n",
              "      <td>22 Years and 3 Months</td>\n",
              "      <td>No</td>\n",
              "      <td>49.574949</td>\n",
              "      <td>81.699521264648</td>\n",
              "      <td>Low_spent_Medium_value_payments</td>\n",
              "      <td>331.2098628537912</td>\n",
              "      <td>Good</td>\n",
              "    </tr>\n",
              "    <tr>\n",
              "      <th>3</th>\n",
              "      <td>23</td>\n",
              "      <td>Scientist</td>\n",
              "      <td>19114.12</td>\n",
              "      <td>NaN</td>\n",
              "      <td>3</td>\n",
              "      <td>4</td>\n",
              "      <td>3</td>\n",
              "      <td>4</td>\n",
              "      <td>Auto Loan, Credit-Builder Loan, Personal Loan,...</td>\n",
              "      <td>5</td>\n",
              "      <td>...</td>\n",
              "      <td>Good</td>\n",
              "      <td>809.98</td>\n",
              "      <td>31.377862</td>\n",
              "      <td>22 Years and 4 Months</td>\n",
              "      <td>No</td>\n",
              "      <td>49.574949</td>\n",
              "      <td>199.4580743910713</td>\n",
              "      <td>Low_spent_Small_value_payments</td>\n",
              "      <td>223.45130972736786</td>\n",
              "      <td>Good</td>\n",
              "    </tr>\n",
              "    <tr>\n",
              "      <th>4</th>\n",
              "      <td>23</td>\n",
              "      <td>Scientist</td>\n",
              "      <td>19114.12</td>\n",
              "      <td>1824.843333</td>\n",
              "      <td>3</td>\n",
              "      <td>4</td>\n",
              "      <td>3</td>\n",
              "      <td>4</td>\n",
              "      <td>Auto Loan, Credit-Builder Loan, Personal Loan,...</td>\n",
              "      <td>6</td>\n",
              "      <td>...</td>\n",
              "      <td>Good</td>\n",
              "      <td>809.98</td>\n",
              "      <td>24.797347</td>\n",
              "      <td>22 Years and 5 Months</td>\n",
              "      <td>No</td>\n",
              "      <td>49.574949</td>\n",
              "      <td>41.420153086217326</td>\n",
              "      <td>High_spent_Medium_value_payments</td>\n",
              "      <td>341.48923103222177</td>\n",
              "      <td>Good</td>\n",
              "    </tr>\n",
              "  </tbody>\n",
              "</table>\n",
              "<p>5 rows × 23 columns</p>\n",
              "</div>"
            ],
            "text/plain": [
              "    Age Occupation Annual_Income  Monthly_Inhand_Salary  Num_Bank_Accounts  \\\n",
              "0    23  Scientist      19114.12            1824.843333                  3   \n",
              "1    23  Scientist      19114.12                    NaN                  3   \n",
              "2  -500  Scientist      19114.12                    NaN                  3   \n",
              "3    23  Scientist      19114.12                    NaN                  3   \n",
              "4    23  Scientist      19114.12            1824.843333                  3   \n",
              "\n",
              "   Num_Credit_Card  Interest_Rate Num_of_Loan  \\\n",
              "0                4              3           4   \n",
              "1                4              3           4   \n",
              "2                4              3           4   \n",
              "3                4              3           4   \n",
              "4                4              3           4   \n",
              "\n",
              "                                        Type_of_Loan  Delay_from_due_date  \\\n",
              "0  Auto Loan, Credit-Builder Loan, Personal Loan,...                    3   \n",
              "1  Auto Loan, Credit-Builder Loan, Personal Loan,...                   -1   \n",
              "2  Auto Loan, Credit-Builder Loan, Personal Loan,...                    3   \n",
              "3  Auto Loan, Credit-Builder Loan, Personal Loan,...                    5   \n",
              "4  Auto Loan, Credit-Builder Loan, Personal Loan,...                    6   \n",
              "\n",
              "   ... Credit_Mix Outstanding_Debt  Credit_Utilization_Ratio  \\\n",
              "0  ...          _           809.98                 26.822620   \n",
              "1  ...       Good           809.98                 31.944960   \n",
              "2  ...       Good           809.98                 28.609352   \n",
              "3  ...       Good           809.98                 31.377862   \n",
              "4  ...       Good           809.98                 24.797347   \n",
              "\n",
              "      Credit_History_Age Payment_of_Min_Amount  Total_EMI_per_month  \\\n",
              "0  22 Years and 1 Months                    No            49.574949   \n",
              "1                    NaN                    No            49.574949   \n",
              "2  22 Years and 3 Months                    No            49.574949   \n",
              "3  22 Years and 4 Months                    No            49.574949   \n",
              "4  22 Years and 5 Months                    No            49.574949   \n",
              "\n",
              "  Amount_invested_monthly                 Payment_Behaviour  \\\n",
              "0       80.41529543900253   High_spent_Small_value_payments   \n",
              "1      118.28022162236736    Low_spent_Large_value_payments   \n",
              "2         81.699521264648   Low_spent_Medium_value_payments   \n",
              "3       199.4580743910713    Low_spent_Small_value_payments   \n",
              "4      41.420153086217326  High_spent_Medium_value_payments   \n",
              "\n",
              "      Monthly_Balance Credit_Score  \n",
              "0  312.49408867943663         Good  \n",
              "1  284.62916249607184         Good  \n",
              "2   331.2098628537912         Good  \n",
              "3  223.45130972736786         Good  \n",
              "4  341.48923103222177         Good  \n",
              "\n",
              "[5 rows x 23 columns]"
            ]
          },
          "execution_count": 26,
          "metadata": {},
          "output_type": "execute_result"
        }
      ],
      "source": [
        "# Eliminamos columnas que no aportan información relevante para el análisis\n",
        "data = data.drop(['ID', 'SSN', 'Customer_ID', 'Name', 'Month'], axis=1)\n",
        "data.head()"
      ]
    },
    {
      "cell_type": "markdown",
      "metadata": {
        "id": "hf44Ta_02r9i"
      },
      "source": [
        "#### Tratamiento de la columna `Age`"
      ]
    },
    {
      "cell_type": "code",
      "execution_count": null,
      "metadata": {
        "id": "ouvGiVVY2r9i",
        "outputId": "00c20aa0-0461-4493-9c8d-ab4bdee942c1"
      },
      "outputs": [
        {
          "name": "stdout",
          "output_type": "stream",
          "text": [
            "['23', '-500', '28_', '28', '34', '54', '55', '21', '31', '33', '34_', '7580', '30', '30_', '24', '24_', '44', '45', '40', '41', '32', '33_', '35', '35_', '36', '39', '37', '181', '20', '46', '26', '42', '19', '31_', '48', '995', '40_', '37_', '38', '54_', '5079', '43', '21_', '22', '6409', '16', '7080', '18', '849', '3885', '20_', '15', '27', '43_', '38_', '25', '3052', '14', '5342', '17', '18_', '4431', '2657', '2111_', '46_', '47', '1032', '16_', '19_', '47_', '456', '5717', '53_', '53', '56', '25_', '27_', '55_', '3169', '1191', '29', '42_', '7140', '48_', '49', '49_', '8233', '6955', '2534', '3115', '7657', '51', '50', '5112', '50_', '32_', '6452', '2744', '22_', '17_', '1439', '29_', '5795', '4872', '1772', '15_', '1383', '5657', '52', '1934', '51_', '8352', '3734', '26_', '2056', '39_', '7508', '2339', '14_', '8406', '1424', '36_', '6953', '5626', '4471', '548', '44_', '769', '5490', '525', '4202', '3665', '7670_', '4670', '3616', '6922', '6619', '1808', '7992', '45_', '223', '1232', '4659', '6895', '395', '7099', '6048', '3936', '3512', '123', '5639', '471', '7359', '23_', '4049', '5053', '2109', '7183', '5604', '1206', '6835', '4067', '41_', '1812', '1170', '3625', '6354', '3724', '480', '5610', '4710', '4351', '52_', '5784', '3937', '3542', '2239', '5645', '7425', '7851', '2027', '6306', '835', '3513', '6846', '6868', '7805', '7274', '831', '8394', '2751', '733_', '783', '2455', '5612', '2402', '4119', '4645', '8105', '1400', '7431', '3666', '2350', '491', '1116', '692', '5429', '4745', '4017', '3279', '651', '5611', '5769_', '6586', '7699', '919', '6765', '5376', '2546', '112', '3909', '5054', '8655', '4383_', '2824', '56_', '7865', '2823', '6365', '5688', '6178', '886', '3353', '8562', '7750', '5186', '8080', '3553', '5537', '3967', '6520', '2650_', '1335', '2054', '7068', '6100', '2636', '1753', '6389', '2419', '2033', '2961', '3307_', '5504', '4060', '5237', '2297', '5583', '4958', '6395', '3319', '7705', '4820', '2456', '5194', '5154', '4155', '7336', '7195', '8005', '5165', '3861', '2584', '2563', '5592', '3771', '1188', '5017', '8034', '5256', '8173', '6962_', '3578', '4572', '5589_', '328', '1678', '1512', '6556_', '5430', '8442', '4517', '7525', '1203', '4260', '7980', '7153', '2400', '6331', '3715', '3285', '8043', '8250', '8628', '8608', '7016', '989', '359', '8155', '2090', '4126', '3791', '5782', '6292', '8662', '1681', '1338', '8000', '7935', '5608', '1006', '1451', '622', '4857', '2369', '8216', '7330', '7289', '3601', '4127', '236', '6707', '493', '4682', '287', '375', '5195', '1969', '5788', '6413', '2388', '5152', '3986', '1715', '8200', '4336', '8299', '1308', '3888', '1051', '134', '5897', '6350', '2379', '3197', '3341', '8674', '7123', '556', '1083', '1447_', '7032', '5579', '1692', '4204', '7968', '1148', '2980', '4626', '3492', '1323', '2799', '6426', '186', '5498', '7060', '1752', '1816', '609', '2514', '6276', '4365', '8421', '8153_', '4609', '1625', '2614', '4603', '7026', '4010', '624', '1143', '5870', '3607', '8505', '528', '1578', '4404', '4414', '6704', '2509', '7456', '7353', '3075', '2081', '925', '4021', '3602', '5930', '306', '7197', '1066', '4527', '6510', '1062', '5221', '7166', '4391', '6651', '1227', '7112', '3214', '8472', '836', '7553', '7504', '1357', '3284', '2721', '6385', '2997', '2451', '3480', '3357', '711', '8632', '1388', '5696', '5524', '356', '6608', '5705', '8567', '3132', '1433', '1695', '8639', '8582', '2275', '4959', '3834_', '623', '7295', '3345', '3493', '182', '126', '6744_', '4390', '7715', '6130', '6471_', '7723_', '3768', '4178', '4630', '1420', '6417', '2560', '3985', '3750', '4444', '234', '3795', '637', '6649', '4380', '5714', '7693', '2174', '2366', '5781', '5677', '3038', '4897', '7937', '365', '7640_', '6408_', '1112', '3546', '8424', '124', '3502_', '5747', '8082', '7564', '1436', '3519', '6175', '2091', '8249', '7316_', '2578', '4687', '4163', '5796', '5123', '6943', '8338', '6345', '1364', '6777', '4782', '5981', '963', '5907', '6978', '673', '6322', '6384', '3036', '1270', '8561', '634', '2352', '6800', '118', '1010', '2395', '6781', '5520', '7042', '8592', '1868', '4307', '2764', '6796', '6646', '142', '6141', '1852', '4416', '8466', '4576', '3410', '8151', '890', '3581', '6925', '5479', '1102_', '8669_', '5074', '2463_', '3940', '5508', '1788', '216', '5173', '7965', '7987', '6666_', '921', '4719', '7092', '1657', '5738', '349', '6995', '7441', '5976', '762', '6485', '7702', '5708', '946', '4564', '3093', '6767', '3933', '3458', '1300', '5851', '774', '2577', '1811', '7480', '7113', '6273', '7235', '1452', '4058', '7520', '7414', '4370', '1853', '4649', '7845', '2864', '7925', '5550', '4165', '6411', '4063', '3215', '169', '99', '3055_', '1248_', '586', '2386', '5649', '8520', '100', '3978', '3244', '3778', '879', '1024', '423', '3938', '2882', '6036', '6037', '1484', '4643', '4510', '3146', '8514', '2220_', '6360', '362', '5996', '6892', '2159_', '5001', '576', '5018', '387', '4890', '5507', '4661', '1386', '330', '6074', '6970', '102', '5906', '203', '3640', '8124', '4484', '2778', '2434', '742', '7794', '4177', '4246', '208', '5765', '7710', '1734', '5202', '853', '3450', '1630', '3843', '7038', '8384', '8179', '5551', '6593', '7490', '2574', '1644', '111', '4975', '5478', '1176', '1418', '4679', '5751', '3779', '6611', '325', '7879', '6227', '6111', '573', '3726', '6722', '4732', '1754', '3966', '2437', '2212', '8081', '4194', '3119', '7549', '4583_', '3452', '1908', '3988_', '5621', '7178', '5741', '4774', '5116', '3378', '8302', '7651', '404', '3023', '5032', '4787', '305', '4107', '381', '8623', '6407', '3675', '1265', '399', '2461', '2977', '3490', '438', '1328', '2037', '1609', '7325', '8682', '4470', '899', '5532', '4083', '3096', '1971', '1094', '1294', '7736', '6366', '5287', '4244', '3853', '4214', '1402', '2672', '5008', '2155_', '2756', '4846', '7773', '2182', '5994', '4980', '6301', '3363', '8663', '1520', '678', '4056', '7279', '828', '4076', '1491', '6697', '5340', '813', '6001', '5288', '6197', '5177', '7014', '1686', '2382', '1378', '2650', '3264', '6006', '4736', '4213', '532', '506', '3276', '4525', '6653', '8306', '5117', '2048', '3701', '95', '1387', '6799', '267', '1786', '7787', '7797', '4590', '6378', '3369', '4542', '1366', '540', '3899', '6770_', '1497', '7377', '6550', '5539', '7133', '5156', '5742', '1363', '1095', '1648', '1985', '4607', '993', '1330', '5066', '6463', '6349', '2988', '6691', '3145', '793', '1119', '8159', '8396', '3193', '3085', '6971', '5959', '1843_', '449', '5377', '4387', '5902', '620', '514', '252', '6915', '3642', '2974', '6381', '652', '1367_', '553', '1355', '4277', '7713', '8291', '8154', '7933', '2347', '6098', '2731', '3742_', '2593', '4232', '5909', '2171_', '4120', '2449', '4311', '8296', '7556', '1404', '7856', '640', '2847', '2093', '5109_', '1571', '846', '1435', '8333', '6863', '655', '6262', '4914', '1053', '3747', '4931', '7315', '292', '2499', '4847', '736', '2858', '6633', '7286', '2989', '4135', '3639', '4746', '1787', '4298', '8049', '2696', '6909', '7894', '8525', '1947', '7765', '8004', '8234', '6708', '2404', '6506', '1661', '8246', '7923', '2047', '3365', '4863', '701', '2184', '8450', '581', '502', '1618', '2077', '737', '8251', '2305', '7298', '221', '6663', '6657', '6588', '3463', '6337', '6516', '3984_', '2076', '2513', '6280', '3237', '3454', '4622', '5712', '275', '240', '5868', '568', '2096', '2170', '8235', '986', '5471', '1785', '1593', '2474_', '2933', '6731', '7131', '7444', '5046_', '4133', '3258', '4407', '7715_', '1565', '6159', '2276', '7459', '3891', '3205', '2117', '7806', '6638', '8271', '3920', '2843', '4881', '4909', '6283', '4948', '6894', '5041', '7619', '7063', '3952', '2486', '5936', '6581', '1384', '8260', '6286', '5111', '4923', '7694', '1220', '6841', '1540', '2181', '4946', '2822', '4494', '7912', '1956', '6427', '5924', '8386', '1642', '529', '4655', '8371', '4663', '5818', '2895', '8389', '3930', '1429', '6652', '3764', '8552', '4775', '5132', '2654', '2749', '7438', '3629', '5253', '2208', '2713', '885', '6425', '7690', '2329_', '6124', '2773', '293', '3714', '6694', '3638', '5113', '7804', '5465', '2226', '2015', '8480', '4536', '869', '2341', '5118', '2512', '2221', '6189', '1689', '6184', '1883', '3502', '7962', '6121', '7762', '5438', '814', '4196', '3337', '6256', '8455', '5627', '7618', '8228', '3634', '4000', '707_', '2038', '1687', '4616', '4879', '4592', '3806', '3537', '3718', '4501', '6091', '109', '6015', '2661', '6210', '4034', '4580', '6288', '7919', '5687', '8172', '6375', '5749', '3814', '3014', '7711', '8149', '2540', '819', '3507', '5514', '3766', '6754', '8279', '1525', '844_', '1310', '4458', '2127', '4575', '4936', '5938', '5643', '6219', '3790', '1990', '2580', '4860', '3413', '2939', '2987', '2756_', '7922', '1496', '8229', '7386', '2733', '5995', '2037_', '8035', '3385', '1925', '6456', '1144', '2024', '1407', '7082', '4279', '5327', '8516', '1133', '956', '1792', '1643', '5828', '8106', '1751', '6563', '5463', '6733', '8409', '7527', '3854', '924', '7065', '1441', '7641', '1733', '940', '8015', '8566', '2360', '5203', '5233', '1814', '6248', '5855', '6674', '6713', '5069', '3402', '1337', '6433', '6778', '902_', '6660', '3417', '429', '8150', '7746', '1958', '2309', '5413', '2113', '4706', '2116', '7776', '7240', '8090', '751', '7206', '2411', '1217', '3439', '715', '6786', '1817', '6321', '7524', '8448', '6794', '3789', '6501', '7868', '933', '8467', '4841', '8523_', '642', '5929', '1527', '1087', '8569', '347', '8503', '5301', '7725', '8295', '5027', '3640_', '7066', '5517', '4459', '7435', '3992', '1324', '6747', '3596', '5957', '2604', '3998_', '8125', '7392', '498', '3194', '3681', '6991', '3712_', '8037', '2097_', '3379', '7453', '1149', '8411', '8091', '6849', '1345', '8348_', '7900', '8127', '3873', '8616', '5425', '2507', '3004', '6579', '7157', '1537', '6577', '5588', '1996', '5748', '8473', '4926', '6113', '8370', '3103', '3913', '2106', '1842', '4287', '2558', '7255', '6632', '6763', '6460', '189', '434', '5730', '8485', '4548', '2821', '5793', '8036', '1136', '3765', '2525', '5020', '4566', '7151', '7792', '6775', '7808', '5164', '8286', '3326', '7663', '372', '1235', '2712', '4556', '1004', '2175', '1040', '6435', '4899', '7249', '6221', '1923', '5940', '4219', '3944', '6125', '6525', '2343', '3818', '7838', '4865', '5373_', '4988', '5222', '3291_', '3200', '8072', '7266', '2994_', '4271', '3339_', '2634', '6092', '2812_', '344', '6902', '5975', '448', '4601', '3332', '8547', '2926', '194', '3394', '7264', '8666', '5400', '2932', '7323', '8698', '3578_', '7733', '5419', '1461', '1405', '8199', '5603', '4921', '4007', '6191', '5361', '4189', '8381', '4568', '8100', '7967', '1289', '1443', '5121', '7579', '4781', '4190', '1664', '3564_', '6528', '3367', '7349', '535', '8422', '4318', '1306', '1362', '824', '3278', '2952', '1608', '8587', '6172', '7223', '3703', '6947', '8113', '6634', '5767', '5568', '6918', '806', '7493', '5931', '2405', '6843', '2928', '979', '1131', '8403', '1794_', '7849', '6736', '6696', '210', '6291', '4967', '5316', '8040', '2253', '7615', '2535', '5456', '2079', '6547', '5236', '5791', '1392', '5421', '3610', '4212', '1857', '4408', '4862', '5970', '4552', '7920', '6424', '737_', '2209', '4185', '672', '3048', '1172', '5247', '1696', '8470', '5629', '7139', '283', '6877', '5963', '1820', '2484', '4301_', '7610', '8288', '1202', '3167', '2919', '6295', '1485', '2638', '3720', '3213', '5939', '5184', '1858', '316', '2320', '6423', '7574', '6803', '5261', '509', '7256', '2846_', '7447', '4188', '7986', '1409', '5426', '7171', '2373_', '1188_', '1110', '4906', '2323', '1482', '4518', '6684', '7558', '5587', '6493', '5270', '4448', '1542', '5580', '7316', '4186', '3159', '7230', '2115', '8207_', '1515', '3617', '6392', '7271', '115', '960', '5909_', '6167', '8031', '8198', '6717', '3443', '6394', '3083', '7890', '2313', '1651', '1782', '1683', '6040', '1459', '2954', '8678', '488', '6140', '6381_', '4824', '2334', '7388', '8697', '5827', '1171', '3125', '2205', '504', '2318', '2351', '4475', '2178', '2381', '3361', '2809', '7201', '5988', '8616_', '6799_', '7342', '2659', '1591_', '7327', '817', '1460', '8640', '7681', '2249', '2104', '3775_', '7832', '4464', '3713', '5487', '2717', '8379', '6410', '4121', '3910', '6430', '4382', '8385', '1028', '2598', '1322', '1810', '4112', '2274', '6494', '2958', '8052', '7880', '6379', '2471', '8212', '3651', '6341', '725', '402', '8378', '2871', '146', '2357', '4089', '2160', '8069', '1022', '690', '383', '992', '7371', '5512', '5656', '6564_', '4574', '5153', '2543', '5101', '5840', '740', '3441', '6226', '5004', '1174', '681', '2880', '3988', '1900', '4252', '1154', '8481', '2128', '941', '4894', '246', '820', '8553', '6032', '6683', '2957', '7122_', '4913_', '6939', '6725', '1740', '4970', '4582', '594', '6814', '4422', '6165', '7768', '6086', '5219', '2321', '7489', '6287', '5509', '5697_', '985', '2626', '5422', '2955', '7799', '496', '4635', '1225', '1850', '3953', '6043', '2084', '3124', '5955', '3274', '7753', '1437', '5052', '4050', '3843_', '8046', '5778', '7236', '6914', '5122', '4521', '6254', '1583', '4929', '1368', '7973', '4041', '6212', '2108', '6912', '5140', '3689', '1939', '3919', '6190', '7523', '3855', '4227', '5541', '6596', '6199', '2620', '669', '2035', '5615', '4445_', '1794', '419', '6441', '1321', '8643', '5735', '3555', '3856', '462', '262', '6921_', '8088', '6355', '6665', '2630', '335', '6964', '6558', '6728', '2679', '3483', '8518', '1101', '7410', '1231', '4615', '6237', '1033', '7417', '4944', '6309', '1197', '962', '6099', '6990', '6364', '2074', '7476', '6117', '727', '3840', '7898', '7445', '6206', '3262', '2204', '1234', '7517', '4270', '2441', '780_', '952', '1394', '1200', '2765', '7886', '6839', '2840', '6007', '3904', '333', '598', '5602', '7462', '5973', '2855', '7481', '7638', '4347', '2875', '5063', '3155', '6618', '8297', '1953', '278', '8204', '7409', '5147', '7901', '5642', '6135', '920', '4402', '1070_', '8490', '5798_', '2406', '8315', '8425', '6476', '4808_', '2263', '1342']\n"
          ]
        }
      ],
      "source": [
        "# Mostramos los valores únicos de la columna 'Age'\n",
        "print(list(data['Age'].unique()))"
      ]
    },
    {
      "cell_type": "markdown",
      "metadata": {
        "id": "h23MAo8L2r9i"
      },
      "source": [
        "**Observación:**\n",
        "1. Algunos valores de `Age` tienen un guion bajo, que puede representar un error de tipeo (inconsistencia).\n",
        "2. Se encuentran valores de edad negativos, lo que no es posible.\n",
        "3. Aunque es posible que un cliente tenga más de 100 años, necesitamos establecer un rango."
      ]
    },
    {
      "cell_type": "code",
      "execution_count": null,
      "metadata": {
        "id": "0Lv4bkfb2r9j",
        "outputId": "892b673a-d985-4e97-a6af-624e53be4f85"
      },
      "outputs": [
        {
          "name": "stdout",
          "output_type": "stream",
          "text": [
            "[23.0, 33.32327408870238, 28.0, 34.0, 54.0, 55.0, 21.0, 31.0, 33.0, 30.0, 24.0, 44.0, 45.0, 40.0, 41.0, 32.0, 35.0, 36.0, 39.0, 37.0, 20.0, 46.0, 26.0, 42.0, 19.0, 48.0, 38.0, 43.0, 22.0, 16.0, 18.0, 15.0, 27.0, 25.0, 14.0, 17.0, 47.0, 53.0, 56.0, 29.0, 49.0, 51.0, 50.0, 52.0, 99.0, 100.0, 95.0]\n",
            "float64\n"
          ]
        }
      ],
      "source": [
        "# Substituimos los valores '_' por '' y los convertimos a tipo flotante ('float')\n",
        "data['Age'] = data['Age'].replace('_', '', regex=True).astype('float') # regex interpreta un string como una expresión regular\n",
        "\n",
        "# Definimos un rango para los valores de la columna 'Age' de 1:100 y sustituimos los restantes con 'nan'\n",
        "data.loc[data.Age < 1, 'Age'] = np.nan\n",
        "data.loc[data.Age > 100, 'Age'] = np.nan\n",
        "\n",
        "# Reemplazamos los valores 'nan' de la columna 'Age' con la media de la misma\n",
        "data['Age'] = data['Age'].fillna(data['Age'].mean())\n",
        "\n",
        "# Mostramos los valores únicos de la columna 'Age'\n",
        "print(list(data['Age'].unique()))\n",
        "\n",
        "# Mostramos el tipo de la columna 'Age'\n",
        "print(data['Age'].dtype)"
      ]
    },
    {
      "cell_type": "code",
      "execution_count": null,
      "metadata": {
        "id": "G0l63HWp2r9j",
        "outputId": "b3563ba5-1396-4d43-b3a6-6699d02d57e5"
      },
      "outputs": [
        {
          "name": "stdout",
          "output_type": "stream",
          "text": [
            "<class 'pandas.core.frame.DataFrame'>\n",
            "RangeIndex: 100000 entries, 0 to 99999\n",
            "Data columns (total 23 columns):\n",
            " #   Column                    Non-Null Count   Dtype  \n",
            "---  ------                    --------------   -----  \n",
            " 0   Age                       100000 non-null  float64\n",
            " 1   Occupation                100000 non-null  object \n",
            " 2   Annual_Income             100000 non-null  object \n",
            " 3   Monthly_Inhand_Salary     84998 non-null   float64\n",
            " 4   Num_Bank_Accounts         100000 non-null  int64  \n",
            " 5   Num_Credit_Card           100000 non-null  int64  \n",
            " 6   Interest_Rate             100000 non-null  int64  \n",
            " 7   Num_of_Loan               100000 non-null  object \n",
            " 8   Type_of_Loan              88592 non-null   object \n",
            " 9   Delay_from_due_date       100000 non-null  int64  \n",
            " 10  Num_of_Delayed_Payment    92998 non-null   object \n",
            " 11  Changed_Credit_Limit      100000 non-null  object \n",
            " 12  Num_Credit_Inquiries      98035 non-null   float64\n",
            " 13  Credit_Mix                100000 non-null  object \n",
            " 14  Outstanding_Debt          100000 non-null  object \n",
            " 15  Credit_Utilization_Ratio  100000 non-null  float64\n",
            " 16  Credit_History_Age        90970 non-null   object \n",
            " 17  Payment_of_Min_Amount     100000 non-null  object \n",
            " 18  Total_EMI_per_month       100000 non-null  float64\n",
            " 19  Amount_invested_monthly   95521 non-null   object \n",
            " 20  Payment_Behaviour         100000 non-null  object \n",
            " 21  Monthly_Balance           98800 non-null   object \n",
            " 22  Credit_Score              100000 non-null  object \n",
            "dtypes: float64(5), int64(4), object(14)\n",
            "memory usage: 17.5+ MB\n"
          ]
        }
      ],
      "source": [
        "# Revisamos que no haya valores faltantes y que el tipo de dato de la columna 'Age' sea correcto\n",
        "data.info()"
      ]
    },
    {
      "cell_type": "markdown",
      "metadata": {
        "id": "MlJDERb42r9j"
      },
      "source": [
        "#### Tratamiento de la columna `Occupation`"
      ]
    },
    {
      "cell_type": "code",
      "execution_count": null,
      "metadata": {
        "id": "QAEBj2aU2r9j",
        "outputId": "05557af9-4368-4fa5-ba5a-fd2ca2394cb7"
      },
      "outputs": [
        {
          "name": "stdout",
          "output_type": "stream",
          "text": [
            "['Scientist', '_______', 'Teacher', 'Engineer', 'Entrepreneur', 'Developer', 'Lawyer', 'Media_Manager', 'Doctor', 'Journalist', 'Manager', 'Accountant', 'Musician', 'Mechanic', 'Writer', 'Architect']\n"
          ]
        }
      ],
      "source": [
        "# Mostramos los valores únicos de la columna 'Occupation'\n",
        "print(list(data['Occupation'].unique()))"
      ]
    },
    {
      "cell_type": "markdown",
      "metadata": {
        "id": "Zc-9zfOA2r9j"
      },
      "source": [
        "**Observación:**\n",
        "1. Existe un valor '_______' que se debe eliminar."
      ]
    },
    {
      "cell_type": "code",
      "execution_count": null,
      "metadata": {
        "id": "_x3aQh7N2r9j",
        "outputId": "447e5cc0-7bfa-4592-e7c5-c63d172ef291"
      },
      "outputs": [
        {
          "name": "stdout",
          "output_type": "stream",
          "text": [
            "0\n"
          ]
        }
      ],
      "source": [
        "# Substituimos el valor '_______' por 'nan' y los convertimos a tipo flotante ('float')\n",
        "data['Occupation'] = data['Occupation'].replace('_______', np.nan, regex=True)\n",
        "\n",
        "# Mostramos el número e valores 'nan' en la columna 'Occupation'\n",
        "print(data['Occupation'].isna().sum())"
      ]
    },
    {
      "cell_type": "markdown",
      "metadata": {
        "id": "kV9SjM3L2r9k"
      },
      "source": [
        "**Observación:**\n",
        "1. Tenemos un número considerable de registros `NaN`. Tenemos dos opciones: i) Reemplazas los valores `NaN` con la moda, no perderás ningún registro. Pero en este contexto, estaríamos imponiendo una profesión a clientes que posiblemente no llenaron ese campo. ii) La segunda opción es eliminar los registros NaN, perderás esos registros, pero tus datos serán más precisos."
      ]
    },
    {
      "cell_type": "markdown",
      "metadata": {
        "id": "h6YwtXI32r9k"
      },
      "source": [
        "- Opción 1: Reemplazar los datos con la moda:\n",
        "\n"
      ]
    },
    {
      "cell_type": "code",
      "execution_count": null,
      "metadata": {
        "id": "7c38y6fV2r9k",
        "outputId": "6087a1c5-3a8d-4691-ef4c-ee3f23641840"
      },
      "outputs": [
        {
          "data": {
            "text/plain": [
              "'Lawyer'"
            ]
          },
          "execution_count": 18,
          "metadata": {},
          "output_type": "execute_result"
        }
      ],
      "source": [
        "# Calculamos la moda\n",
        "mode = data['Occupation'].mode()[0]\n",
        "mode"
      ]
    },
    {
      "cell_type": "code",
      "execution_count": null,
      "metadata": {
        "id": "MNDY_Tkb2r9k"
      },
      "outputs": [],
      "source": [
        "# Reemplazamos los valores NaN con la moda\n",
        "data['Occupation'].fillna(mode, inplace=True)"
      ]
    },
    {
      "cell_type": "markdown",
      "metadata": {
        "id": "yjfzNXIC2r9k"
      },
      "source": [
        "- Opción 2: Eliminar los registros NaN:"
      ]
    },
    {
      "cell_type": "code",
      "execution_count": null,
      "metadata": {
        "id": "XgXBY8Qb2r9k"
      },
      "outputs": [],
      "source": [
        "# Eliminamos los registros con valores NaN en la columna 'Occupation'\n",
        "data.dropna(subset=['Occupation'], inplace=True)"
      ]
    },
    {
      "cell_type": "markdown",
      "metadata": {
        "id": "HV2lZ6my2r9k"
      },
      "source": [
        "**Eliminar columnas con muchos valores faltantes**: Si una columna tiene una gran cantidad de valores faltantes (~>70%), podría ser más útil eliminarla que intentar imputar los valores faltantes.\n",
        "\n",
        "En este ejemplo, no existen columnas con más del 70% de valores faltantes. De existir, podemos eliminarla con el siguiente código:"
      ]
    },
    {
      "cell_type": "code",
      "execution_count": null,
      "metadata": {
        "id": "JCci9Vu72r9l"
      },
      "outputs": [],
      "source": [
        "# Eliminar columnas del DataFrame 'data' con más del 70% de valores faltantes\n",
        "threshold = int(len(data) * 0.7)\n",
        "data = data.dropna(thresh=threshold, axis=1)"
      ]
    },
    {
      "cell_type": "markdown",
      "metadata": {
        "id": "j_dWAFgZ2r9l"
      },
      "source": [
        "**Columnas con alta correlación**: Si tienes dos columnas que están altamente correlacionadas, podrías considerar eliminar una de ellas. La razón es que ambas contienen información similar y tener ambas en el análisis podría introducir multicolinealidad."
      ]
    },
    {
      "cell_type": "markdown",
      "metadata": {
        "id": "UO1XEErU2r9m"
      },
      "source": [
        "\n",
        "\n",
        "Recuerda que estas son solo pautas generales y la decisión final de qué columnas eliminar debe basarse en el conocimiento del dominio y el objetivo de tu análisis."
      ]
    },
    {
      "cell_type": "markdown",
      "metadata": {
        "id": "_FDR2sxI2r9m"
      },
      "source": [
        "\n",
        "**Codificación de Variables Categóricas**: Las variables categóricas como 'Occupation' y 'Type_of_Loan' deben ser codificadas antes de ser usadas en un modelo. Podrías usar codificación one-hot o codificación de etiquetas dependiendo de la naturaleza de los datos."
      ]
    },
    {
      "cell_type": "code",
      "execution_count": null,
      "metadata": {
        "id": "SBNsBZSC2r9m",
        "outputId": "6d0b5b1b-fece-4810-c7d8-4bb78e1ba1d3"
      },
      "outputs": [
        {
          "data": {
            "text/html": [
              "<div>\n",
              "<style scoped>\n",
              "    .dataframe tbody tr th:only-of-type {\n",
              "        vertical-align: middle;\n",
              "    }\n",
              "\n",
              "    .dataframe tbody tr th {\n",
              "        vertical-align: top;\n",
              "    }\n",
              "\n",
              "    .dataframe thead th {\n",
              "        text-align: right;\n",
              "    }\n",
              "</style>\n",
              "<table border=\"1\" class=\"dataframe\">\n",
              "  <thead>\n",
              "    <tr style=\"text-align: right;\">\n",
              "      <th></th>\n",
              "      <th>Age</th>\n",
              "      <th>Occupation</th>\n",
              "      <th>Annual_Income</th>\n",
              "      <th>Monthly_Inhand_Salary</th>\n",
              "      <th>Num_Bank_Accounts</th>\n",
              "      <th>Num_Credit_Card</th>\n",
              "      <th>Interest_Rate</th>\n",
              "      <th>Num_of_Loan</th>\n",
              "      <th>Type_of_Loan</th>\n",
              "      <th>Delay_from_due_date</th>\n",
              "      <th>...</th>\n",
              "      <th>Credit_Mix</th>\n",
              "      <th>Outstanding_Debt</th>\n",
              "      <th>Credit_Utilization_Ratio</th>\n",
              "      <th>Credit_History_Age</th>\n",
              "      <th>Payment_of_Min_Amount</th>\n",
              "      <th>Total_EMI_per_month</th>\n",
              "      <th>Amount_invested_monthly</th>\n",
              "      <th>Payment_Behaviour</th>\n",
              "      <th>Monthly_Balance</th>\n",
              "      <th>Credit_Score</th>\n",
              "    </tr>\n",
              "  </thead>\n",
              "  <tbody>\n",
              "    <tr>\n",
              "      <th>0</th>\n",
              "      <td>23.000000</td>\n",
              "      <td>12</td>\n",
              "      <td>19114.12</td>\n",
              "      <td>1824.843333</td>\n",
              "      <td>3</td>\n",
              "      <td>4</td>\n",
              "      <td>3</td>\n",
              "      <td>4</td>\n",
              "      <td>Auto Loan, Credit-Builder Loan, Personal Loan,...</td>\n",
              "      <td>3</td>\n",
              "      <td>...</td>\n",
              "      <td>_</td>\n",
              "      <td>809.98</td>\n",
              "      <td>26.822620</td>\n",
              "      <td>22 Years and 1 Months</td>\n",
              "      <td>No</td>\n",
              "      <td>49.574949</td>\n",
              "      <td>80.41529543900253</td>\n",
              "      <td>High_spent_Small_value_payments</td>\n",
              "      <td>312.49408867943663</td>\n",
              "      <td>Good</td>\n",
              "    </tr>\n",
              "    <tr>\n",
              "      <th>1</th>\n",
              "      <td>23.000000</td>\n",
              "      <td>12</td>\n",
              "      <td>19114.12</td>\n",
              "      <td>NaN</td>\n",
              "      <td>3</td>\n",
              "      <td>4</td>\n",
              "      <td>3</td>\n",
              "      <td>4</td>\n",
              "      <td>Auto Loan, Credit-Builder Loan, Personal Loan,...</td>\n",
              "      <td>-1</td>\n",
              "      <td>...</td>\n",
              "      <td>Good</td>\n",
              "      <td>809.98</td>\n",
              "      <td>31.944960</td>\n",
              "      <td>NaN</td>\n",
              "      <td>No</td>\n",
              "      <td>49.574949</td>\n",
              "      <td>118.28022162236736</td>\n",
              "      <td>Low_spent_Large_value_payments</td>\n",
              "      <td>284.62916249607184</td>\n",
              "      <td>Good</td>\n",
              "    </tr>\n",
              "    <tr>\n",
              "      <th>2</th>\n",
              "      <td>33.323274</td>\n",
              "      <td>12</td>\n",
              "      <td>19114.12</td>\n",
              "      <td>NaN</td>\n",
              "      <td>3</td>\n",
              "      <td>4</td>\n",
              "      <td>3</td>\n",
              "      <td>4</td>\n",
              "      <td>Auto Loan, Credit-Builder Loan, Personal Loan,...</td>\n",
              "      <td>3</td>\n",
              "      <td>...</td>\n",
              "      <td>Good</td>\n",
              "      <td>809.98</td>\n",
              "      <td>28.609352</td>\n",
              "      <td>22 Years and 3 Months</td>\n",
              "      <td>No</td>\n",
              "      <td>49.574949</td>\n",
              "      <td>81.699521264648</td>\n",
              "      <td>Low_spent_Medium_value_payments</td>\n",
              "      <td>331.2098628537912</td>\n",
              "      <td>Good</td>\n",
              "    </tr>\n",
              "    <tr>\n",
              "      <th>3</th>\n",
              "      <td>23.000000</td>\n",
              "      <td>12</td>\n",
              "      <td>19114.12</td>\n",
              "      <td>NaN</td>\n",
              "      <td>3</td>\n",
              "      <td>4</td>\n",
              "      <td>3</td>\n",
              "      <td>4</td>\n",
              "      <td>Auto Loan, Credit-Builder Loan, Personal Loan,...</td>\n",
              "      <td>5</td>\n",
              "      <td>...</td>\n",
              "      <td>Good</td>\n",
              "      <td>809.98</td>\n",
              "      <td>31.377862</td>\n",
              "      <td>22 Years and 4 Months</td>\n",
              "      <td>No</td>\n",
              "      <td>49.574949</td>\n",
              "      <td>199.4580743910713</td>\n",
              "      <td>Low_spent_Small_value_payments</td>\n",
              "      <td>223.45130972736786</td>\n",
              "      <td>Good</td>\n",
              "    </tr>\n",
              "    <tr>\n",
              "      <th>4</th>\n",
              "      <td>23.000000</td>\n",
              "      <td>12</td>\n",
              "      <td>19114.12</td>\n",
              "      <td>1824.843333</td>\n",
              "      <td>3</td>\n",
              "      <td>4</td>\n",
              "      <td>3</td>\n",
              "      <td>4</td>\n",
              "      <td>Auto Loan, Credit-Builder Loan, Personal Loan,...</td>\n",
              "      <td>6</td>\n",
              "      <td>...</td>\n",
              "      <td>Good</td>\n",
              "      <td>809.98</td>\n",
              "      <td>24.797347</td>\n",
              "      <td>22 Years and 5 Months</td>\n",
              "      <td>No</td>\n",
              "      <td>49.574949</td>\n",
              "      <td>41.420153086217326</td>\n",
              "      <td>High_spent_Medium_value_payments</td>\n",
              "      <td>341.48923103222177</td>\n",
              "      <td>Good</td>\n",
              "    </tr>\n",
              "  </tbody>\n",
              "</table>\n",
              "<p>5 rows × 23 columns</p>\n",
              "</div>"
            ],
            "text/plain": [
              "         Age  Occupation Annual_Income  Monthly_Inhand_Salary  \\\n",
              "0  23.000000          12      19114.12            1824.843333   \n",
              "1  23.000000          12      19114.12                    NaN   \n",
              "2  33.323274          12      19114.12                    NaN   \n",
              "3  23.000000          12      19114.12                    NaN   \n",
              "4  23.000000          12      19114.12            1824.843333   \n",
              "\n",
              "   Num_Bank_Accounts  Num_Credit_Card  Interest_Rate Num_of_Loan  \\\n",
              "0                  3                4              3           4   \n",
              "1                  3                4              3           4   \n",
              "2                  3                4              3           4   \n",
              "3                  3                4              3           4   \n",
              "4                  3                4              3           4   \n",
              "\n",
              "                                        Type_of_Loan  Delay_from_due_date  \\\n",
              "0  Auto Loan, Credit-Builder Loan, Personal Loan,...                    3   \n",
              "1  Auto Loan, Credit-Builder Loan, Personal Loan,...                   -1   \n",
              "2  Auto Loan, Credit-Builder Loan, Personal Loan,...                    3   \n",
              "3  Auto Loan, Credit-Builder Loan, Personal Loan,...                    5   \n",
              "4  Auto Loan, Credit-Builder Loan, Personal Loan,...                    6   \n",
              "\n",
              "   ... Credit_Mix Outstanding_Debt  Credit_Utilization_Ratio  \\\n",
              "0  ...          _           809.98                 26.822620   \n",
              "1  ...       Good           809.98                 31.944960   \n",
              "2  ...       Good           809.98                 28.609352   \n",
              "3  ...       Good           809.98                 31.377862   \n",
              "4  ...       Good           809.98                 24.797347   \n",
              "\n",
              "      Credit_History_Age Payment_of_Min_Amount  Total_EMI_per_month  \\\n",
              "0  22 Years and 1 Months                    No            49.574949   \n",
              "1                    NaN                    No            49.574949   \n",
              "2  22 Years and 3 Months                    No            49.574949   \n",
              "3  22 Years and 4 Months                    No            49.574949   \n",
              "4  22 Years and 5 Months                    No            49.574949   \n",
              "\n",
              "  Amount_invested_monthly                 Payment_Behaviour  \\\n",
              "0       80.41529543900253   High_spent_Small_value_payments   \n",
              "1      118.28022162236736    Low_spent_Large_value_payments   \n",
              "2         81.699521264648   Low_spent_Medium_value_payments   \n",
              "3       199.4580743910713    Low_spent_Small_value_payments   \n",
              "4      41.420153086217326  High_spent_Medium_value_payments   \n",
              "\n",
              "      Monthly_Balance Credit_Score  \n",
              "0  312.49408867943663         Good  \n",
              "1  284.62916249607184         Good  \n",
              "2   331.2098628537912         Good  \n",
              "3  223.45130972736786         Good  \n",
              "4  341.48923103222177         Good  \n",
              "\n",
              "[5 rows x 23 columns]"
            ]
          },
          "execution_count": 21,
          "metadata": {},
          "output_type": "execute_result"
        }
      ],
      "source": [
        "# Codificación de etiquetas (Label Encoding) para la columna 'Occupation'\n",
        "from sklearn.preprocessing import LabelEncoder\n",
        "label_encoder = LabelEncoder()\n",
        "data['Occupation'] = label_encoder.fit_transform(data['Occupation'])\n",
        "data.head()"
      ]
    },
    {
      "cell_type": "code",
      "execution_count": null,
      "metadata": {
        "id": "3bgbJIkB2r9m",
        "outputId": "9463141d-c111-4a9b-93fe-534a69879617"
      },
      "outputs": [
        {
          "name": "stdout",
          "output_type": "stream",
          "text": [
            "<class 'pandas.core.frame.DataFrame'>\n",
            "Index: 92938 entries, 0 to 99999\n",
            "Data columns (total 23 columns):\n",
            " #   Column                    Non-Null Count  Dtype  \n",
            "---  ------                    --------------  -----  \n",
            " 0   Age                       92938 non-null  float64\n",
            " 1   Occupation                92938 non-null  int64  \n",
            " 2   Annual_Income             92938 non-null  object \n",
            " 3   Monthly_Inhand_Salary     78996 non-null  float64\n",
            " 4   Num_Bank_Accounts         92938 non-null  int64  \n",
            " 5   Num_Credit_Card           92938 non-null  int64  \n",
            " 6   Interest_Rate             92938 non-null  int64  \n",
            " 7   Num_of_Loan               92938 non-null  object \n",
            " 8   Type_of_Loan              82395 non-null  object \n",
            " 9   Delay_from_due_date       92938 non-null  int64  \n",
            " 10  Num_of_Delayed_Payment    86446 non-null  object \n",
            " 11  Changed_Credit_Limit      92938 non-null  object \n",
            " 12  Num_Credit_Inquiries      91099 non-null  float64\n",
            " 13  Credit_Mix                92938 non-null  object \n",
            " 14  Outstanding_Debt          92938 non-null  object \n",
            " 15  Credit_Utilization_Ratio  92938 non-null  float64\n",
            " 16  Credit_History_Age        84532 non-null  object \n",
            " 17  Payment_of_Min_Amount     92938 non-null  object \n",
            " 18  Total_EMI_per_month       92938 non-null  float64\n",
            " 19  Amount_invested_monthly   88778 non-null  object \n",
            " 20  Payment_Behaviour         92938 non-null  object \n",
            " 21  Monthly_Balance           91813 non-null  object \n",
            " 22  Credit_Score              92938 non-null  object \n",
            "dtypes: float64(5), int64(5), object(13)\n",
            "memory usage: 17.0+ MB\n"
          ]
        }
      ],
      "source": [
        "# Revisamos que no haya valores faltantes y que el tipo de dato de la columna 'Ocupation' sea correcto\n",
        "data.info()"
      ]
    },
    {
      "cell_type": "markdown",
      "metadata": {
        "id": "fyoQOxaW2r9m"
      },
      "source": [
        "## Otros pasos adicionales para la limpieza de datos:"
      ]
    },
    {
      "cell_type": "markdown",
      "metadata": {
        "id": "WwvvfBmj2r9n"
      },
      "source": [
        "**Escalado de Características**: Las características como 'Annual_Income', 'Monthly_Inhand_Salary', 'Outstanding_Debt' podrían tener diferentes rangos y podrían necesitar ser escaladas. El escalado es crucial para métodos sensibles a la magnitud de los valores como SVMs y kNN."
      ]
    },
    {
      "cell_type": "code",
      "execution_count": null,
      "metadata": {
        "id": "2Z8WjPBN2r9n"
      },
      "outputs": [],
      "source": [
        "from sklearn.preprocessing import StandardScaler\n",
        "\n",
        "scaler = StandardScaler()\n",
        "data_scaled = scaler.fit_transform(data[['Annual_Income', 'Monthly_Inhand_Salary', 'Outstanding_Debt']])"
      ]
    },
    {
      "cell_type": "markdown",
      "metadata": {
        "id": "wgBBgULY2r9n"
      },
      "source": [
        "**Selección de Características**: Podrías usar métodos como la correlación de Pearson para identificar las variables más relevantes para tu variable objetivo."
      ]
    },
    {
      "cell_type": "code",
      "execution_count": null,
      "metadata": {
        "id": "eLzNCRop2r9n"
      },
      "outputs": [],
      "source": [
        "correlation = data.corr()\n",
        "correlation"
      ]
    },
    {
      "cell_type": "markdown",
      "metadata": {
        "id": "Yl3ERKwQ2r9n"
      },
      "source": [
        "\n",
        "#### Identificación y Manejo de Outliers\n",
        "\n",
        "Los outliers pueden ser identificados utilizando métodos estadísticos, como el método del rango intercuartil (IQR). Una vez identificados, pueden ser eliminados o ajustados.\n",
        "\n"
      ]
    },
    {
      "cell_type": "code",
      "execution_count": null,
      "metadata": {
        "id": "nKXPS2Ja2r9n"
      },
      "outputs": [],
      "source": [
        "# Identificar outliers con el método IQR\n",
        "Q1 = data.quantile(0.25)\n",
        "Q3 = data.quantile(0.75)\n",
        "IQR = Q3 - Q1\n",
        "\n",
        "# Eliminar outliers\n",
        "data = data[~((data < (Q1 - 1.5 * IQR)) | (data > (Q3 + 1.5 * IQR))).any(axis=1)]"
      ]
    },
    {
      "cell_type": "code",
      "execution_count": null,
      "metadata": {
        "id": "lh19oDMN2r9n",
        "outputId": "6c37e4c9-981a-46f3-b738-56d2b8566a84"
      },
      "outputs": [
        {
          "data": {
            "text/plain": [
              "<Axes: ylabel='Age'>"
            ]
          },
          "execution_count": 5,
          "metadata": {},
          "output_type": "execute_result"
        },
        {
          "data": {
            "image/png": "[encoded data removed]",
            "text/plain": [
              "<Figure size 640x480 with 1 Axes>"
            ]
          },
          "metadata": {},
          "output_type": "display_data"
        }
      ],
      "source": [
        "# Graficamos un diagrama de caja para la columna 'Annual_Income'\n",
        "import seaborn as sns\n",
        "sns.boxplot(y=data['Age'])"
      ]
    },
    {
      "cell_type": "code",
      "execution_count": null,
      "metadata": {
        "id": "vfS-B41W2r9n",
        "outputId": "0b125c3b-af53-415d-b03f-1a9b2b1234c4"
      },
      "outputs": [
        {
          "ename": "NameError",
          "evalue": "name 'data' is not defined",
          "output_type": "error",
          "traceback": [
            "\u001b[0;31m---------------------------------------------------------------------------\u001b[0m",
            "\u001b[0;31mNameError\u001b[0m                                 Traceback (most recent call last)",
            "Cell \u001b[0;32mIn[4], line 3\u001b[0m\n\u001b[1;32m      1\u001b[0m \u001b[38;5;28;01mimport\u001b[39;00m \u001b[38;5;21;01mmatplotlib\u001b[39;00m\u001b[38;5;21;01m.\u001b[39;00m\u001b[38;5;21;01mpyplot\u001b[39;00m \u001b[38;5;28;01mas\u001b[39;00m \u001b[38;5;21;01mplt\u001b[39;00m\n\u001b[1;32m      2\u001b[0m \u001b[38;5;66;03m# Crear un diagrama de caja para la columna 'Annual_Income'\u001b[39;00m\n\u001b[0;32m----> 3\u001b[0m plt\u001b[38;5;241m.\u001b[39mboxplot(\u001b[43mdata\u001b[49m[\u001b[38;5;124m'\u001b[39m\u001b[38;5;124mAge\u001b[39m\u001b[38;5;124m'\u001b[39m])\n\u001b[1;32m      4\u001b[0m \u001b[38;5;66;03m# Añadir título y etiquetas a los ejes\u001b[39;00m\n\u001b[1;32m      5\u001b[0m plt\u001b[38;5;241m.\u001b[39mtitle(\u001b[38;5;124m'\u001b[39m\u001b[38;5;124mDiagrama de caja para la columna \u001b[39m\u001b[38;5;124m\"\u001b[39m\u001b[38;5;124mAge\u001b[39m\u001b[38;5;124m\"\u001b[39m\u001b[38;5;124m'\u001b[39m)\n",
            "\u001b[0;31mNameError\u001b[0m: name 'data' is not defined"
          ]
        }
      ],
      "source": [
        "import matplotlib.pyplot as plt\n",
        "# Crear un diagrama de caja para la columna 'Annual_Income'\n",
        "plt.boxplot(data['Age'])\n",
        "# Añadir título y etiquetas a los ejes\n",
        "plt.title('Diagrama de caja para la columna \"Age\"')\n",
        "plt.xlabel('Age')\n",
        "plt.ylabel('Valor')\n",
        "# Mostrar el diagrama de caja\n",
        "plt.show()"
      ]
    },
    {
      "cell_type": "code",
      "execution_count": null,
      "metadata": {
        "id": "WBQ-HeY72r9o"
      },
      "outputs": [],
      "source": [
        "# Calculamos los valores atípicos en la columna 'Annual_Income'\n",
        "Q1 = data['Age'].quantile(0.25)\n",
        "Q3 = data['Age'].quantile(0.75)\n",
        "IQR = Q3 - Q1\n",
        "lower_bound = Q1 - 1.5 * IQR\n",
        "upper_bound = Q3 + 1.5 * IQR\n",
        "\n",
        "# Eliminamos los valores atípicos en la columna 'Annual_Income'\n",
        "data = data[(data['Age'] > lower_bound) & (data['Age'] < upper_bound)]"
      ]
    },
    {
      "cell_type": "code",
      "execution_count": null,
      "metadata": {
        "id": "OI4DVIm42r9o",
        "outputId": "8e0e6993-a2e1-41b9-8750-8c7517fbb0e0"
      },
      "outputs": [
        {
          "data": {
            "text/plain": [
              "<Axes: ylabel='Age'>"
            ]
          },
          "execution_count": 7,
          "metadata": {},
          "output_type": "execute_result"
        },
        {
          "data": {
            "image/png": "[encoded data removed]",
            "text/plain": [
              "<Figure size 640x480 with 1 Axes>"
            ]
          },
          "metadata": {},
          "output_type": "display_data"
        }
      ],
      "source": [
        "# Graficamos un diagrama de caja para la columna 'Annual_Income'\n",
        "import seaborn as sns\n",
        "sns.boxplot(y=data['Age'])"
      ]
    },
    {
      "cell_type": "markdown",
      "metadata": {
        "id": "4iBBZ8rw2r9o"
      },
      "source": [
        "#### Identificación y Manejo de Datos Inconsistentes\n",
        "\n",
        "Los datos inconsistentes pueden ser identificados revisando los valores únicos de cada característica. Una vez identificados, pueden ser corregidos o eliminados.\n",
        "\n"
      ]
    },
    {
      "cell_type": "code",
      "execution_count": null,
      "metadata": {
        "id": "yrd1ISTy2r9o"
      },
      "outputs": [],
      "source": [
        "# Identificar datos inconsistentes\n",
        "for column in data.columns:\n",
        "    print(data[column].unique())"
      ]
    },
    {
      "cell_type": "markdown",
      "metadata": {
        "id": "jbU8UDPJ2r9o"
      },
      "source": [
        "#### Balanceo de Datos\n",
        "\n",
        "El balanceo de datos puede ser necesario si nuestra variable objetivo está desbalanceada. Podemos usar técnicas como el oversampling o el undersampling.\n",
        "\n"
      ]
    },
    {
      "cell_type": "code",
      "execution_count": null,
      "metadata": {
        "id": "NuDULdwU2r9o"
      },
      "outputs": [],
      "source": [
        "from imblearn.over_sampling import SMOTE\n",
        "\n",
        "smote = SMOTE()\n",
        "X_res, y_res = smote.fit_resample(data.drop('target', axis=1), data['target'])"
      ]
    },
    {
      "cell_type": "markdown",
      "metadata": {
        "id": "Jv2TMm7u2r9p"
      },
      "source": [
        "#### Normalización\n",
        "\n",
        "La normalización ajusta los valores en un rango común."
      ]
    },
    {
      "cell_type": "code",
      "execution_count": null,
      "metadata": {
        "id": "bxpEqqqB2r9p"
      },
      "outputs": [],
      "source": [
        "from sklearn.preprocessing import MinMaxScaler\n",
        "\n",
        "scaler = MinMaxScaler()\n",
        "data_normalized = pd.DataFrame(scaler.fit_transform(data), columns=data.columns)"
      ]
    },
    {
      "cell_type": "markdown",
      "metadata": {
        "id": "KfnO2w7h2r9p"
      },
      "source": [
        "#### Discretización\n",
        "\n",
        "La discretización convierte las variables continuas en variables discretas."
      ]
    },
    {
      "cell_type": "code",
      "execution_count": null,
      "metadata": {
        "id": "B1hMaYt62r9p"
      },
      "outputs": [],
      "source": [
        "data['age'] = pd.cut(data['age'], bins=3, labels=['young', 'middle-aged', 'old'])"
      ]
    },
    {
      "cell_type": "markdown",
      "metadata": {
        "id": "CWoAtiOF2r9p"
      },
      "source": [
        "#### Codificación de Variables\n",
        "\n",
        "La codificación de variables convierte las variables categóricas en variables numéricas."
      ]
    },
    {
      "cell_type": "code",
      "execution_count": null,
      "metadata": {
        "id": "RrxEY6MU2r9p"
      },
      "outputs": [],
      "source": [
        "data_encoded = pd.get_dummies(data, drop_first=True)"
      ]
    },
    {
      "cell_type": "markdown",
      "metadata": {
        "id": "Az44NOqh2r9p"
      },
      "source": [
        "\n",
        "\n",
        "Finalmente, podemos usar una regresión lineal (o cualquier otro modelo de aprendizaje automático) para predecir si a un cliente se le otorgará crédito o no.\n",
        "\n"
      ]
    },
    {
      "cell_type": "code",
      "execution_count": null,
      "metadata": {
        "id": "Y6A4yxMa2r9p"
      },
      "outputs": [],
      "source": [
        "from sklearn.linear_model import LogisticRegression\n",
        "\n",
        "model = LogisticRegression()\n",
        "model.fit(X_res, y_res)"
      ]
    },
    {
      "cell_type": "markdown",
      "metadata": {
        "id": "r6r5MQBY2r9p"
      },
      "source": [
        "\n",
        "\n",
        "Este tutorial es solo una introducción a las técnicas de procesamiento y transformación de datos. Hay muchas otras técnicas y métodos disponibles, y la elección de las técnicas a utilizar dependerá de la naturaleza de tus datos y del problema que estés tratando de resolver."
      ]
    },
    {
      "cell_type": "markdown",
      "metadata": {
        "id": "koHr36w62r9q"
      },
      "source": [
        "##### Tarea en clase:\n",
        "- Trabajar en cada uno de los 10 grupos y limpiar las columnas faltantes:\n",
        "- Duración de la actividad: 15 - 20 min\n",
        "- Presentar la metodología y análisis\n",
        "\n",
        "    Annual_Income (Grupo 1)             \n",
        "    Monthly_Inhand_Salary (Grupo 2)    \n",
        "    Num_Bank_Accounts (Grupo 3)           \n",
        "    Num_Credit_Card (Grupo 4)            \n",
        "    Interest_Rate (Grupo 5)               \n",
        "    Num_of_Loan (Grupo 5)                \n",
        "    Type_of_Loan (Grupo 6)               \n",
        "    Delay_from_due_date (Grupo 7)         \n",
        "    Num_of_Delayed_Payment (Grupo 8)     \n",
        "    Changed_Credit_Limit (Grupo 9)      \n",
        "    Num_Credit_Inquiries (Grupo 10)      \n",
        "    Credit_Mix (Grupo 1)                 \n",
        "    Outstanding_Debt (Grupo 2)           \n",
        "    Credit_Utilization_Ratio (Grupo 3)  \n",
        "    Credit_History_Age (Grupo 4)        \n",
        "    Payment_of_Min_Amount (Grupo 5)     \n",
        "    Total_EMI_per_month (Grupo 6)       \n",
        "    Amount_invested_monthly (Grupo 7)"
      ]
    },
    {
      "cell_type": "markdown",
      "metadata": {
        "id": "vydM0Yq52r9q"
      },
      "source": [
        "### **Conclusiones:**"
      ]
    },
    {
      "cell_type": "markdown",
      "metadata": {
        "id": "RMcb8aoo2r9q"
      },
      "source": [
        "En este Jupyter Notebook, hemos trabajado con un conjunto de datos utilizando pandas y hemos realizado diversas operaciones de limpieza y transformación de datos. Hemos identificado y manejado valores faltantes, eliminado columnas irrelevantes, codificado variables categóricas, escalado características y realizado otras técnicas de procesamiento de datos. Además, hemos utilizado el módulo LabelEncoder de scikit-learn para codificar variables categóricas. A lo largo de este proceso, hemos documentado nuestras acciones y hemos utilizado celdas de código y celdas de markdown para describir y explicar cada paso. Este Jupyter Notebook ha sido una herramienta útil para explorar y manipular los datos, y nos ha permitido obtener un conjunto de datos limpio y preparado para su análisis y modelado posterior."
      ]
    },
    {
      "cell_type": "markdown",
      "metadata": {
        "id": "o8gnb7B02r9q"
      },
      "source": [
        "![image.png](attachment:image.png)"
      ]
    }
  ],
  "metadata": {
    "kernelspec": {
      "display_name": "Python 3 (ipykernel)",
      "language": "python",
      "name": "python3"
    },
    "language_info": {
      "codemirror_mode": {
        "name": "ipython",
        "version": 3
      },
      "file_extension": ".py",
      "mimetype": "text/x-python",
      "name": "python",
      "nbconvert_exporter": "python",
      "pygments_lexer": "ipython3",
      "version": "3.11.3"
    },
    "colab": {
      "provenance": [],
      "include_colab_link": true
    }
  },
  "nbformat": 4,
  "nbformat_minor": 0
}