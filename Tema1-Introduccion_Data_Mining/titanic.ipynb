{
 "cells": [
  {
   "cell_type": "markdown",
   "metadata": {},
   "source": [
    "# Análisis exploratorio de los datos del Titanic"
   ]
  },
  {
   "cell_type": "markdown",
   "metadata": {},
   "source": [
    "# Actividad Práctica: Análisis Exploratorio de Datos del Titanic\n",
    "\n",
    "En esta actividad práctica, que forma parte de la primera semana del módulo de Data Mining, nos adentraremos en el emocionante mundo de la extracción de información a partir de datos. El objetivo principal es introducir a los estudiantes en las herramientas y técnicas necesarias para analizar y visualizar datos, y así poder obtener información valiosa.\n",
    "\n",
    "## Objetivos de la actividad\n",
    "\n",
    "Durante esta actividad, nos enfocaremos en dos objetivos principales:\n",
    "\n",
    "1. Comprobar la teoría de que existe una correlación entre los sobrevivientes y la clase en la que viajaban. Para ello, analizaremos los datos del famoso naufragio del Titanic y exploraremos si la clase en la que viajaban los pasajeros tiene alguna influencia en su supervivencia.\n",
    "\n",
    "2. Descubrir si murieron más hombres que mujeres en el naufragio. Mediante el análisis de los datos, buscaremos determinar si existe alguna diferencia significativa en la tasa de supervivencia entre hombres y mujeres.\n",
    "\n",
    "## Pasos a seguir\n",
    "\n",
    "A continuación, se detallan los pasos necesarios para llevar a cabo esta actividad:\n",
    "\n",
    "1. Importar el dataset: Comenzaremos importando el conjunto de datos del Titanic, el cual se encuentra en formato CSV. Utilizaremos la biblioteca pandas para cargar los datos en un DataFrame y así poder manipularlos y analizarlos.\n",
    "\n",
    "2. Análisis exploratorio de datos: Una vez que hayamos importado los datos, realizaremos un análisis exploratorio para comprender mejor la estructura y características del conjunto de datos. Esto incluirá la visualización de estadísticas descriptivas, la identificación de valores faltantes y la exploración de las variables relevantes para nuestros objetivos.\n",
    "\n",
    "3. Visualización de datos: Para hacer el análisis más didáctico y comprensible, utilizaremos herramientas de visualización para representar gráficamente los datos. Esto incluirá la creación de gráficos de barras, diagramas de dispersión y cualquier otra visualización que nos ayude a analizar la correlación entre las variables y a responder nuestras preguntas de investigación.\n",
    "\n",
    "4. Interpretación de resultados: Finalmente, interpretaremos los resultados obtenidos a partir del análisis y visualización de los datos. Discutiremos las conclusiones alcanzadas y reflexionaremos sobre la importancia de estas herramientas en el campo del Data Mining.\n",
    "\n",
    "¡Comencemos esta emocionante actividad práctica y exploremos los datos del Titanic para descubrir información oculta!\n"
   ]
  },
  {
   "cell_type": "code",
   "execution_count": 2,
   "metadata": {},
   "outputs": [
    {
     "name": "stdout",
     "output_type": "stream",
     "text": [
      "Requirement already satisfied: pandas in /opt/anaconda3/lib/python3.11/site-packages (2.1.4)\n",
      "Requirement already satisfied: numpy<2,>=1.23.2 in /opt/anaconda3/lib/python3.11/site-packages (from pandas) (1.26.4)\n",
      "Requirement already satisfied: python-dateutil>=2.8.2 in /opt/anaconda3/lib/python3.11/site-packages (from pandas) (2.8.2)\n",
      "Requirement already satisfied: pytz>=2020.1 in /opt/anaconda3/lib/python3.11/site-packages (from pandas) (2023.3.post1)\n",
      "Requirement already satisfied: tzdata>=2022.1 in /opt/anaconda3/lib/python3.11/site-packages (from pandas) (2023.3)\n",
      "Requirement already satisfied: six>=1.5 in /opt/anaconda3/lib/python3.11/site-packages (from python-dateutil>=2.8.2->pandas) (1.16.0)\n"
     ]
    }
   ],
   "source": [
    "# Instalamos las librerías necesarias\n",
    "!pip install pandas"
   ]
  },
  {
   "cell_type": "code",
   "execution_count": null,
   "metadata": {},
   "outputs": [],
   "source": [
    "!pip install numpy\n",
    "!pip install matplotlib\n",
    "!pip install seaborn"
   ]
  },
  {
   "cell_type": "code",
   "execution_count": 1,
   "metadata": {},
   "outputs": [
    {
     "ename": "ModuleNotFoundError",
     "evalue": "No module named 'pandas'",
     "output_type": "error",
     "traceback": [
      "\u001b[0;31m---------------------------------------------------------------------------\u001b[0m",
      "\u001b[0;31mModuleNotFoundError\u001b[0m                       Traceback (most recent call last)",
      "Cell \u001b[0;32mIn[1], line 2\u001b[0m\n\u001b[1;32m      1\u001b[0m \u001b[38;5;66;03m# Importamos las librerías necesarias\u001b[39;00m\n\u001b[0;32m----> 2\u001b[0m \u001b[38;5;28;01mimport\u001b[39;00m \u001b[38;5;21;01mpandas\u001b[39;00m \u001b[38;5;28;01mas\u001b[39;00m \u001b[38;5;21;01mpd\u001b[39;00m\n\u001b[1;32m      3\u001b[0m \u001b[38;5;28;01mimport\u001b[39;00m \u001b[38;5;21;01mnumpy\u001b[39;00m \u001b[38;5;28;01mas\u001b[39;00m \u001b[38;5;21;01mnp\u001b[39;00m\n\u001b[1;32m      4\u001b[0m \u001b[38;5;28;01mimport\u001b[39;00m \u001b[38;5;21;01mmatplotlib\u001b[39;00m\u001b[38;5;21;01m.\u001b[39;00m\u001b[38;5;21;01mpyplot\u001b[39;00m \u001b[38;5;28;01mas\u001b[39;00m \u001b[38;5;21;01mplt\u001b[39;00m\n",
      "\u001b[0;31mModuleNotFoundError\u001b[0m: No module named 'pandas'"
     ]
    }
   ],
   "source": [
    "# Importamos las librerías necesarias\n",
    "import pandas as pd\n",
    "import numpy as np\n",
    "import matplotlib.pyplot as plt\n",
    "import seaborn as sns"
   ]
  },
  {
   "cell_type": "code",
   "execution_count": null,
   "metadata": {},
   "outputs": [],
   "source": [
    "\n",
    "# Importamos la base de datos\n",
    "titanic = pd.read_csv('titanic.csv')\n",
    "\n",
    "# Mostramos las primeras 5 filas de la base de datos\n",
    "print(titanic.head())"
   ]
  },
  {
   "cell_type": "code",
   "execution_count": null,
   "metadata": {},
   "outputs": [],
   "source": [
    "\n",
    "\n",
    "# Mostramos la información de la base de datos\n",
    "print(titanic.info())\n",
    "\n",
    "# Mostramos la cantidad de valores nulos en la base de datos\n",
    "print(titanic.isnull().sum())\n",
    "\n",
    "# Eliminamos las columnas que no necesitamos\n",
    "titanic.drop(['PassengerId', 'Name', 'Ticket', 'Cabin'], axis=1, inplace=True)\n",
    "\n",
    "# Mostramos las primeras 5 filas de la base de datos\n",
    "print(titanic.head())\n",
    "\n",
    "# Mostramos la cantidad de valores nulos en la base de datos\n",
    "print(titanic.isnull().sum())\n",
    "\n",
    "# Eliminamos las filas con valores nulos\n",
    "titanic.dropna(inplace=True)\n",
    "\n",
    "# Mostramos la cantidad de valores nulos en la base de datos\n",
    "print(titanic.isnull().sum())\n",
    "\n",
    "# Mostramos la cantidad de valores únicos en la columna 'Pclass'\n",
    "print(titanic['Pclass'].value_counts())\n",
    "\n",
    "# Mostramos la cantidad de valores únicos en la columna 'Sex'\n",
    "print(titanic['Sex'].value_counts())\n",
    "\n",
    "# Mostramos la cantidad de valores únicos en la columna 'SibSp'\n",
    "print(titanic['SibSp'].value_counts())\n",
    "\n",
    "# Mostramos la cantidad de valores únicos en la columna 'Parch'\n",
    "print(titanic['Parch'].value_counts())\n",
    "\n",
    "# Mostramos la cantidad de valores únicos en la columna 'Cabin'\n",
    "print(titanic['Cabin'].value_counts())\n",
    "\n",
    "# Mostramos la cantidad de valores únicos en la columna 'Embarked'\n",
    "print(titanic['Embarked'].value_counts())\n",
    "\n",
    "# Mostramos la cantidad de valores únicos en la columna 'Survived'\n",
    "print(titanic['Survived'].value_counts())\n",
    "\n",
    "# Mostramos la cantidad de valores únicos en la columna 'Age'\n",
    "print(titanic['Age'].value_counts())\n",
    "\n",
    "# Mostramos la cantidad de valores únicos en la columna 'Fare'\n",
    "print(titanic['Fare'].value_counts())"
   ]
  }
 ],
 "metadata": {
  "kernelspec": {
   "display_name": ".venv",
   "language": "python",
   "name": "python3"
  },
  "language_info": {
   "codemirror_mode": {
    "name": "ipython",
    "version": 3
   },
   "file_extension": ".py",
   "mimetype": "text/x-python",
   "name": "python",
   "nbconvert_exporter": "python",
   "pygments_lexer": "ipython3",
   "version": "3.11.3"
  }
 },
 "nbformat": 4,
 "nbformat_minor": 2
}
