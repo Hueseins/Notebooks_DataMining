{
 "cells": [
  {
   "cell_type": "markdown",
   "metadata": {},
   "source": [
    "Autor:  \n",
    "Manuel Eugenio Morocho Cayamcela, PhD\n",
    "\n",
    "# Caso práctico 2: Agrupamiento de Clientes para Marketing con KMeans\n",
    "\n",
    "## Objetivo y alcance del trabajo: \n",
    "En este caso práctico, se presenta el concepto de agrupamiento (clustering) utilizando un ejemplo relacionado con el marketing. Se proporcionan datos de clientes de una tienda en línea con información demográfica y de comportamiento de compra.\n",
    "\n",
    "## Fase I: \n",
    "Los estudiantes pueden aplicar algoritmos de agrupamiento, como k-means, para identificar segmentos de clientes con características similares.\n",
    "\n",
    "## Fase II:\n",
    "Los estudiantes definirán cómo encontrar el mejor valor de *k*\n",
    "\n",
    "### Fase III:\n",
    "\n",
    "## Resolución: \n",
    "Los estudiantes podrán comprender cómo el agrupamiento puede ayudar en la segmentación de clientes para estrategias de marketing personalizadas.\n"
   ]
  },
  {
   "cell_type": "code",
   "execution_count": null,
   "metadata": {},
   "outputs": [],
   "source": []
  }
 ],
 "metadata": {
  "language_info": {
   "name": "python"
  }
 },
 "nbformat": 4,
 "nbformat_minor": 2
}
