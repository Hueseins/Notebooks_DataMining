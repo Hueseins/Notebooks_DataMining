{
 "cells": [
  {
   "cell_type": "markdown",
   "metadata": {},
   "source": [
    "Autor:  \n",
    "Manuel Eugenio Morocho Cayamcela, PhD\n",
    "\n",
    "# Caso práctico 1: \n",
    "\n",
    "## Objetivo y alcance del trabajo: \n",
    "\n",
    "En este caso práctico, puedes introducir la clasificación de patrones utilizando un ejemplo relacionado con el diagnóstico médico. Proporciona un conjunto de datos de pacientes con atributos médicos (como edad, síntomas, resultados de pruebas) y una variable objetivo que indica si el paciente tiene una enfermedad específica o no.\n",
    "\n",
    "## Fase I: \n",
    "Los estudiantes pueden aplicar algoritmos de clasificación, como árboles de decisión y máquinas de vectores de soporte, para predecir si un paciente tiene la enfermedad basándose en los atributos médicos.\n",
    "\n",
    "\n",
    "## Fase II:\n",
    "\n",
    "## Resolución: \n",
    "Los estudiantes podrán comprender cómo los algoritmos de clasificación pueden utilizarse en un contexto médico para ayudar en el diagnóstico."
   ]
  },
  {
   "cell_type": "markdown",
   "metadata": {},
   "source": []
  },
  {
   "cell_type": "code",
   "execution_count": null,
   "metadata": {},
   "outputs": [],
   "source": []
  }
 ],
 "metadata": {
  "kernelspec": {
   "display_name": ".venv",
   "language": "python",
   "name": "python3"
  },
  "language_info": {
   "name": "python",
   "version": "3.11.3"
  }
 },
 "nbformat": 4,
 "nbformat_minor": 2
}
