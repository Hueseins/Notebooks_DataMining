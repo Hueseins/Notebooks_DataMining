{
 "cells": [
  {
   "cell_type": "markdown",
   "metadata": {},
   "source": [
    "Autor:  \n",
    "Manuel Eugenio Morocho Cayamcela, PhD"
   ]
  },
  {
   "cell_type": "markdown",
   "metadata": {},
   "source": [
    "# Taller de Afianzamiento 1:\n",
    "## Análisis exploratorio de los datos del Titanic"
   ]
  },
  {
   "cell_type": "markdown",
   "metadata": {},
   "source": [
    "El Titanic fue un famoso transatlántico que se hundió trágicamente en su viaje inaugural en 1912. Considerado en ese momento como el barco más grande y lujoso del mundo, el Titanic era un símbolo de la opulencia y el progreso tecnológico de la época.\n",
    "\n",
    "El 10 de abril de 1912, el Titanic partió de Southampton, Inglaterra, con destino a Nueva York. Sin embargo, en la noche del 14 al 15 de abril, el barco chocó contra un iceberg en el Atlántico Norte y se hundió en cuestión de horas. Este desastre resultó en la muerte de más de 1,500 personas, convirtiéndose en una de las tragedias marítimas más mortales de la historia."
   ]
  },
  {
   "cell_type": "markdown",
   "metadata": {},
   "source": [
    "<p align=\"center\">\n",
    "  <img src=\"RMS_Titanic.jpg\" width=500/>\n",
    "</p>"
   ]
  },
  {
   "cell_type": "markdown",
   "metadata": {},
   "source": [
    "*Fotógrafo: Francis Godolphin Osbourne Stuart (1910-1923)*  \n",
    "*Descripción: RMS Titanic saliendo de Southampton*  \n",
    "*Fecha: 10 de Abril de 1912*"
   ]
  },
  {
   "cell_type": "markdown",
   "metadata": {},
   "source": [
    "### Objetivo y alcance del taller\n",
    "\n",
    "En este taller práctico, que forma parte de la primera semana del módulo de Data Mining, nos adentraremos en el emocionante mundo de la extracción de información a partir de datos. El objetivo principal es introducir a los estudiantes en las herramientas y técnicas necesarias para analizar y visualizar datos.\n",
    "\n",
    "El análisis de los datos del Titanic, como los que se encuentran en el conjunto de datos utilizado en este Jupyter Notebook, nos permite explorar diferentes aspectos de este trágico suceso. Podemos investigar la correlación entre la supervivencia y variables como la clase en la que viajaban los pasajeros, el género, la edad, entre otros. También podemos utilizar herramientas de visualización para representar gráficamente los datos y obtener información valiosa sobre los patrones y las características de los pasajeros del Titanic.\n",
    "\n",
    "Durante esta actividad, nos enfocaremos en dos objetivos principales:\n",
    "\n",
    "1. Comprobar la teoría de que existe una correlación entre los sobrevivientes y la clase en la que viajaban. Para ello, analizaremos los datos del famoso naufragio del Titanic y exploraremos si la clase en la que viajaban los pasajeros tiene alguna influencia en su supervivencia.\n",
    "\n",
    "2. Descubrir si murieron más hombres que mujeres en el naufragio. Mediante el análisis de los datos, buscaremos determinar si existe alguna diferencia significativa en la tasa de supervivencia entre hombres y mujeres.\n",
    "\n",
    "A continuación, se detallan los pasos necesarios para llevar a cabo esta actividad:\n",
    "\n",
    "**Fase I:** Importar el dataset: Comenzaremos importando el conjunto de datos del Titanic, el cual se encuentra en formato CSV. Utilizaremos la biblioteca pandas para cargar los datos en un DataFrame y así poder manipularlos y analizarlos.\n",
    "\n",
    "**Fase II:** Análisis exploratorio de datos: Una vez que hayamos importado los datos, realizaremos un análisis exploratorio para comprender mejor la estructura y características del conjunto de datos. Esto incluirá la visualización de estadísticas descriptivas, la identificación de valores faltantes y la exploración de las variables relevantes para nuestros objetivos.\n",
    "\n",
    "**Fase III:** Evaluación de hipótesis: Para hacer el análisis más didáctico y comprensible, utilizaremos herramientas de visualización para representar gráficamente los datos. Esto incluirá la creación de gráficos de barras y cualquier otra visualización que nos ayude a analizar la correlación entre las variables y a responder nuestras preguntas de investigación."
   ]
  },
  {
   "cell_type": "markdown",
   "metadata": {},
   "source": [
    "### **Fase I:** Importar el dataset\n",
    "\n",
    "Este bloque de código se encarga de la instalación de las bibliotecas necesarias para el análisis de datos y la visualización en Python, y luego las importa para su uso en el notebook. Aquí está lo que hace cada línea:\n",
    "\n",
    "`!pip install pandas`: Instala la biblioteca pandas, que proporciona estructuras de datos y funciones de análisis de datos de alto rendimiento y fáciles de usar.\n",
    "\n",
    "`!pip install numpy`: Instala la biblioteca numpy, que proporciona soporte para matrices y matrices multidimensionales, junto con una gran colección de funciones matemáticas de alto nivel para operar con estos datos.\n",
    "\n",
    "`!pip install matplotlib`: Instala la biblioteca matplotlib, que es una biblioteca de trazado en 2D en Python que produce figuras de calidad de publicación en una variedad de formatos impresos y entornos interactivos.\n",
    "\n",
    "`!pip install seaborn`: Instala la biblioteca seaborn, que es una biblioteca de visualización de datos en Python basada en matplotlib. Proporciona una interfaz de alto nivel para dibujar gráficos estadísticos atractivos e informativos.\n",
    "\n",
    "Las siguientes líneas importan las bibliotecas instaladas para su uso en el notebook:\n",
    "\n",
    "`import pandas as pd`: Importa la biblioteca pandas y la renombra como pd para facilitar su uso en el código.\n",
    "\n",
    "`import numpy as np`: Importa la biblioteca numpy y la renombra como np para facilitar su uso en el código.\n",
    "\n",
    "`import matplotlib.pyplot as plt`: Importa el módulo pyplot de la biblioteca matplotlib y lo renombra como plt para facilitar su uso en el código.\n",
    "\n",
    "`import seaborn as sns`: Importa la biblioteca seaborn y la renombra como sns para facilitar su uso en el código."
   ]
  },
  {
   "cell_type": "code",
   "execution_count": 3,
   "metadata": {},
   "outputs": [
    {
     "name": "stdout",
     "output_type": "stream",
     "text": [
      "Requirement already satisfied: pandas in /Users/eugenio/Library/CloudStorage/OneDrive-Personal/UIDE/2024 Maestría Ciencia de Datos y Máquinas de Aprendizaje mención IA/Contenidos/Notebooks_DataMining/.venv/lib/python3.11/site-packages (2.2.2)\n",
      "Requirement already satisfied: numpy>=1.23.2 in /Users/eugenio/Library/CloudStorage/OneDrive-Personal/UIDE/2024 Maestría Ciencia de Datos y Máquinas de Aprendizaje mención IA/Contenidos/Notebooks_DataMining/.venv/lib/python3.11/site-packages (from pandas) (1.26.4)\n",
      "Requirement already satisfied: python-dateutil>=2.8.2 in /Users/eugenio/Library/CloudStorage/OneDrive-Personal/UIDE/2024 Maestría Ciencia de Datos y Máquinas de Aprendizaje mención IA/Contenidos/Notebooks_DataMining/.venv/lib/python3.11/site-packages (from pandas) (2.9.0.post0)\n",
      "Requirement already satisfied: pytz>=2020.1 in /Users/eugenio/Library/CloudStorage/OneDrive-Personal/UIDE/2024 Maestría Ciencia de Datos y Máquinas de Aprendizaje mención IA/Contenidos/Notebooks_DataMining/.venv/lib/python3.11/site-packages (from pandas) (2024.1)\n",
      "Requirement already satisfied: tzdata>=2022.7 in /Users/eugenio/Library/CloudStorage/OneDrive-Personal/UIDE/2024 Maestría Ciencia de Datos y Máquinas de Aprendizaje mención IA/Contenidos/Notebooks_DataMining/.venv/lib/python3.11/site-packages (from pandas) (2024.1)\n",
      "Requirement already satisfied: six>=1.5 in /Users/eugenio/Library/CloudStorage/OneDrive-Personal/UIDE/2024 Maestría Ciencia de Datos y Máquinas de Aprendizaje mención IA/Contenidos/Notebooks_DataMining/.venv/lib/python3.11/site-packages (from python-dateutil>=2.8.2->pandas) (1.16.0)\n",
      "Requirement already satisfied: numpy in /Users/eugenio/Library/CloudStorage/OneDrive-Personal/UIDE/2024 Maestría Ciencia de Datos y Máquinas de Aprendizaje mención IA/Contenidos/Notebooks_DataMining/.venv/lib/python3.11/site-packages (1.26.4)\n",
      "Requirement already satisfied: matplotlib in /Users/eugenio/Library/CloudStorage/OneDrive-Personal/UIDE/2024 Maestría Ciencia de Datos y Máquinas de Aprendizaje mención IA/Contenidos/Notebooks_DataMining/.venv/lib/python3.11/site-packages (3.8.4)\n",
      "Requirement already satisfied: contourpy>=1.0.1 in /Users/eugenio/Library/CloudStorage/OneDrive-Personal/UIDE/2024 Maestría Ciencia de Datos y Máquinas de Aprendizaje mención IA/Contenidos/Notebooks_DataMining/.venv/lib/python3.11/site-packages (from matplotlib) (1.2.1)\n",
      "Requirement already satisfied: cycler>=0.10 in /Users/eugenio/Library/CloudStorage/OneDrive-Personal/UIDE/2024 Maestría Ciencia de Datos y Máquinas de Aprendizaje mención IA/Contenidos/Notebooks_DataMining/.venv/lib/python3.11/site-packages (from matplotlib) (0.12.1)\n",
      "Requirement already satisfied: fonttools>=4.22.0 in /Users/eugenio/Library/CloudStorage/OneDrive-Personal/UIDE/2024 Maestría Ciencia de Datos y Máquinas de Aprendizaje mención IA/Contenidos/Notebooks_DataMining/.venv/lib/python3.11/site-packages (from matplotlib) (4.51.0)\n",
      "Requirement already satisfied: kiwisolver>=1.3.1 in /Users/eugenio/Library/CloudStorage/OneDrive-Personal/UIDE/2024 Maestría Ciencia de Datos y Máquinas de Aprendizaje mención IA/Contenidos/Notebooks_DataMining/.venv/lib/python3.11/site-packages (from matplotlib) (1.4.5)\n",
      "Requirement already satisfied: numpy>=1.21 in /Users/eugenio/Library/CloudStorage/OneDrive-Personal/UIDE/2024 Maestría Ciencia de Datos y Máquinas de Aprendizaje mención IA/Contenidos/Notebooks_DataMining/.venv/lib/python3.11/site-packages (from matplotlib) (1.26.4)\n",
      "Requirement already satisfied: packaging>=20.0 in /Users/eugenio/Library/CloudStorage/OneDrive-Personal/UIDE/2024 Maestría Ciencia de Datos y Máquinas de Aprendizaje mención IA/Contenidos/Notebooks_DataMining/.venv/lib/python3.11/site-packages (from matplotlib) (24.0)\n",
      "Requirement already satisfied: pillow>=8 in /Users/eugenio/Library/CloudStorage/OneDrive-Personal/UIDE/2024 Maestría Ciencia de Datos y Máquinas de Aprendizaje mención IA/Contenidos/Notebooks_DataMining/.venv/lib/python3.11/site-packages (from matplotlib) (10.3.0)\n",
      "Requirement already satisfied: pyparsing>=2.3.1 in /Users/eugenio/Library/CloudStorage/OneDrive-Personal/UIDE/2024 Maestría Ciencia de Datos y Máquinas de Aprendizaje mención IA/Contenidos/Notebooks_DataMining/.venv/lib/python3.11/site-packages (from matplotlib) (3.1.2)\n",
      "Requirement already satisfied: python-dateutil>=2.7 in /Users/eugenio/Library/CloudStorage/OneDrive-Personal/UIDE/2024 Maestría Ciencia de Datos y Máquinas de Aprendizaje mención IA/Contenidos/Notebooks_DataMining/.venv/lib/python3.11/site-packages (from matplotlib) (2.9.0.post0)\n",
      "Requirement already satisfied: six>=1.5 in /Users/eugenio/Library/CloudStorage/OneDrive-Personal/UIDE/2024 Maestría Ciencia de Datos y Máquinas de Aprendizaje mención IA/Contenidos/Notebooks_DataMining/.venv/lib/python3.11/site-packages (from python-dateutil>=2.7->matplotlib) (1.16.0)\n",
      "Requirement already satisfied: seaborn in /Users/eugenio/Library/CloudStorage/OneDrive-Personal/UIDE/2024 Maestría Ciencia de Datos y Máquinas de Aprendizaje mención IA/Contenidos/Notebooks_DataMining/.venv/lib/python3.11/site-packages (0.13.2)\n",
      "Requirement already satisfied: numpy!=1.24.0,>=1.20 in /Users/eugenio/Library/CloudStorage/OneDrive-Personal/UIDE/2024 Maestría Ciencia de Datos y Máquinas de Aprendizaje mención IA/Contenidos/Notebooks_DataMining/.venv/lib/python3.11/site-packages (from seaborn) (1.26.4)\n",
      "Requirement already satisfied: pandas>=1.2 in /Users/eugenio/Library/CloudStorage/OneDrive-Personal/UIDE/2024 Maestría Ciencia de Datos y Máquinas de Aprendizaje mención IA/Contenidos/Notebooks_DataMining/.venv/lib/python3.11/site-packages (from seaborn) (2.2.2)\n",
      "Requirement already satisfied: matplotlib!=3.6.1,>=3.4 in /Users/eugenio/Library/CloudStorage/OneDrive-Personal/UIDE/2024 Maestría Ciencia de Datos y Máquinas de Aprendizaje mención IA/Contenidos/Notebooks_DataMining/.venv/lib/python3.11/site-packages (from seaborn) (3.8.4)\n",
      "Requirement already satisfied: contourpy>=1.0.1 in /Users/eugenio/Library/CloudStorage/OneDrive-Personal/UIDE/2024 Maestría Ciencia de Datos y Máquinas de Aprendizaje mención IA/Contenidos/Notebooks_DataMining/.venv/lib/python3.11/site-packages (from matplotlib!=3.6.1,>=3.4->seaborn) (1.2.1)\n",
      "Requirement already satisfied: cycler>=0.10 in /Users/eugenio/Library/CloudStorage/OneDrive-Personal/UIDE/2024 Maestría Ciencia de Datos y Máquinas de Aprendizaje mención IA/Contenidos/Notebooks_DataMining/.venv/lib/python3.11/site-packages (from matplotlib!=3.6.1,>=3.4->seaborn) (0.12.1)\n",
      "Requirement already satisfied: fonttools>=4.22.0 in /Users/eugenio/Library/CloudStorage/OneDrive-Personal/UIDE/2024 Maestría Ciencia de Datos y Máquinas de Aprendizaje mención IA/Contenidos/Notebooks_DataMining/.venv/lib/python3.11/site-packages (from matplotlib!=3.6.1,>=3.4->seaborn) (4.51.0)\n",
      "Requirement already satisfied: kiwisolver>=1.3.1 in /Users/eugenio/Library/CloudStorage/OneDrive-Personal/UIDE/2024 Maestría Ciencia de Datos y Máquinas de Aprendizaje mención IA/Contenidos/Notebooks_DataMining/.venv/lib/python3.11/site-packages (from matplotlib!=3.6.1,>=3.4->seaborn) (1.4.5)\n",
      "Requirement already satisfied: packaging>=20.0 in /Users/eugenio/Library/CloudStorage/OneDrive-Personal/UIDE/2024 Maestría Ciencia de Datos y Máquinas de Aprendizaje mención IA/Contenidos/Notebooks_DataMining/.venv/lib/python3.11/site-packages (from matplotlib!=3.6.1,>=3.4->seaborn) (24.0)\n",
      "Requirement already satisfied: pillow>=8 in /Users/eugenio/Library/CloudStorage/OneDrive-Personal/UIDE/2024 Maestría Ciencia de Datos y Máquinas de Aprendizaje mención IA/Contenidos/Notebooks_DataMining/.venv/lib/python3.11/site-packages (from matplotlib!=3.6.1,>=3.4->seaborn) (10.3.0)\n",
      "Requirement already satisfied: pyparsing>=2.3.1 in /Users/eugenio/Library/CloudStorage/OneDrive-Personal/UIDE/2024 Maestría Ciencia de Datos y Máquinas de Aprendizaje mención IA/Contenidos/Notebooks_DataMining/.venv/lib/python3.11/site-packages (from matplotlib!=3.6.1,>=3.4->seaborn) (3.1.2)\n",
      "Requirement already satisfied: python-dateutil>=2.7 in /Users/eugenio/Library/CloudStorage/OneDrive-Personal/UIDE/2024 Maestría Ciencia de Datos y Máquinas de Aprendizaje mención IA/Contenidos/Notebooks_DataMining/.venv/lib/python3.11/site-packages (from matplotlib!=3.6.1,>=3.4->seaborn) (2.9.0.post0)\n",
      "Requirement already satisfied: pytz>=2020.1 in /Users/eugenio/Library/CloudStorage/OneDrive-Personal/UIDE/2024 Maestría Ciencia de Datos y Máquinas de Aprendizaje mención IA/Contenidos/Notebooks_DataMining/.venv/lib/python3.11/site-packages (from pandas>=1.2->seaborn) (2024.1)\n",
      "Requirement already satisfied: tzdata>=2022.7 in /Users/eugenio/Library/CloudStorage/OneDrive-Personal/UIDE/2024 Maestría Ciencia de Datos y Máquinas de Aprendizaje mención IA/Contenidos/Notebooks_DataMining/.venv/lib/python3.11/site-packages (from pandas>=1.2->seaborn) (2024.1)\n",
      "Requirement already satisfied: six>=1.5 in /Users/eugenio/Library/CloudStorage/OneDrive-Personal/UIDE/2024 Maestría Ciencia de Datos y Máquinas de Aprendizaje mención IA/Contenidos/Notebooks_DataMining/.venv/lib/python3.11/site-packages (from python-dateutil>=2.7->matplotlib!=3.6.1,>=3.4->seaborn) (1.16.0)\n"
     ]
    }
   ],
   "source": [
    "# Instalamos las librerías necesarias\n",
    "!pip install pandas\n",
    "!pip install numpy\n",
    "!pip install matplotlib\n",
    "!pip install seaborn"
   ]
  },
  {
   "cell_type": "code",
   "execution_count": 4,
   "metadata": {},
   "outputs": [],
   "source": [
    "\n",
    "# Importamos las librerías necesarias\n",
    "import pandas as pd\n",
    "import numpy as np\n",
    "import matplotlib.pyplot as plt\n",
    "import seaborn as sns"
   ]
  },
  {
   "cell_type": "markdown",
   "metadata": {},
   "source": [
    "Importamos el conjunto de datos del Titanic desde un archivo CSV. El conjunto de datos se almacena en un DataFrame de pandas llamado `titanic`."
   ]
  },
  {
   "cell_type": "code",
   "execution_count": 5,
   "metadata": {},
   "outputs": [],
   "source": [
    "# Importamos la base de datos\n",
    "titanic = pd.read_csv('/Users/eugenio/Library/CloudStorage/OneDrive-Personal/UIDE/2024 Maestría Ciencia de Datos y Máquinas de Aprendizaje mención IA/Contenidos/Notebooks_DataMining/Bases-de-Datos/titanic_train.csv')"
   ]
  },
  {
   "cell_type": "markdown",
   "metadata": {},
   "source": [
    "El método `head()` de un DataFrame de pandas devuelve las primeras n filas del DataFrame. Por defecto, si no se especifica ningún argumento, `head()` devuelve las primeras 5 filas.\n",
    "\n",
    "Cuando se aplica al DataFrame `titanic`, `titanic.head()` mostrará las primeras 5 filas del conjunto de datos del Titanic. Esto puede ser útil para obtener una visión general rápida de los datos después de cargarlos.\n",
    "\n"
   ]
  },
  {
   "cell_type": "code",
   "execution_count": 6,
   "metadata": {},
   "outputs": [
    {
     "data": {
      "text/html": [
       "<div>\n",
       "<style scoped>\n",
       "    .dataframe tbody tr th:only-of-type {\n",
       "        vertical-align: middle;\n",
       "    }\n",
       "\n",
       "    .dataframe tbody tr th {\n",
       "        vertical-align: top;\n",
       "    }\n",
       "\n",
       "    .dataframe thead th {\n",
       "        text-align: right;\n",
       "    }\n",
       "</style>\n",
       "<table border=\"1\" class=\"dataframe\">\n",
       "  <thead>\n",
       "    <tr style=\"text-align: right;\">\n",
       "      <th></th>\n",
       "      <th>PassengerId</th>\n",
       "      <th>Survived</th>\n",
       "      <th>Pclass</th>\n",
       "      <th>Name</th>\n",
       "      <th>Sex</th>\n",
       "      <th>Age</th>\n",
       "      <th>SibSp</th>\n",
       "      <th>Parch</th>\n",
       "      <th>Ticket</th>\n",
       "      <th>Fare</th>\n",
       "      <th>Cabin</th>\n",
       "      <th>Embarked</th>\n",
       "    </tr>\n",
       "  </thead>\n",
       "  <tbody>\n",
       "    <tr>\n",
       "      <th>0</th>\n",
       "      <td>1</td>\n",
       "      <td>0</td>\n",
       "      <td>3</td>\n",
       "      <td>Braund, Mr. Owen Harris</td>\n",
       "      <td>male</td>\n",
       "      <td>22.0</td>\n",
       "      <td>1</td>\n",
       "      <td>0</td>\n",
       "      <td>A/5 21171</td>\n",
       "      <td>7.2500</td>\n",
       "      <td>NaN</td>\n",
       "      <td>S</td>\n",
       "    </tr>\n",
       "    <tr>\n",
       "      <th>1</th>\n",
       "      <td>2</td>\n",
       "      <td>1</td>\n",
       "      <td>1</td>\n",
       "      <td>Cumings, Mrs. John Bradley (Florence Briggs Th...</td>\n",
       "      <td>female</td>\n",
       "      <td>38.0</td>\n",
       "      <td>1</td>\n",
       "      <td>0</td>\n",
       "      <td>PC 17599</td>\n",
       "      <td>71.2833</td>\n",
       "      <td>C85</td>\n",
       "      <td>C</td>\n",
       "    </tr>\n",
       "    <tr>\n",
       "      <th>2</th>\n",
       "      <td>3</td>\n",
       "      <td>1</td>\n",
       "      <td>3</td>\n",
       "      <td>Heikkinen, Miss. Laina</td>\n",
       "      <td>female</td>\n",
       "      <td>26.0</td>\n",
       "      <td>0</td>\n",
       "      <td>0</td>\n",
       "      <td>STON/O2. 3101282</td>\n",
       "      <td>7.9250</td>\n",
       "      <td>NaN</td>\n",
       "      <td>S</td>\n",
       "    </tr>\n",
       "    <tr>\n",
       "      <th>3</th>\n",
       "      <td>4</td>\n",
       "      <td>1</td>\n",
       "      <td>1</td>\n",
       "      <td>Futrelle, Mrs. Jacques Heath (Lily May Peel)</td>\n",
       "      <td>female</td>\n",
       "      <td>35.0</td>\n",
       "      <td>1</td>\n",
       "      <td>0</td>\n",
       "      <td>113803</td>\n",
       "      <td>53.1000</td>\n",
       "      <td>C123</td>\n",
       "      <td>S</td>\n",
       "    </tr>\n",
       "    <tr>\n",
       "      <th>4</th>\n",
       "      <td>5</td>\n",
       "      <td>0</td>\n",
       "      <td>3</td>\n",
       "      <td>Allen, Mr. William Henry</td>\n",
       "      <td>male</td>\n",
       "      <td>35.0</td>\n",
       "      <td>0</td>\n",
       "      <td>0</td>\n",
       "      <td>373450</td>\n",
       "      <td>8.0500</td>\n",
       "      <td>NaN</td>\n",
       "      <td>S</td>\n",
       "    </tr>\n",
       "  </tbody>\n",
       "</table>\n",
       "</div>"
      ],
      "text/plain": [
       "   PassengerId  Survived  Pclass  \\\n",
       "0            1         0       3   \n",
       "1            2         1       1   \n",
       "2            3         1       3   \n",
       "3            4         1       1   \n",
       "4            5         0       3   \n",
       "\n",
       "                                                Name     Sex   Age  SibSp  \\\n",
       "0                            Braund, Mr. Owen Harris    male  22.0      1   \n",
       "1  Cumings, Mrs. John Bradley (Florence Briggs Th...  female  38.0      1   \n",
       "2                             Heikkinen, Miss. Laina  female  26.0      0   \n",
       "3       Futrelle, Mrs. Jacques Heath (Lily May Peel)  female  35.0      1   \n",
       "4                           Allen, Mr. William Henry    male  35.0      0   \n",
       "\n",
       "   Parch            Ticket     Fare Cabin Embarked  \n",
       "0      0         A/5 21171   7.2500   NaN        S  \n",
       "1      0          PC 17599  71.2833   C85        C  \n",
       "2      0  STON/O2. 3101282   7.9250   NaN        S  \n",
       "3      0            113803  53.1000  C123        S  \n",
       "4      0            373450   8.0500   NaN        S  "
      ]
     },
     "execution_count": 6,
     "metadata": {},
     "output_type": "execute_result"
    }
   ],
   "source": [
    "# Mostramos las primeras 5 filas de la base de datos\n",
    "titanic.head()"
   ]
  },
  {
   "cell_type": "markdown",
   "metadata": {},
   "source": [
    "\n",
    "\n",
    "Cada fila representa un pasajero del Titanic, y cada columna representa una característica de ese pasajero, como su edad, sexo, clase de pasajero, etc."
   ]
  },
  {
   "cell_type": "markdown",
   "metadata": {},
   "source": [
    "### **Fase II:** Análisis exploratorio de datos"
   ]
  },
  {
   "cell_type": "markdown",
   "metadata": {},
   "source": [
    "El método `info()` de un DataFrame de pandas proporciona información esencial sobre el conjunto de datos. Esto incluye el número de filas y columnas, el número de valores no nulos, el tipo de datos de cada columna y la cantidad de memoria utilizada.\n",
    "\n",
    "Cuando se aplica al DataFrame `titanic`, `titanic.info()` mostrará información sobre el conjunto de datos del Titanic. Esto puede incluir detalles como el número de pasajeros (número de filas), las diferentes características de los pasajeros (columnas), cuántos valores no nulos hay en cada columna (lo que puede dar una idea de cuántos valores faltan) y los tipos de datos de las características (por ejemplo, entero, flotante, objeto).\n",
    "\n"
   ]
  },
  {
   "cell_type": "code",
   "execution_count": 7,
   "metadata": {},
   "outputs": [
    {
     "name": "stdout",
     "output_type": "stream",
     "text": [
      "<class 'pandas.core.frame.DataFrame'>\n",
      "RangeIndex: 891 entries, 0 to 890\n",
      "Data columns (total 12 columns):\n",
      " #   Column       Non-Null Count  Dtype  \n",
      "---  ------       --------------  -----  \n",
      " 0   PassengerId  891 non-null    int64  \n",
      " 1   Survived     891 non-null    int64  \n",
      " 2   Pclass       891 non-null    int64  \n",
      " 3   Name         891 non-null    object \n",
      " 4   Sex          891 non-null    object \n",
      " 5   Age          714 non-null    float64\n",
      " 6   SibSp        891 non-null    int64  \n",
      " 7   Parch        891 non-null    int64  \n",
      " 8   Ticket       891 non-null    object \n",
      " 9   Fare         891 non-null    float64\n",
      " 10  Cabin        204 non-null    object \n",
      " 11  Embarked     889 non-null    object \n",
      "dtypes: float64(2), int64(5), object(5)\n",
      "memory usage: 83.7+ KB\n"
     ]
    }
   ],
   "source": [
    "# Mostramos la información de la base de datos\n",
    "titanic.info()"
   ]
  },
  {
   "cell_type": "markdown",
   "metadata": {},
   "source": [
    "El método `drop()` de un DataFrame de pandas se utiliza para eliminar filas o columnas especificadas. \n",
    "\n",
    "En este caso, `titanic.drop(['PassengerId', 'Name', 'Ticket', 'Cabin'], axis=1, inplace=True)` está eliminando las columnas 'PassengerId', 'Name', 'Ticket', y 'Cabin' del DataFrame `titanic`.\n",
    "\n",
    "El argumento `axis=1` indica que se deben eliminar las columnas (en lugar de las filas, que sería `axis=0`).\n",
    "\n",
    "El argumento `inplace=True` significa que los cambios se realizan en el DataFrame original. Si `inplace` fuera `False` (o no se especificara), `drop()` devolvería un nuevo DataFrame con las columnas eliminadas, pero el DataFrame original `titanic` permanecería sin cambios.\n",
    "\n"
   ]
  },
  {
   "cell_type": "markdown",
   "metadata": {},
   "source": [
    "Para este ejemplo, la columna 'Cabin' tiene muchos valores faltantes porque no se registró la cabina de todos los pasajeros. Tratar con una gran cantidad de valores faltantes puede ser complicado y podría distorsionar los resultados del análisis.\n",
    "\n",
    "Además, la columna 'Cabin' no es relevante para el análisis planteado. Recordemos que queremos encontrar si hay relación entre la clase en la que viajaban los pasajeros y la supervivencia, así como el género de los pasajeros y la supervivencia. En este caso, la cabina en la que se alojaban no es una característica importante.\n",
    "\n",
    "Sin embargo, la decisión de eliminar o mantener una columna depende del contexto y del objetivo del análisis. En algunos casos, la columna 'Cabin' podría ser útil, por ejemplo, si se quiere analizar la relación entre la ubicación de la cabina y la supervivencia."
   ]
  },
  {
   "cell_type": "code",
   "execution_count": 8,
   "metadata": {},
   "outputs": [],
   "source": [
    "# Eliminamos las columnas que no necesitamos\n",
    "titanic.drop(['PassengerId', 'Name', 'Ticket', 'Cabin'], axis=1, inplace=True)"
   ]
  },
  {
   "cell_type": "markdown",
   "metadata": {},
   "source": [
    "El método `isnull()` de un DataFrame de pandas devuelve un DataFrame del mismo tamaño que indica con `True` los lugares donde los elementos son `NaN` y con `False` donde no lo son.\n",
    "\n",
    "Al encadenar el método `sum()` después de `isnull()`, se obtiene la suma de los valores `True` (representados como 1) para cada columna. Esto da como resultado el número total de valores faltantes (`NaN`) en cada columna del DataFrame.\n",
    "\n",
    "Por lo tanto, `titanic.isnull().sum()` devuelve el número total de valores faltantes en cada columna del DataFrame `titanic`.\n",
    "\n"
   ]
  },
  {
   "cell_type": "code",
   "execution_count": 9,
   "metadata": {},
   "outputs": [
    {
     "data": {
      "text/plain": [
       "Survived      0\n",
       "Pclass        0\n",
       "Sex           0\n",
       "Age         177\n",
       "SibSp         0\n",
       "Parch         0\n",
       "Fare          0\n",
       "Embarked      2\n",
       "dtype: int64"
      ]
     },
     "execution_count": 9,
     "metadata": {},
     "output_type": "execute_result"
    }
   ],
   "source": [
    "# Mostramos la cantidad de valores nulos en la base de datos\n",
    "titanic.isnull().sum()"
   ]
  },
  {
   "cell_type": "markdown",
   "metadata": {},
   "source": [
    "El método `dropna()` de un DataFrame de pandas se utiliza para eliminar filas o columnas con valores faltantes (`NaN`).\n",
    "\n",
    "En este caso, `titanic.dropna(inplace=True)` está eliminando todas las filas del DataFrame `titanic` que tienen al menos un valor faltante."
   ]
  },
  {
   "cell_type": "code",
   "execution_count": 10,
   "metadata": {},
   "outputs": [],
   "source": [
    "# Eliminamos las filas con valores nulos de todo el dataset\n",
    "titanic.dropna(inplace=True)"
   ]
  },
  {
   "cell_type": "markdown",
   "metadata": {},
   "source": [
    "Esto es útil para eliminar rápidamente los valores faltantes de un DataFrame, pero ten en cuenta que puede resultar en la pérdida de una cantidad significativa de datos si muchas filas tienen al menos un valor faltante.\n",
    "\n",
    "Para eliminar los valores faltantes de una columna en específico, podemos usar `titanic.dropna(subset=['Embarked'], inplace=True)`, que para este ejemplo está eliminando todas las filas del DataFrame titanic que tienen un valor faltante en la columna 'Embarked'.\n",
    "\n",
    "El argumento `subset=['Embarked']` especifica que solo se deben considerar los valores faltantes en la columna 'Embarked' al decidir qué filas eliminar."
   ]
  },
  {
   "cell_type": "code",
   "execution_count": 11,
   "metadata": {},
   "outputs": [
    {
     "data": {
      "text/html": [
       "<div>\n",
       "<style scoped>\n",
       "    .dataframe tbody tr th:only-of-type {\n",
       "        vertical-align: middle;\n",
       "    }\n",
       "\n",
       "    .dataframe tbody tr th {\n",
       "        vertical-align: top;\n",
       "    }\n",
       "\n",
       "    .dataframe thead th {\n",
       "        text-align: right;\n",
       "    }\n",
       "</style>\n",
       "<table border=\"1\" class=\"dataframe\">\n",
       "  <thead>\n",
       "    <tr style=\"text-align: right;\">\n",
       "      <th></th>\n",
       "      <th>Survived</th>\n",
       "      <th>Pclass</th>\n",
       "      <th>Sex</th>\n",
       "      <th>Age</th>\n",
       "      <th>SibSp</th>\n",
       "      <th>Parch</th>\n",
       "      <th>Fare</th>\n",
       "      <th>Embarked</th>\n",
       "    </tr>\n",
       "  </thead>\n",
       "  <tbody>\n",
       "    <tr>\n",
       "      <th>0</th>\n",
       "      <td>0</td>\n",
       "      <td>3</td>\n",
       "      <td>male</td>\n",
       "      <td>22.0</td>\n",
       "      <td>1</td>\n",
       "      <td>0</td>\n",
       "      <td>7.2500</td>\n",
       "      <td>S</td>\n",
       "    </tr>\n",
       "    <tr>\n",
       "      <th>1</th>\n",
       "      <td>1</td>\n",
       "      <td>1</td>\n",
       "      <td>female</td>\n",
       "      <td>38.0</td>\n",
       "      <td>1</td>\n",
       "      <td>0</td>\n",
       "      <td>71.2833</td>\n",
       "      <td>C</td>\n",
       "    </tr>\n",
       "    <tr>\n",
       "      <th>2</th>\n",
       "      <td>1</td>\n",
       "      <td>3</td>\n",
       "      <td>female</td>\n",
       "      <td>26.0</td>\n",
       "      <td>0</td>\n",
       "      <td>0</td>\n",
       "      <td>7.9250</td>\n",
       "      <td>S</td>\n",
       "    </tr>\n",
       "    <tr>\n",
       "      <th>3</th>\n",
       "      <td>1</td>\n",
       "      <td>1</td>\n",
       "      <td>female</td>\n",
       "      <td>35.0</td>\n",
       "      <td>1</td>\n",
       "      <td>0</td>\n",
       "      <td>53.1000</td>\n",
       "      <td>S</td>\n",
       "    </tr>\n",
       "    <tr>\n",
       "      <th>4</th>\n",
       "      <td>0</td>\n",
       "      <td>3</td>\n",
       "      <td>male</td>\n",
       "      <td>35.0</td>\n",
       "      <td>0</td>\n",
       "      <td>0</td>\n",
       "      <td>8.0500</td>\n",
       "      <td>S</td>\n",
       "    </tr>\n",
       "  </tbody>\n",
       "</table>\n",
       "</div>"
      ],
      "text/plain": [
       "   Survived  Pclass     Sex   Age  SibSp  Parch     Fare Embarked\n",
       "0         0       3    male  22.0      1      0   7.2500        S\n",
       "1         1       1  female  38.0      1      0  71.2833        C\n",
       "2         1       3  female  26.0      0      0   7.9250        S\n",
       "3         1       1  female  35.0      1      0  53.1000        S\n",
       "4         0       3    male  35.0      0      0   8.0500        S"
      ]
     },
     "execution_count": 11,
     "metadata": {},
     "output_type": "execute_result"
    }
   ],
   "source": [
    "# Mostramos las primeras 5 filas de la base de datos con los cambios realizados\n",
    "titanic.head()"
   ]
  },
  {
   "cell_type": "markdown",
   "metadata": {},
   "source": [
    "Calculemos y mostremos el número de pasajeros que sobrevivieron en el conjunto de datos del Titanic. \n",
    "\n",
    "`titanic[titanic.Survived == 1]` está creando un nuevo DataFrame que solo contiene las filas del DataFrame `titanic` donde el valor de la columna 'Survived' es 1 (lo que indica que el pasajero sobrevivió). Este nuevo DataFrame se almacena en la variable `survived`.\n"
   ]
  },
  {
   "cell_type": "code",
   "execution_count": 12,
   "metadata": {},
   "outputs": [
    {
     "data": {
      "text/html": [
       "<div>\n",
       "<style scoped>\n",
       "    .dataframe tbody tr th:only-of-type {\n",
       "        vertical-align: middle;\n",
       "    }\n",
       "\n",
       "    .dataframe tbody tr th {\n",
       "        vertical-align: top;\n",
       "    }\n",
       "\n",
       "    .dataframe thead th {\n",
       "        text-align: right;\n",
       "    }\n",
       "</style>\n",
       "<table border=\"1\" class=\"dataframe\">\n",
       "  <thead>\n",
       "    <tr style=\"text-align: right;\">\n",
       "      <th></th>\n",
       "      <th>Survived</th>\n",
       "      <th>Pclass</th>\n",
       "      <th>Sex</th>\n",
       "      <th>Age</th>\n",
       "      <th>SibSp</th>\n",
       "      <th>Parch</th>\n",
       "      <th>Fare</th>\n",
       "      <th>Embarked</th>\n",
       "    </tr>\n",
       "  </thead>\n",
       "  <tbody>\n",
       "    <tr>\n",
       "      <th>1</th>\n",
       "      <td>1</td>\n",
       "      <td>1</td>\n",
       "      <td>female</td>\n",
       "      <td>38.0</td>\n",
       "      <td>1</td>\n",
       "      <td>0</td>\n",
       "      <td>71.2833</td>\n",
       "      <td>C</td>\n",
       "    </tr>\n",
       "    <tr>\n",
       "      <th>2</th>\n",
       "      <td>1</td>\n",
       "      <td>3</td>\n",
       "      <td>female</td>\n",
       "      <td>26.0</td>\n",
       "      <td>0</td>\n",
       "      <td>0</td>\n",
       "      <td>7.9250</td>\n",
       "      <td>S</td>\n",
       "    </tr>\n",
       "    <tr>\n",
       "      <th>3</th>\n",
       "      <td>1</td>\n",
       "      <td>1</td>\n",
       "      <td>female</td>\n",
       "      <td>35.0</td>\n",
       "      <td>1</td>\n",
       "      <td>0</td>\n",
       "      <td>53.1000</td>\n",
       "      <td>S</td>\n",
       "    </tr>\n",
       "    <tr>\n",
       "      <th>8</th>\n",
       "      <td>1</td>\n",
       "      <td>3</td>\n",
       "      <td>female</td>\n",
       "      <td>27.0</td>\n",
       "      <td>0</td>\n",
       "      <td>2</td>\n",
       "      <td>11.1333</td>\n",
       "      <td>S</td>\n",
       "    </tr>\n",
       "    <tr>\n",
       "      <th>9</th>\n",
       "      <td>1</td>\n",
       "      <td>2</td>\n",
       "      <td>female</td>\n",
       "      <td>14.0</td>\n",
       "      <td>1</td>\n",
       "      <td>0</td>\n",
       "      <td>30.0708</td>\n",
       "      <td>C</td>\n",
       "    </tr>\n",
       "    <tr>\n",
       "      <th>...</th>\n",
       "      <td>...</td>\n",
       "      <td>...</td>\n",
       "      <td>...</td>\n",
       "      <td>...</td>\n",
       "      <td>...</td>\n",
       "      <td>...</td>\n",
       "      <td>...</td>\n",
       "      <td>...</td>\n",
       "    </tr>\n",
       "    <tr>\n",
       "      <th>875</th>\n",
       "      <td>1</td>\n",
       "      <td>3</td>\n",
       "      <td>female</td>\n",
       "      <td>15.0</td>\n",
       "      <td>0</td>\n",
       "      <td>0</td>\n",
       "      <td>7.2250</td>\n",
       "      <td>C</td>\n",
       "    </tr>\n",
       "    <tr>\n",
       "      <th>879</th>\n",
       "      <td>1</td>\n",
       "      <td>1</td>\n",
       "      <td>female</td>\n",
       "      <td>56.0</td>\n",
       "      <td>0</td>\n",
       "      <td>1</td>\n",
       "      <td>83.1583</td>\n",
       "      <td>C</td>\n",
       "    </tr>\n",
       "    <tr>\n",
       "      <th>880</th>\n",
       "      <td>1</td>\n",
       "      <td>2</td>\n",
       "      <td>female</td>\n",
       "      <td>25.0</td>\n",
       "      <td>0</td>\n",
       "      <td>1</td>\n",
       "      <td>26.0000</td>\n",
       "      <td>S</td>\n",
       "    </tr>\n",
       "    <tr>\n",
       "      <th>887</th>\n",
       "      <td>1</td>\n",
       "      <td>1</td>\n",
       "      <td>female</td>\n",
       "      <td>19.0</td>\n",
       "      <td>0</td>\n",
       "      <td>0</td>\n",
       "      <td>30.0000</td>\n",
       "      <td>S</td>\n",
       "    </tr>\n",
       "    <tr>\n",
       "      <th>889</th>\n",
       "      <td>1</td>\n",
       "      <td>1</td>\n",
       "      <td>male</td>\n",
       "      <td>26.0</td>\n",
       "      <td>0</td>\n",
       "      <td>0</td>\n",
       "      <td>30.0000</td>\n",
       "      <td>C</td>\n",
       "    </tr>\n",
       "  </tbody>\n",
       "</table>\n",
       "<p>288 rows × 8 columns</p>\n",
       "</div>"
      ],
      "text/plain": [
       "     Survived  Pclass     Sex   Age  SibSp  Parch     Fare Embarked\n",
       "1           1       1  female  38.0      1      0  71.2833        C\n",
       "2           1       3  female  26.0      0      0   7.9250        S\n",
       "3           1       1  female  35.0      1      0  53.1000        S\n",
       "8           1       3  female  27.0      0      2  11.1333        S\n",
       "9           1       2  female  14.0      1      0  30.0708        C\n",
       "..        ...     ...     ...   ...    ...    ...      ...      ...\n",
       "875         1       3  female  15.0      0      0   7.2250        C\n",
       "879         1       1  female  56.0      0      1  83.1583        C\n",
       "880         1       2  female  25.0      0      1  26.0000        S\n",
       "887         1       1  female  19.0      0      0  30.0000        S\n",
       "889         1       1    male  26.0      0      0  30.0000        C\n",
       "\n",
       "[288 rows x 8 columns]"
      ]
     },
     "execution_count": 12,
     "metadata": {},
     "output_type": "execute_result"
    }
   ],
   "source": [
    "# Creamos un DataFrame que contenga solo las filas en las que 'Survived' es 1\n",
    "survived = titanic[titanic.Survived == 1]\n",
    "survived"
   ]
  },
  {
   "cell_type": "markdown",
   "metadata": {},
   "source": [
    "`len(survived)` calcula la longitud del DataFrame `Survived`, que es igual al número de filas en `Survived`. Dado que cada fila representa un pasajero que sobrevivió, `len(survived)` da el número total de pasajeros que sobrevivieron."
   ]
  },
  {
   "cell_type": "code",
   "execution_count": 13,
   "metadata": {},
   "outputs": [
    {
     "data": {
      "text/plain": [
       "288"
      ]
     },
     "execution_count": 13,
     "metadata": {},
     "output_type": "execute_result"
    }
   ],
   "source": [
    "# Mostramos cuántos pasajeros sobrevivieron\n",
    "len(survived)"
   ]
  },
  {
   "cell_type": "markdown",
   "metadata": {},
   "source": [
    "AHora calculamos y mostramos el número de pasajeros que no sobrevivieron en el conjunto de datos del Titanic.\n",
    "\n",
    "`titanic[titanic.Survived == 0]` está creando un nuevo DataFrame que solo contiene las filas del DataFrame `titanic` donde el valor de la columna 'Survived' es 0 (lo que indica que el pasajero no sobrevivió). Este nuevo DataFrame se almacena en la variable `not_survived`."
   ]
  },
  {
   "cell_type": "code",
   "execution_count": 14,
   "metadata": {},
   "outputs": [
    {
     "data": {
      "text/html": [
       "<div>\n",
       "<style scoped>\n",
       "    .dataframe tbody tr th:only-of-type {\n",
       "        vertical-align: middle;\n",
       "    }\n",
       "\n",
       "    .dataframe tbody tr th {\n",
       "        vertical-align: top;\n",
       "    }\n",
       "\n",
       "    .dataframe thead th {\n",
       "        text-align: right;\n",
       "    }\n",
       "</style>\n",
       "<table border=\"1\" class=\"dataframe\">\n",
       "  <thead>\n",
       "    <tr style=\"text-align: right;\">\n",
       "      <th></th>\n",
       "      <th>Survived</th>\n",
       "      <th>Pclass</th>\n",
       "      <th>Sex</th>\n",
       "      <th>Age</th>\n",
       "      <th>SibSp</th>\n",
       "      <th>Parch</th>\n",
       "      <th>Fare</th>\n",
       "      <th>Embarked</th>\n",
       "    </tr>\n",
       "  </thead>\n",
       "  <tbody>\n",
       "    <tr>\n",
       "      <th>0</th>\n",
       "      <td>0</td>\n",
       "      <td>3</td>\n",
       "      <td>male</td>\n",
       "      <td>22.0</td>\n",
       "      <td>1</td>\n",
       "      <td>0</td>\n",
       "      <td>7.2500</td>\n",
       "      <td>S</td>\n",
       "    </tr>\n",
       "    <tr>\n",
       "      <th>4</th>\n",
       "      <td>0</td>\n",
       "      <td>3</td>\n",
       "      <td>male</td>\n",
       "      <td>35.0</td>\n",
       "      <td>0</td>\n",
       "      <td>0</td>\n",
       "      <td>8.0500</td>\n",
       "      <td>S</td>\n",
       "    </tr>\n",
       "    <tr>\n",
       "      <th>6</th>\n",
       "      <td>0</td>\n",
       "      <td>1</td>\n",
       "      <td>male</td>\n",
       "      <td>54.0</td>\n",
       "      <td>0</td>\n",
       "      <td>0</td>\n",
       "      <td>51.8625</td>\n",
       "      <td>S</td>\n",
       "    </tr>\n",
       "    <tr>\n",
       "      <th>7</th>\n",
       "      <td>0</td>\n",
       "      <td>3</td>\n",
       "      <td>male</td>\n",
       "      <td>2.0</td>\n",
       "      <td>3</td>\n",
       "      <td>1</td>\n",
       "      <td>21.0750</td>\n",
       "      <td>S</td>\n",
       "    </tr>\n",
       "    <tr>\n",
       "      <th>12</th>\n",
       "      <td>0</td>\n",
       "      <td>3</td>\n",
       "      <td>male</td>\n",
       "      <td>20.0</td>\n",
       "      <td>0</td>\n",
       "      <td>0</td>\n",
       "      <td>8.0500</td>\n",
       "      <td>S</td>\n",
       "    </tr>\n",
       "    <tr>\n",
       "      <th>...</th>\n",
       "      <td>...</td>\n",
       "      <td>...</td>\n",
       "      <td>...</td>\n",
       "      <td>...</td>\n",
       "      <td>...</td>\n",
       "      <td>...</td>\n",
       "      <td>...</td>\n",
       "      <td>...</td>\n",
       "    </tr>\n",
       "    <tr>\n",
       "      <th>883</th>\n",
       "      <td>0</td>\n",
       "      <td>2</td>\n",
       "      <td>male</td>\n",
       "      <td>28.0</td>\n",
       "      <td>0</td>\n",
       "      <td>0</td>\n",
       "      <td>10.5000</td>\n",
       "      <td>S</td>\n",
       "    </tr>\n",
       "    <tr>\n",
       "      <th>884</th>\n",
       "      <td>0</td>\n",
       "      <td>3</td>\n",
       "      <td>male</td>\n",
       "      <td>25.0</td>\n",
       "      <td>0</td>\n",
       "      <td>0</td>\n",
       "      <td>7.0500</td>\n",
       "      <td>S</td>\n",
       "    </tr>\n",
       "    <tr>\n",
       "      <th>885</th>\n",
       "      <td>0</td>\n",
       "      <td>3</td>\n",
       "      <td>female</td>\n",
       "      <td>39.0</td>\n",
       "      <td>0</td>\n",
       "      <td>5</td>\n",
       "      <td>29.1250</td>\n",
       "      <td>Q</td>\n",
       "    </tr>\n",
       "    <tr>\n",
       "      <th>886</th>\n",
       "      <td>0</td>\n",
       "      <td>2</td>\n",
       "      <td>male</td>\n",
       "      <td>27.0</td>\n",
       "      <td>0</td>\n",
       "      <td>0</td>\n",
       "      <td>13.0000</td>\n",
       "      <td>S</td>\n",
       "    </tr>\n",
       "    <tr>\n",
       "      <th>890</th>\n",
       "      <td>0</td>\n",
       "      <td>3</td>\n",
       "      <td>male</td>\n",
       "      <td>32.0</td>\n",
       "      <td>0</td>\n",
       "      <td>0</td>\n",
       "      <td>7.7500</td>\n",
       "      <td>Q</td>\n",
       "    </tr>\n",
       "  </tbody>\n",
       "</table>\n",
       "<p>424 rows × 8 columns</p>\n",
       "</div>"
      ],
      "text/plain": [
       "     Survived  Pclass     Sex   Age  SibSp  Parch     Fare Embarked\n",
       "0           0       3    male  22.0      1      0   7.2500        S\n",
       "4           0       3    male  35.0      0      0   8.0500        S\n",
       "6           0       1    male  54.0      0      0  51.8625        S\n",
       "7           0       3    male   2.0      3      1  21.0750        S\n",
       "12          0       3    male  20.0      0      0   8.0500        S\n",
       "..        ...     ...     ...   ...    ...    ...      ...      ...\n",
       "883         0       2    male  28.0      0      0  10.5000        S\n",
       "884         0       3    male  25.0      0      0   7.0500        S\n",
       "885         0       3  female  39.0      0      5  29.1250        Q\n",
       "886         0       2    male  27.0      0      0  13.0000        S\n",
       "890         0       3    male  32.0      0      0   7.7500        Q\n",
       "\n",
       "[424 rows x 8 columns]"
      ]
     },
     "execution_count": 14,
     "metadata": {},
     "output_type": "execute_result"
    }
   ],
   "source": [
    "# Creamos un DataFrame que contenga solo las filas en las que 'Survived' es 0\n",
    "not_survived = titanic[titanic.Survived == 0]\n",
    "not_survived"
   ]
  },
  {
   "cell_type": "markdown",
   "metadata": {},
   "source": [
    "`len(not_survived)` está calculando la longitud del DataFrame `not_survived`, que es igual al número de filas en `not_survived`. Dado que cada fila representa un pasajero que no sobrevivió, `len(not_survived)` da el número total de pasajeros que no sobrevivieron."
   ]
  },
  {
   "cell_type": "code",
   "execution_count": 15,
   "metadata": {},
   "outputs": [
    {
     "data": {
      "text/plain": [
       "424"
      ]
     },
     "execution_count": 15,
     "metadata": {},
     "output_type": "execute_result"
    }
   ],
   "source": [
    "# Mostramos cuántos pasajeros no sobrevivieron\n",
    "len(not_survived)"
   ]
  },
  {
   "cell_type": "markdown",
   "metadata": {},
   "source": [
    "Mostramos la cantidad de valores únicos en las columnas 'Pclass', 'Sex' y 'Survived' del DataFrame `titanic`.\n",
    "\n",
    "- `titanic['Pclass'].value_counts()` está contando la cantidad de veces que cada valor único aparece en la columna 'Pclass' del DataFrame `titanic`. 'Pclass' es una característica que indica la clase del pasajero en el Titanic (1 = primera clase, 2 = segunda clase, 3 = tercera clase).\n",
    "\n",
    "- `titanic['Sex'].value_counts()` está contando la cantidad de veces que cada valor único aparece en la columna 'Sex' del DataFrame `titanic`. 'Sex' es una característica que indica el sexo del pasajero.\n",
    "\n",
    "- `titanic['Survived'].value_counts()` está contando la cantidad de veces que cada valor único aparece en la columna 'Survived' del DataFrame `titanic`. 'Survived' es una característica que indica si el pasajero sobrevivió (1 = sobrevivió, 0 = no sobrevivió)."
   ]
  },
  {
   "cell_type": "code",
   "execution_count": 16,
   "metadata": {},
   "outputs": [
    {
     "name": "stdout",
     "output_type": "stream",
     "text": [
      "Pclass\n",
      "3    355\n",
      "1    184\n",
      "2    173\n",
      "Name: count, dtype: int64\n",
      "Sex\n",
      "male      453\n",
      "female    259\n",
      "Name: count, dtype: int64\n",
      "Survived\n",
      "0    424\n",
      "1    288\n",
      "Name: count, dtype: int64\n"
     ]
    }
   ],
   "source": [
    "# Mostramos la cantidad de valores únicos en la columna 'Pclass'\n",
    "print(titanic['Pclass'].value_counts())\n",
    "\n",
    "# Mostramos la cantidad de valores únicos en la columna 'Sex'\n",
    "print(titanic['Sex'].value_counts())\n",
    "\n",
    "# Mostramos la cantidad de valores únicos en la columna 'Survived'\n",
    "print(titanic['Survived'].value_counts())"
   ]
  },
  {
   "cell_type": "markdown",
   "metadata": {},
   "source": [
    "### **Fase III:** Evaluación de hipótesis"
   ]
  },
  {
   "cell_type": "markdown",
   "metadata": {},
   "source": [
    "#### Hipótesis 1: Las mujeres tuvieron más probabilidades de sobrevivir"
   ]
  },
  {
   "cell_type": "markdown",
   "metadata": {},
   "source": [
    "Existe una vieja teoría conspirativa en la que aparentemente si eras de sexo femenino, tenías más probabilidades de sovrevivir. Veamos si esta hipótesis es real.\n",
    "\n",
    "Utilizaremos la biblioteca Seaborn para crear un gráfico de barras que muestra la cantidad de pasajeros que sobrevivieron y no sobrevivieron, desglosados por género.\n",
    "\n",
    "- `sns.countplot(x='Survived', hue='Sex', data=titanic)` está creando un gráfico de barras donde el eje x representa si el pasajero sobrevivió o no (con 0 para no sobrevivió y 1 para sobrevivió), y el color de las barras representa el género del pasajero. El argumento `data=titanic` especifica que los datos para el gráfico provienen del DataFrame `titanic`.\n",
    "\n",
    "- `plt.xticks([0,1], ['No', 'Sí'])` está cambiando las etiquetas del eje x de 0 y 1 a 'No' y 'Sí', respectivamente, para hacer el gráfico más fácil de entender."
   ]
  },
  {
   "cell_type": "code",
   "execution_count": 17,
   "metadata": {},
   "outputs": [
    {
     "data": {
      "text/plain": [
       "([<matplotlib.axis.XTick at 0x121acf950>,\n",
       "  <matplotlib.axis.XTick at 0x12176ead0>],\n",
       " [Text(0, 0, 'No'), Text(1, 0, 'Sí')])"
      ]
     },
     "execution_count": 17,
     "metadata": {},
     "output_type": "execute_result"
    },
    {
     "data": {
      "image/png": "[encoded data removed]",
      "text/plain": [
       "<Figure size 640x480 with 1 Axes>"
      ]
     },
     "metadata": {},
     "output_type": "display_data"
    }
   ],
   "source": [
    "# Ploteamos los sobrevivientes ('Survived') por género ('Sex') para visualizar esta relación\n",
    "sns.countplot(x='Survived', hue='Sex', data=titanic)\n",
    "\n",
    "#Cambiamos las etiquetas de los ejes-x 0 y 1 a 'No' y 'Sí'\n",
    "plt.xticks([0,1], ['No', 'Sí'])"
   ]
  },
  {
   "cell_type": "markdown",
   "metadata": {},
   "source": [
    "Este gráfico de barras muestra la relación entre la supervivencia de los pasajeros del Titanic y su género. El eje $x$ representa si los pasajeros sobrevivieron o no, y el color de las barras representa el género de los pasajeros.\n",
    "\n",
    "Si observamos el gráfico, podemos ver que la cantidad de mujeres que sobrevivieron es significativamente mayor que la cantidad de hombres que sobrevivieron. Esto sugiere que las mujeres tuvieron una mayor probabilidad de sobrevivir al hundimiento del Titanic que los hombres.\n",
    "\n",
    "Esta observación es consistente con el protocolo marítimo de \"mujeres y niños primero\" que se sigue a menudo en situaciones de emergencia. Además, también podría reflejar otras dinámicas sociales y de género de la época.\n",
    "\n",
    "Por otro lado, la cantidad de hombres que no sobrevivieron es mucho mayor que la cantidad de mujeres que no sobrevivieron, lo que refuerza la observación de que las mujeres tenían más probabilidades de sobrevivir."
   ]
  },
  {
   "cell_type": "markdown",
   "metadata": {},
   "source": [
    "#### Hipótesis 2: Si viajabas en primera clase tenías más probabilidades de sobrevivir"
   ]
  },
  {
   "cell_type": "markdown",
   "metadata": {},
   "source": [
    "Otra hipótesis que podemos probar es si existe correlación entre la clase en la que viajaban los pasajeros del Titanic y su tasa de supervivencia. Para investigar esta relación, utilizaremos herramientas de visualización para representar gráficamente los datos y determinar si hay alguna diferencia significativa en la tasa de supervivencia entre las diferentes clases. \n",
    "\n",
    "Usamos la biblioteca Seaborn para crear un gráfico de barras que muestra la cantidad de pasajeros que sobrevivieron y no sobrevivieron, desglosados por la clase del pasajero.\n",
    "\n",
    "`sns.countplot(x='Survived', hue='Pclass', data=titanic)` está creando un gráfico de barras donde el eje $x$ representa si el pasajero sobrevivió o no (con 0 para no sobrevivió y 1 para sobrevivió), y el color de las barras representa la clase del pasajero. El argumento `data=titanic` especifica que los datos para el gráfico provienen del DataFrame `titanic`.\n",
    "\n",
    "`plt.xticks([0,1], ['No', 'Sí'])` está cambiando las etiquetas del eje x de 0 y 1 a 'No' y 'Sí', respectivamente, para hacer el gráfico más fácil de entender."
   ]
  },
  {
   "cell_type": "code",
   "execution_count": 18,
   "metadata": {},
   "outputs": [
    {
     "data": {
      "text/plain": [
       "([<matplotlib.axis.XTick at 0x121ba3210>,\n",
       "  <matplotlib.axis.XTick at 0x121ba1890>],\n",
       " [Text(0, 0, 'No'), Text(1, 0, 'Sí')])"
      ]
     },
     "execution_count": 18,
     "metadata": {},
     "output_type": "execute_result"
    },
    {
     "data": {
      "image/png": "[encoded data removed]",
      "text/plain": [
       "<Figure size 640x480 with 1 Axes>"
      ]
     },
     "metadata": {},
     "output_type": "display_data"
    }
   ],
   "source": [
    "# Ploteamos los sobrevivientes ('Survived') por clase ('Pclass') para visualizar esta relación\n",
    "sns.countplot(x='Survived', hue='Pclass', data=titanic)\n",
    "\n",
    "#Cambiamos las etiquetas de los ejes-x 0 y 1 a 'No' y 'Sí'\n",
    "plt.xticks([0,1], ['No', 'Sí'])"
   ]
  },
  {
   "cell_type": "markdown",
   "metadata": {},
   "source": [
    "Si observamos el gráfico, podemos ver que la cantidad de pasajeros de primera clase que sobrevivieron es mayor que la de las otras clases. Esto sugiere que los pasajeros de primera clase tenían una mayor probabilidad de sobrevivir al hundimiento del Titanic que los pasajeros de segunda y tercera clase.\n",
    "\n",
    "Esta observación podría deberse a varios factores. Por ejemplo, es posible que los pasajeros de primera clase tuvieran un acceso más fácil a los botes salvavidas, o que se les diera prioridad durante el proceso de evacuación. También es posible que las condiciones de vida en primera clase fueran más seguras y cómodas, lo que podría haber aumentado las posibilidades de supervivencia de estos pasajeros.\n",
    "\n",
    "Por otro lado, la cantidad de pasajeros de tercera clase que no sobrevivieron es mucho mayor que la de las otras clases, lo que refuerza la observación de que viajar en primera clase aumentaba las posibilidades de supervivencia.\n",
    "\n",
    "En resumen, este gráfico proporciona una visualización clara de cómo la clase del pasajero afectó sus posibilidades de supervivencia en el Titanic, y apoya la hipótesis de que viajar en primera clase aumentaba las posibilidades de sobrevivir. Sin embargo, el conjunto de datos del Titanic contiene muchas otras características que podrían ser interesantes de explorar, como la edad de los pasajeros, el número de parientes a bordo, y el puerto de embarque.\n",
    "\n",
    "Por lo tanto, hay mucho más que se puede hacer para explorar este conjunto de datos y obtener una comprensión más profunda de los factores que influyeron en la supervivencia de los pasajeros del Titanic. Esto podría incluir la realización de análisis estadísticos más detallados, la creación de modelos de aprendizaje automático para predecir la supervivencia, o la visualización de los datos de nuevas y creativas maneras.\n",
    "\n",
    "*¡Gracias por tu tiempo y espero que continúes aprendiendo!*"
   ]
  }
 ],
 "metadata": {
  "kernelspec": {
   "display_name": ".venv",
   "language": "python",
   "name": "python3"
  },
  "language_info": {
   "codemirror_mode": {
    "name": "ipython",
    "version": 3
   },
   "file_extension": ".py",
   "mimetype": "text/x-python",
   "name": "python",
   "nbconvert_exporter": "python",
   "pygments_lexer": "ipython3",
   "version": "3.11.3"
  }
 },
 "nbformat": 4,
 "nbformat_minor": 2
}
