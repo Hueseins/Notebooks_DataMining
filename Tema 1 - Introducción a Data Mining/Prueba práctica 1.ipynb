{
 "cells": [
  {
   "cell_type": "markdown",
   "metadata": {},
   "source": [
    "Autor:  \n",
    "Manuel Eugenio Morocho Cayamcela, PhD"
   ]
  },
  {
   "cell_type": "markdown",
   "metadata": {},
   "source": [
    "# **Caso práctico 1:**  \n",
    "## Extracción de Patrones con los datos de California Housing Prices"
   ]
  },
  {
   "cell_type": "markdown",
   "metadata": {},
   "source": [
    "### **Objetivo y alcance del trabajo:**"
   ]
  },
  {
   "cell_type": "markdown",
   "metadata": {},
   "source": [
    "En la Fase I, los estudiantes cargarán el conjunto de datos California Housing Prices y realizarán una exploración inicial. En la Fase II, visualizarán los datos con la herramienta `pairplot` de la librería `seaborn` creando un histograma de una columna numérica. En la Fase III, calcularán la correlación de Pearson de todas las columnas numéricas y generarán un informe de perfilado de datos con Pandas Profiler. Los estudiantes deben buscar patrones en los datos, como qué variables están fuertemente correlacionadas con el precio de las viviendas ('MEDV')."
   ]
  },
  {
   "cell_type": "markdown",
   "metadata": {},
   "source": []
  },
  {
   "cell_type": "markdown",
   "metadata": {},
   "source": [
    "El dataset 'california_housing_prices.csv' contiene información sobre los precios de viviendas en California. Las variables presentes en el dataset son las siguientes:\n",
    "\n",
    "1. longitude: La longitud geográfica de la ubicación de la vivienda.\n",
    "2. latitude: La latitud geográfica de la ubicación de la vivienda.\n",
    "3. housing_median_age: La edad mediana de las viviendas en la ubicación.\n",
    "4. total_rooms: El número total de habitaciones en la vivienda.\n",
    "5. total_bedrooms: El número total de dormitorios en la vivienda.\n",
    "6. population: La población total en la ubicación.\n",
    "7. households: El número total de hogares en la ubicación.\n",
    "8. median_income: El ingreso mediano de los hogares en la ubicación.\n",
    "9. median_house_value: El valor mediano de las viviendas en la ubicación.\n",
    "10. ocean_proximity: La proximidad de la vivienda al océano.\n",
    "\n",
    "El dataset contiene un total de 20,640 registros. Las variables tienen diferentes tipos de datos, siendo la mayoría variables numéricas (float64) y una variable categórica (object). Algunas variables tienen valores faltantes en el dataset."
   ]
  },
  {
   "cell_type": "markdown",
   "metadata": {},
   "source": [
    "### **Fase I:** Carga y análisis exploratorio inicial de los datos"
   ]
  },
  {
   "cell_type": "code",
   "execution_count": null,
   "metadata": {},
   "outputs": [],
   "source": [
    "# Importamos las librerías 'pandas' con alias 'pd' y 'seaborn' con alias 'sns'\n",
    "\n",
    "import ____ as ____\n",
    "import ____ as ____"
   ]
  },
  {
   "cell_type": "code",
   "execution_count": 4,
   "metadata": {},
   "outputs": [],
   "source": [
    "# Cargamos el conjunto de datos 'california_housing_prices.csv' en un DataFrame llamado 'housing'\n",
    "\n",
    "housing = pd.____(____)"
   ]
  },
  {
   "cell_type": "code",
   "execution_count": null,
   "metadata": {},
   "outputs": [],
   "source": [
    "# Utilizamos el método 'head()' para visualizar las primeras 15 filas del DataFrame 'housing'\n",
    "\n",
    "housing.____(____)"
   ]
  },
  {
   "cell_type": "code",
   "execution_count": null,
   "metadata": {},
   "outputs": [],
   "source": [
    "# Utilizamos el método 'describe()' para obtener estadísticas descriptivas del DataFrame 'housing'\n",
    "\n",
    "____.____()"
   ]
  },
  {
   "cell_type": "code",
   "execution_count": null,
   "metadata": {},
   "outputs": [],
   "source": [
    "# Utilizamos el método 'info()' para obtener información sobre el DataFrame 'housing'\n",
    "\n",
    "____.____()"
   ]
  },
  {
   "cell_type": "code",
   "execution_count": null,
   "metadata": {},
   "outputs": [],
   "source": [
    "# Utilizamos el método 'hist()' de 'pandas' para visualizar un histograma de todas las columnas del DataFrame 'housing', con un tamaño de figura de 20x15\n",
    "\n",
    "____.____(figsize=(____, 15))"
   ]
  },
  {
   "cell_type": "markdown",
   "metadata": {},
   "source": [
    "### **Fase II:** Visualización de los datos"
   ]
  },
  {
   "cell_type": "code",
   "execution_count": null,
   "metadata": {},
   "outputs": [],
   "source": [
    "# Usamos la librería 'seaborn' para visualizar un 'scatterplot' (gráfico de dispersión) de las columnas 'longitude' y 'latitude' de las viviendas en California (DataFrame 'housing')\n",
    "\n",
    "sns.____(x=____, y=____, data=____)"
   ]
  },
  {
   "cell_type": "code",
   "execution_count": null,
   "metadata": {},
   "outputs": [],
   "source": [
    "# Usamos la librería 'seaborn' para visualizar un 'scatterplot' (gráfico de dispersión) de las columnas 'longitude' y 'latitude' de las viviendas en California (DataFrame 'housing')\n",
    "# Usamos el parámetro de opacidad 'alpha' de 0.1. Esto significa que los puntos tendrán una opacidad del 10%. Esto es útil cuando tenemos muchos puntos y queremos visualizar la densidad\n",
    "# Usamos el parámetro 'hue' para agregar una dimensión adicional a la trama al colorear los puntos de datos según la variable 'median_house_value'\n",
    "\n",
    "sns.____(x=____, y=____, data=____, alpha=0.1, hue=____)"
   ]
  },
  {
   "cell_type": "markdown",
   "metadata": {},
   "source": [
    "Q: ¿En qué área geográfica de California se encuentran las casas más caras?\n",
    "\n",
    "a) Área metropolitana de Los Ángeles  \n",
    "b) Área de la Bahía de San Francisco  \n",
    "c) Condado de Orange  \n",
    "d) Condado de San Diego  \n",
    "\n",
    "Correcta: b) Área de la Bahía de San Francisco"
   ]
  },
  {
   "cell_type": "code",
   "execution_count": null,
   "metadata": {},
   "outputs": [],
   "source": [
    "# Convertimos la variable 'ocean_proximity' en una variable categórica utilizando el método 'astype()' de 'pandas'\n"
   ]
  },
  {
   "cell_type": "code",
   "execution_count": null,
   "metadata": {},
   "outputs": [],
   "source": [
    "# Buscamos patrones interesantes en los datos utilizando el método 'corr()' de 'pandas' para calcular la correlación entre las columnas del DataFrame 'housing'\n",
    "\n",
    "____.____()"
   ]
  },
  {
   "cell_type": "code",
   "execution_count": 14,
   "metadata": {},
   "outputs": [
    {
     "ename": "ValueError",
     "evalue": "could not convert string to float: 'NEAR BAY'",
     "output_type": "error",
     "traceback": [
      "\u001b[0;31m---------------------------------------------------------------------------\u001b[0m",
      "\u001b[0;31mValueError\u001b[0m                                Traceback (most recent call last)",
      "Cell \u001b[0;32mIn[14], line 1\u001b[0m\n\u001b[0;32m----> 1\u001b[0m correlation \u001b[38;5;241m=\u001b[39m \u001b[43mhousing\u001b[49m\u001b[38;5;241;43m.\u001b[39;49m\u001b[43mcorr\u001b[49m\u001b[43m(\u001b[49m\u001b[43m)\u001b[49m\n",
      "File \u001b[0;32m~/Library/CloudStorage/OneDrive-Personal/UIDE/2024 Maestría Ciencia de Datos y Máquinas de Aprendizaje mención IA/Contenidos/Notebooks_DataMining/.venv/lib/python3.11/site-packages/pandas/core/frame.py:11049\u001b[0m, in \u001b[0;36mDataFrame.corr\u001b[0;34m(self, method, min_periods, numeric_only)\u001b[0m\n\u001b[1;32m  11047\u001b[0m cols \u001b[38;5;241m=\u001b[39m data\u001b[38;5;241m.\u001b[39mcolumns\n\u001b[1;32m  11048\u001b[0m idx \u001b[38;5;241m=\u001b[39m cols\u001b[38;5;241m.\u001b[39mcopy()\n\u001b[0;32m> 11049\u001b[0m mat \u001b[38;5;241m=\u001b[39m \u001b[43mdata\u001b[49m\u001b[38;5;241;43m.\u001b[39;49m\u001b[43mto_numpy\u001b[49m\u001b[43m(\u001b[49m\u001b[43mdtype\u001b[49m\u001b[38;5;241;43m=\u001b[39;49m\u001b[38;5;28;43mfloat\u001b[39;49m\u001b[43m,\u001b[49m\u001b[43m \u001b[49m\u001b[43mna_value\u001b[49m\u001b[38;5;241;43m=\u001b[39;49m\u001b[43mnp\u001b[49m\u001b[38;5;241;43m.\u001b[39;49m\u001b[43mnan\u001b[49m\u001b[43m,\u001b[49m\u001b[43m \u001b[49m\u001b[43mcopy\u001b[49m\u001b[38;5;241;43m=\u001b[39;49m\u001b[38;5;28;43;01mFalse\u001b[39;49;00m\u001b[43m)\u001b[49m\n\u001b[1;32m  11051\u001b[0m \u001b[38;5;28;01mif\u001b[39;00m method \u001b[38;5;241m==\u001b[39m \u001b[38;5;124m\"\u001b[39m\u001b[38;5;124mpearson\u001b[39m\u001b[38;5;124m\"\u001b[39m:\n\u001b[1;32m  11052\u001b[0m     correl \u001b[38;5;241m=\u001b[39m libalgos\u001b[38;5;241m.\u001b[39mnancorr(mat, minp\u001b[38;5;241m=\u001b[39mmin_periods)\n",
      "File \u001b[0;32m~/Library/CloudStorage/OneDrive-Personal/UIDE/2024 Maestría Ciencia de Datos y Máquinas de Aprendizaje mención IA/Contenidos/Notebooks_DataMining/.venv/lib/python3.11/site-packages/pandas/core/frame.py:1993\u001b[0m, in \u001b[0;36mDataFrame.to_numpy\u001b[0;34m(self, dtype, copy, na_value)\u001b[0m\n\u001b[1;32m   1991\u001b[0m \u001b[38;5;28;01mif\u001b[39;00m dtype \u001b[38;5;129;01mis\u001b[39;00m \u001b[38;5;129;01mnot\u001b[39;00m \u001b[38;5;28;01mNone\u001b[39;00m:\n\u001b[1;32m   1992\u001b[0m     dtype \u001b[38;5;241m=\u001b[39m np\u001b[38;5;241m.\u001b[39mdtype(dtype)\n\u001b[0;32m-> 1993\u001b[0m result \u001b[38;5;241m=\u001b[39m \u001b[38;5;28;43mself\u001b[39;49m\u001b[38;5;241;43m.\u001b[39;49m\u001b[43m_mgr\u001b[49m\u001b[38;5;241;43m.\u001b[39;49m\u001b[43mas_array\u001b[49m\u001b[43m(\u001b[49m\u001b[43mdtype\u001b[49m\u001b[38;5;241;43m=\u001b[39;49m\u001b[43mdtype\u001b[49m\u001b[43m,\u001b[49m\u001b[43m \u001b[49m\u001b[43mcopy\u001b[49m\u001b[38;5;241;43m=\u001b[39;49m\u001b[43mcopy\u001b[49m\u001b[43m,\u001b[49m\u001b[43m \u001b[49m\u001b[43mna_value\u001b[49m\u001b[38;5;241;43m=\u001b[39;49m\u001b[43mna_value\u001b[49m\u001b[43m)\u001b[49m\n\u001b[1;32m   1994\u001b[0m \u001b[38;5;28;01mif\u001b[39;00m result\u001b[38;5;241m.\u001b[39mdtype \u001b[38;5;129;01mis\u001b[39;00m \u001b[38;5;129;01mnot\u001b[39;00m dtype:\n\u001b[1;32m   1995\u001b[0m     result \u001b[38;5;241m=\u001b[39m np\u001b[38;5;241m.\u001b[39masarray(result, dtype\u001b[38;5;241m=\u001b[39mdtype)\n",
      "File \u001b[0;32m~/Library/CloudStorage/OneDrive-Personal/UIDE/2024 Maestría Ciencia de Datos y Máquinas de Aprendizaje mención IA/Contenidos/Notebooks_DataMining/.venv/lib/python3.11/site-packages/pandas/core/internals/managers.py:1694\u001b[0m, in \u001b[0;36mBlockManager.as_array\u001b[0;34m(self, dtype, copy, na_value)\u001b[0m\n\u001b[1;32m   1692\u001b[0m         arr\u001b[38;5;241m.\u001b[39mflags\u001b[38;5;241m.\u001b[39mwriteable \u001b[38;5;241m=\u001b[39m \u001b[38;5;28;01mFalse\u001b[39;00m\n\u001b[1;32m   1693\u001b[0m \u001b[38;5;28;01melse\u001b[39;00m:\n\u001b[0;32m-> 1694\u001b[0m     arr \u001b[38;5;241m=\u001b[39m \u001b[38;5;28;43mself\u001b[39;49m\u001b[38;5;241;43m.\u001b[39;49m\u001b[43m_interleave\u001b[49m\u001b[43m(\u001b[49m\u001b[43mdtype\u001b[49m\u001b[38;5;241;43m=\u001b[39;49m\u001b[43mdtype\u001b[49m\u001b[43m,\u001b[49m\u001b[43m \u001b[49m\u001b[43mna_value\u001b[49m\u001b[38;5;241;43m=\u001b[39;49m\u001b[43mna_value\u001b[49m\u001b[43m)\u001b[49m\n\u001b[1;32m   1695\u001b[0m     \u001b[38;5;66;03m# The underlying data was copied within _interleave, so no need\u001b[39;00m\n\u001b[1;32m   1696\u001b[0m     \u001b[38;5;66;03m# to further copy if copy=True or setting na_value\u001b[39;00m\n\u001b[1;32m   1698\u001b[0m \u001b[38;5;28;01mif\u001b[39;00m na_value \u001b[38;5;129;01mis\u001b[39;00m lib\u001b[38;5;241m.\u001b[39mno_default:\n",
      "File \u001b[0;32m~/Library/CloudStorage/OneDrive-Personal/UIDE/2024 Maestría Ciencia de Datos y Máquinas de Aprendizaje mención IA/Contenidos/Notebooks_DataMining/.venv/lib/python3.11/site-packages/pandas/core/internals/managers.py:1753\u001b[0m, in \u001b[0;36mBlockManager._interleave\u001b[0;34m(self, dtype, na_value)\u001b[0m\n\u001b[1;32m   1751\u001b[0m     \u001b[38;5;28;01melse\u001b[39;00m:\n\u001b[1;32m   1752\u001b[0m         arr \u001b[38;5;241m=\u001b[39m blk\u001b[38;5;241m.\u001b[39mget_values(dtype)\n\u001b[0;32m-> 1753\u001b[0m     \u001b[43mresult\u001b[49m\u001b[43m[\u001b[49m\u001b[43mrl\u001b[49m\u001b[38;5;241;43m.\u001b[39;49m\u001b[43mindexer\u001b[49m\u001b[43m]\u001b[49m \u001b[38;5;241m=\u001b[39m arr\n\u001b[1;32m   1754\u001b[0m     itemmask[rl\u001b[38;5;241m.\u001b[39mindexer] \u001b[38;5;241m=\u001b[39m \u001b[38;5;241m1\u001b[39m\n\u001b[1;32m   1756\u001b[0m \u001b[38;5;28;01mif\u001b[39;00m \u001b[38;5;129;01mnot\u001b[39;00m itemmask\u001b[38;5;241m.\u001b[39mall():\n",
      "\u001b[0;31mValueError\u001b[0m: could not convert string to float: 'NEAR BAY'"
     ]
    }
   ],
   "source": [
    "correlation = housing.corr()"
   ]
  },
  {
   "cell_type": "markdown",
   "metadata": {},
   "source": [
    "### **Fase III:** Correlación y perfilado de datos"
   ]
  },
  {
   "cell_type": "code",
   "execution_count": null,
   "metadata": {},
   "outputs": [],
   "source": [
    "# TODO: Calcula la correlación de Pearson de todas las columnas numéricas\n",
    "# Busca patrones interesantes en los datos.\n",
    "correlation = ____\n",
    "print(correlation)"
   ]
  },
  {
   "cell_type": "markdown",
   "metadata": {},
   "source": [
    "Algunos patrones interesantes que se pueden encontrar en el análisis de correlación del conjunto de datos de viviendas de California podrían ser:\n",
    "\n",
    "1. `median_income` y `median_house_value`: Podría existir una correlación positiva fuerte entre estas dos variables. Esto significa que a medida que el ingreso medio aumenta, también lo hace el valor medio de la vivienda. Esto tiene sentido, ya que las áreas con mayores ingresos tienden a tener viviendas más caras.\n",
    "\n",
    "2. `latitude` y `median_house_value`: Podría existir una correlación negativa entre estas dos variables. Esto significa que a medida que nos movemos hacia el norte (aumenta la latitud), el valor medio de la vivienda tiende a disminuir. Esto podría indicar que las viviendas en el sur de California tienden a ser más caras que las del norte.\n",
    "\n",
    "3. `total_rooms` y `population`: Podría existir una correlación positiva entre estas dos variables. Esto significa que a medida que la población aumenta, también lo hace el número total de habitaciones. Esto tiene sentido, ya que las áreas con más población tienden a tener más viviendas y, por lo tanto, más habitaciones.\n",
    "\n",
    "Estos son solo ejemplos de patrones que podrían encontrarse en el análisis de correlación. Los patrones reales dependerán de los datos específicos en el conjunto de datos de viviendas de California."
   ]
  },
  {
   "cell_type": "code",
   "execution_count": null,
   "metadata": {},
   "outputs": [],
   "source": [
    "# Instala 'ydata-profiling' (Pandas Profiling) en el ambiente de desarrollo\n",
    "!pip install ydata-profiling"
   ]
  },
  {
   "cell_type": "code",
   "execution_count": 8,
   "metadata": {},
   "outputs": [
    {
     "name": "stderr",
     "output_type": "stream",
     "text": [
      "/Users/eugenio/Library/CloudStorage/OneDrive-Personal/UIDE/2024 Maestría Ciencia de Datos y Máquinas de Aprendizaje mención IA/Contenidos/Notebooks_DataMining/.venv/lib/python3.11/site-packages/tqdm/auto.py:21: TqdmWarning: IProgress not found. Please update jupyter and ipywidgets. See https://ipywidgets.readthedocs.io/en/stable/user_install.html\n",
      "  from .autonotebook import tqdm as notebook_tqdm\n"
     ]
    }
   ],
   "source": [
    "# Importa la clase ProfileReport de ydata-profiling\n",
    "\n",
    "from ydata_profiling import ProfileReport\n"
   ]
  },
  {
   "cell_type": "code",
   "execution_count": 12,
   "metadata": {},
   "outputs": [
    {
     "name": "stderr",
     "output_type": "stream",
     "text": [
      "Summarize dataset:  71%|███████   | 12/17 [00:00<00:00, 12.27it/s, Calculate auto correlation]         /Users/eugenio/Library/CloudStorage/OneDrive-Personal/UIDE/2024 Maestría Ciencia de Datos y Máquinas de Aprendizaje mención IA/Contenidos/Notebooks_DataMining/.venv/lib/python3.11/site-packages/ydata_profiling/model/correlations.py:66: UserWarning: There was an attempt to calculate the auto correlation, but this failed.\n",
      "To hide this warning, disable the calculation\n",
      "(using `df.profile_report(correlations={\"auto\": {\"calculate\": False}})`\n",
      "If this is problematic for your use case, please report this as an issue:\n",
      "https://github.com/ydataai/ydata-profiling/issues\n",
      "(include the error message: 'could not convert string to float: 'NEAR BAY'')\n",
      "  warnings.warn(\n",
      "Summarize dataset: 100%|██████████| 100/100 [00:19<00:00,  5.22it/s, Completed]                                   \n",
      "Generate report structure: 100%|██████████| 1/1 [00:06<00:00,  6.70s/it]\n",
      "Render widgets:   0%|          | 0/1 [00:00<?, ?it/s]"
     ]
    }
   ],
   "source": [
    "# TODO: Utiliza Pandas Profiler para generar un informe de perfilado de datos\n",
    "\n",
    "profile = ProfileReport(housing, title='Reporte Perfilamiento de Datos', explorative=True)\n",
    "profile.to_notebook_iframe()"
   ]
  },
  {
   "cell_type": "code",
   "execution_count": null,
   "metadata": {},
   "outputs": [],
   "source": [
    "### Cuestionario Validador\n",
    "# Explora el informe y busca más patrones en los datos\n",
    "\n",
    "# 1) ¿qué variables están fuertemente correlacionadas con 'MEDV'?"
   ]
  },
  {
   "cell_type": "markdown",
   "metadata": {},
   "source": [
    "### **Resolución:**"
   ]
  },
  {
   "cell_type": "code",
   "execution_count": null,
   "metadata": {},
   "outputs": [],
   "source": [
    "# Importamos las librerías 'pandas' con alias 'pd' y 'seaborn' con alias 'sns'\n",
    "import pandas as pd\n",
    "import seaborn as sns\n",
    "\n",
    "# Cargamos el conjunto de datos 'california_housing_prices.csv' en un DataFrame llamado 'housing'\n",
    "housing = pd.read_csv('/Users/eugenio/Library/CloudStorage/OneDrive-Personal/UIDE/2024 Maestría Ciencia de Datos y Máquinas de Aprendizaje mención IA/Contenidos/Notebooks_DataMining/Bases de Datos/california_housing_prices.csv')\n",
    "\n",
    "# Utilizamos el método 'head()' para visualizar las primeras 15 filas del DataFrame\n",
    "housing.head(15)\n",
    "\n",
    "# Utilizamos el método describe() para obtener estadísticas descriptivas del DataFrame\n",
    "housing.describe()\n",
    "\n",
    "# Utilizamos el método info() para obtener información sobre el DataFrame\n",
    "housing.info()\n",
    "\n",
    "# Utilizamos el método 'hist()' de 'pandas' para visualizar un histograma de todas las columnas del DataFrame\n",
    "housing.hist(figsize=(20, 15))\n",
    "\n",
    "# Usamos la librería 'seaborn' para visualizar un 'scatterplot' (gráfico de dispersión) de las columnas 'longitude' y 'latitude' de las viviendas en California\n",
    "sns.scatterplot(x='longitude', y='latitude', data=housing)\n",
    "\n",
    "# Usamos la librería 'seaborn' para visualizar un 'scatterplot' (gráfico de dispersión) de las columnas 'longitude' y 'latitude' de las viviendas en California, con la intensidad del color representando el precio de la vivienda\n",
    "sns.scatterplot(x='longitude', y='latitude', data=housing, alpha=0.1, hue='median_house_value')\n",
    "\n",
    "# Buscamos patrones interesantes en los datos utilizando el método 'corr()' de 'pandas' para calcular la correlación entre las columnas del DataFrame\n",
    "correlation = housing.corr()"
   ]
  }
 ],
 "metadata": {
  "kernelspec": {
   "display_name": ".venv",
   "language": "python",
   "name": "python3"
  },
  "language_info": {
   "codemirror_mode": {
    "name": "ipython",
    "version": 3
   },
   "file_extension": ".py",
   "mimetype": "text/x-python",
   "name": "python",
   "nbconvert_exporter": "python",
   "pygments_lexer": "ipython3",
   "version": "3.11.3"
  }
 },
 "nbformat": 4,
 "nbformat_minor": 2
}
